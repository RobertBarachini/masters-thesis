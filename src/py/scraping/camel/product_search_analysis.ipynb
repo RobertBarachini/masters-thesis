{
 "cells": [
  {
   "cell_type": "code",
   "execution_count": null,
   "metadata": {},
   "outputs": [],
   "source": [
    "import os\n",
    "import json\n",
    "import time\n",
    "from bs4 import BeautifulSoup as bs\n",
    "from bs4.element import Tag\n",
    "from typing import Tuple"
   ]
  },
  {
   "cell_type": "code",
   "execution_count": null,
   "metadata": {},
   "outputs": [],
   "source": [
    "html_output_path_root = \"data/scraped/camel/search\"  # product HTML files are stored here\n",
    "json_output_path = \"data/scraped/camel/parsed-products.json\"  # product JSON files are stored here"
   ]
  },
  {
   "cell_type": "code",
   "execution_count": null,
   "metadata": {},
   "outputs": [],
   "source": [
    "def get_file_list(path):\n",
    "\tfile_list = []\n",
    "\tfor root, dirs, files in os.walk(path):\n",
    "\t\tfor file in files:\n",
    "\t\t\tfile_list.append(os.path.join(root, file))\n",
    "\treturn file_list"
   ]
  },
  {
   "cell_type": "code",
   "execution_count": null,
   "metadata": {},
   "outputs": [],
   "source": [
    "files = get_file_list(html_output_path_root)\n",
    "print(f\"Total files: {len(files)}\")\n",
    "sample_filepath = files[0]\n",
    "print(f\"Sample file: {sample_filepath}\")"
   ]
  },
  {
   "cell_type": "code",
   "execution_count": null,
   "metadata": {},
   "outputs": [],
   "source": [
    "def get_bs_obj(file):\n",
    "\twith open(file, \"r\") as f:\n",
    "\t\thtml = f.read()\n",
    "\t\tbs_obj = bs(html, \"html.parser\")\n",
    "\treturn bs_obj"
   ]
  },
  {
   "cell_type": "code",
   "execution_count": null,
   "metadata": {},
   "outputs": [],
   "source": [
    "bs_example = get_bs_obj(sample_filepath)\n",
    "print(bs_example.prettify()) #[:500])"
   ]
  },
  {
   "cell_type": "code",
   "execution_count": null,
   "metadata": {},
   "outputs": [],
   "source": [
    "def get_page_type(page: bs) -> str:\n",
    "\t\"\"\"\n",
    "\tIdentify the type of page based on the structure of the HTML.\n",
    "\t\"\"\"\n",
    "\t# Selenium locators:\n",
    "\t# LOCATOR_SEARCH_RESULTS = (By.CSS_SELECTOR,\n",
    "\t#                         \"#content > div.grid-x.grid-margin-x.search_results\")\n",
    "\t# LOCATOR_INCLUDE_NOT_IN_STOCK = (By.CSS_SELECTOR,\n",
    "\t#                               \"#content > form:nth-child(9) > input.button\")\n",
    "\t# LOCATOR_HIGH_VOLUME_OF_SEARCHES = (By.CSS_SELECTOR, \".alert-callout-border\")\n",
    "\t# LOCATOR_SINGLE_PRODUCT = (\n",
    "\t# \t\tBy.CSS_SELECTOR,\n",
    "\t# \t\t\"div.grid-x:nth-child(12) > div:nth-child(1) > h3:nth-child(1) > a:nth-child(1)\"\n",
    "\t# )  # when a product search returns a single product page directly\n",
    "\tif page.select_one(\"#content > div.grid-x.grid-margin-x.search_results\"):\n",
    "\t\treturn \"search_results\"\n",
    "\telif page.select_one(\"#content > form:nth-child(9) > input.button\"):\n",
    "\t\treturn \"not_in_stock\"\n",
    "\telif page.select_one(\".alert-callout-border\"):\n",
    "\t\treturn \"high_volume_of_searches\"\n",
    "\telif page.select_one(\n",
    "\t    \"div.grid-x:nth-child(12) > div:nth-child(1) > h3:nth-child(1) > a:nth-child(1)\"\n",
    "\t):\n",
    "\t\treturn \"single_product\"\n",
    "\telif page.select_one(\"#signup_head\"): # <h2 class=\"notopmargin\" id=\"signup_head\"> means we have the main page\n",
    "\t\treturn \"main_page\"\n",
    "\telse:\n",
    "\t\treturn \"unknown\""
   ]
  },
  {
   "cell_type": "code",
   "execution_count": null,
   "metadata": {},
   "outputs": [],
   "source": [
    "page_type = get_page_type(bs_example)\n",
    "print(f\"Page type: {page_type}\")"
   ]
  },
  {
   "cell_type": "code",
   "execution_count": null,
   "metadata": {},
   "outputs": [],
   "source": [
    "def parse_search_results(page: bs) -> list:\n",
    "\t\"\"\"\n",
    "\tParse the search results page and return a list of product URLs.\n",
    "\t\"\"\"\n",
    "\tproducts = []  # list of objects\n",
    "\tproduct_elements = page.select(\n",
    "\t    \"#content > div.grid-x.grid-margin-x.search_results > div\")\n",
    "\tfor product_element in product_elements:\n",
    "\t\t#\tlink element is <a> tag with class of \"camels\" and attribute x-camel-place=\"Search - Title\"\n",
    "\t\tlink_elements = product_element.select(\"a.camels\")\n",
    "\t\tlink_element = None  # type: Tag\n",
    "\t\tfor link_element in link_elements:\n",
    "\t\t\t# print(link_element.text)\n",
    "\t\t\tif \"x-camel-place\" in link_element.attrs and link_element.attrs[\n",
    "\t\t\t    \"x-camel-place\"] == \"Search - Title\":\n",
    "\t\t\t\tlink_element = link_element\n",
    "\t\t\t\tbreak\n",
    "\t\tif not link_element:\n",
    "\t\t\tcontinue\n",
    "\t\turl = str(link_element[\"href\"])\n",
    "\t\ttitle = link_element.text.strip()\n",
    "\t\t# asin is from link_element x-camel-asin attribute\n",
    "\t\tasin = str(link_element.attrs[\"x-camel-asin\"]).strip()\n",
    "\t\tproduct = {\n",
    "\t\t\t\"title\": title,\n",
    "\t\t\t\"asin\": asin,\n",
    "\t\t\t# \"url\": url\n",
    "\t\t}\n",
    "\t\tproducts.append(product)\n",
    "\treturn products\n"
   ]
  },
  {
   "cell_type": "code",
   "execution_count": null,
   "metadata": {},
   "outputs": [],
   "source": [
    "products_list = parse_search_results(bs_example)\n",
    "print(f\"Total products: {len(products_list)}\")\n",
    "print(f\"Example product: {json.dumps(products_list[0], indent=2)}\")\n",
    "print(\"Other products:\")\n",
    "for product in products_list:\n",
    "\tprint(f\"{product['asin']}: {product['title']}\")"
   ]
  },
  {
   "cell_type": "code",
   "execution_count": null,
   "metadata": {},
   "outputs": [],
   "source": [
    "def parse_single_product(page: bs) -> dict:\n",
    "\t'''\n",
    "\tParse a single product page and return a dictionary of product attributes.\n",
    "\t'''\n",
    "\tproduct = {}\n",
    "\t# title - <title> tag text\n",
    "\ttitle_element = page.select_one(\"title\")\n",
    "\tif title_element:\n",
    "\t\tproduct[\"title\"] = title_element.text.split(\"|\")[0].strip()\n",
    "\telse:\n",
    "\t\tproduct[\"title\"] = None\n",
    "\t# asin - x-camel-asin attribute of element with id=\"buybtn_price_amazon\"\n",
    "\tasin_element = page.select_one(\"#buybtn_price_amazon\")\n",
    "\tif asin_element:\n",
    "\t\tproduct[\"asin\"] = asin_element.attrs[\"x-camel-asin\"].strip()\n",
    "\telse:\n",
    "\t\tproduct[\"asin\"] = None\n",
    "\treturn product\n",
    "\t"
   ]
  },
  {
   "cell_type": "code",
   "execution_count": null,
   "metadata": {},
   "outputs": [],
   "source": [
    "def process_pages(files: list) -> dict:\n",
    "\t\"\"\"\n",
    "\tProcesses pages from the list of HTML files and returns a dictionary of parsed results.\n",
    "\t\"\"\"\n",
    "\tresults = {}\n",
    "\ttime_start = time.time()\n",
    "\tprint(f\"Processing {len(files)} files...\")\n",
    "\tfor i, file in enumerate(files):\n",
    "\t\tprint(f\"\\rProcessing file {i+1} / {len(files)}\", end=\"\")\n",
    "\t\tbs_obj = get_bs_obj(file)\n",
    "\t\tpage_type = get_page_type(bs_obj)\n",
    "\t\tif page_type == \"search_results\":\n",
    "\t\t\tproducts_list = parse_search_results(bs_obj)\n",
    "\t\t\tresults[file] = {\n",
    "\t\t\t\t\"page_type\": page_type,\n",
    "\t\t\t\t\"from_file\": file,\n",
    "\t\t\t\t\"products\": products_list\n",
    "\t\t\t}\n",
    "\t\telif page_type == \"single_product\":\n",
    "\t\t\tproduct = parse_single_product(bs_obj)\n",
    "\t\t\tresults[file] = {\n",
    "\t\t\t\t\"page_type\": page_type,\n",
    "\t\t\t\t\"from_file\": file,\n",
    "\t\t\t\t\"product\": product\n",
    "\t\t\t}\n",
    "\t\telif page_type == \"not_in_stock\":\n",
    "\t\t\tresults[file] = {\n",
    "\t\t\t\t\"page_type\": page_type,\n",
    "\t\t\t\t\"from_file\": file\n",
    "\t\t\t}\n",
    "\t\telif page_type == \"high_volume_of_searches\":\n",
    "\t\t\tresults[file] = {\n",
    "\t\t\t\t\"page_type\": page_type,\n",
    "\t\t\t\t\"from_file\": file\n",
    "\t\t\t}\n",
    "\t\telif page_type == \"main_page\":\n",
    "\t\t\tresults[file] = {\n",
    "\t\t\t\t\"page_type\": page_type,\n",
    "\t\t\t\t\"from_file\": file\n",
    "\t\t\t}\n",
    "\t\telse:\n",
    "\t\t\tresults[file] = {\n",
    "\t\t\t\t\"page_type\": page_type,\n",
    "\t\t\t\t\"from_file\": file\n",
    "\t\t\t}\n",
    "\ttime_end = time.time()\n",
    "\tprint(f\"\\nProcessing took {time_end - time_start} seconds\")\n",
    "\treturn results\n",
    "\n",
    "def get_processed_pages_statistics(processed_pages: dict) -> dict:\n",
    "\t\"\"\"\n",
    "\tReturns a dictionary of statistics about the processed pages.\n",
    "\t\"\"\"\n",
    "\tstatistics = {\n",
    "\t\t\"total_pages\": len(processed_pages),\n",
    "\t\t\"search_results\": 0,\n",
    "\t\t\"single_product\": 0,\n",
    "\t\t\"not_in_stock\": 0,\n",
    "\t\t\"high_volume_of_searches\": 0,\n",
    "\t\t\"main_page\": 0,\n",
    "\t\t\"unknown\": 0\n",
    "\t}\n",
    "\tfor page in processed_pages:\n",
    "\t\tpage_type = processed_pages[page][\"page_type\"]\n",
    "\t\tstatistics[page_type] += 1\n",
    "\treturn statistics\n",
    "\n"
   ]
  },
  {
   "cell_type": "code",
   "execution_count": null,
   "metadata": {},
   "outputs": [],
   "source": [
    "processed_pages = process_pages(files)"
   ]
  },
  {
   "cell_type": "code",
   "execution_count": null,
   "metadata": {},
   "outputs": [],
   "source": [
    "processed_pages_statistics = get_processed_pages_statistics(processed_pages)\n",
    "print(f\"Processed pages statistics: {json.dumps(processed_pages_statistics, indent=2)}\")"
   ]
  },
  {
   "cell_type": "code",
   "execution_count": null,
   "metadata": {},
   "outputs": [],
   "source": [
    "def get_products(processed_pages: dict) -> Tuple[dict, dict]:\n",
    "\tproducts = {}\n",
    "\tduplicate_asins = {}\n",
    "\tfor page in processed_pages.values():\n",
    "\t\tif page[\"page_type\"] == \"search_results\":\n",
    "\t\t\tfor product in page[\"products\"]:\n",
    "\t\t\t\t# product[\"title\"] = product[\"title\"][:-12] # remove (ASIN) from title # TODO: make this idempotent\n",
    "\t\t\t\tproduct[\"page_type\"] = page[\"page_type\"]\n",
    "\t\t\t\tproduct[\"from_file\"] = page[\"from_file\"]\n",
    "\t\t\t\tif product[\"asin\"] not in products:\n",
    "\t\t\t\t\tproducts[product[\"asin\"]] = product\n",
    "\t\t\t\telse:\n",
    "\t\t\t\t\tif product[\"asin\"] not in duplicate_asins:\n",
    "\t\t\t\t\t\tduplicate_asins[product[\"asin\"]] = 0\n",
    "\t\t\t\t\tduplicate_asins[product[\"asin\"]] += 1\n",
    "\t\telif page[\"page_type\"] == \"single_product\":\n",
    "\t\t\tproduct = page[\"product\"]\n",
    "\t\t\tproduct[\"page_type\"] = page[\"page_type\"]\n",
    "\t\t\tproduct[\"from_file\"] = page[\"from_file\"]\n",
    "\t\t\tif product[\"asin\"] not in products:\n",
    "\t\t\t\tproducts[product[\"asin\"]] = product\n",
    "\t\t\telse:\n",
    "\t\t\t\tif product[\"asin\"] not in duplicate_asins:\n",
    "\t\t\t\t\tduplicate_asins[product[\"asin\"]] = 0\n",
    "\t\t\t\tduplicate_asins[product[\"asin\"]] += 1\n",
    "\treturn products, duplicate_asins\n",
    "\n",
    "products, duplicate_asins = get_products(processed_pages)\n",
    "duplicates_instances = len(duplicate_asins)\n",
    "duplicates_count = sum(duplicate_asins.values())\n",
    "print(f\"Total unique products: {len(products)}\")\n",
    "print(f\"Total duplicate ASINs: {duplicates_instances}\")\n",
    "print(f\"Total duplicate ASINs count: {duplicates_count}\")\n",
    "print(f\"Product example: {json.dumps(list(products.values())[0], indent=2)}\")"
   ]
  },
  {
   "cell_type": "code",
   "execution_count": null,
   "metadata": {},
   "outputs": [],
   "source": [
    "# Write to JSON file\n",
    "with open(json_output_path, \"w\") as f:\n",
    "\tjson.dump(products, f, indent=2)\n",
    "print(f\"Written to '{json_output_path}'\")"
   ]
  }
 ],
 "metadata": {
  "kernelspec": {
   "display_name": "thesis",
   "language": "python",
   "name": "python3"
  },
  "language_info": {
   "codemirror_mode": {
    "name": "ipython",
    "version": 3
   },
   "file_extension": ".py",
   "mimetype": "text/x-python",
   "name": "python",
   "nbconvert_exporter": "python",
   "pygments_lexer": "ipython3",
   "version": "3.11.3"
  }
 },
 "nbformat": 4,
 "nbformat_minor": 2
}
