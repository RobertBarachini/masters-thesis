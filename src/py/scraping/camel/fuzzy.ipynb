{
 "cells": [
  {
   "attachments": {},
   "cell_type": "markdown",
   "metadata": {},
   "source": [
    "# Testing the fuzzy matching"
   ]
  },
  {
   "attachments": {},
   "cell_type": "markdown",
   "metadata": {},
   "source": [
    "TODO:\n",
    "* 429 response: \"Enable JavaScript and cookies to continue\" (Cloudflare challenge) - find the limit (requests per second)\n",
    "\t- keep track of RPS (requests per second) and if it's too high, sleep for a bit - if you get anything other than 200, sleep for a bit - especially if you get 429\n",
    "\t- in the future use a hard limit for RPS (that found from tests + a bit of a buffer)\n",
    "* don't run headless - wait for user input when presented with a challenge\n",
    "\t- how do you know when you're presented with a challenge?\n",
    "* don't run in parallel - it's not necessary for now\n",
    "* don't use the same user agent for all requests - use a list of user agents and rotate through them\n"
   ]
  },
  {
   "attachments": {},
   "cell_type": "markdown",
   "metadata": {},
   "source": [
    "Try matching by key/title/model(s)\n",
    "```json\n",
    "key: \"amd-ryzen-7-2700x\"\n",
    "title: \"AMD Ryzen 7 2700X 8-Core 3.7GHz (4.3GHz Max Boost) Socket AM4 105W YD270XBGAFBOX\"\n",
    "model: \"YD270XBGAFBOX\"\n",
    "\n",
    "key: \"nvidia-geforce-rtx-3060-ti-founders-edition\"\n",
    "title: \"NVIDIA GeForce RTX 3060 Ti Founders Edition 8GB GDDR6 PCI Express 4.0 900-1G142-2520-000\"\n",
    "model: \"900-1G142-2520-000\\n9001G1422520000\"\n",
    "\n",
    "key: \"gigabyte-geforce-rtx-2060-super-gaming-oc-white-8g\"\n",
    "title: \"Gigabyte GeForce RTX 2060 Super Gaming OC White 8G 3X Windforce 8GB 256-Bit GDDR6 Gv-N206SGAMINGOC White-8GD\"\n",
    "model: \"GV-N206SGAMING OC WHITE-8GD\"\n",
    "```"
   ]
  },
  {
   "cell_type": "code",
   "execution_count": null,
   "metadata": {},
   "outputs": [],
   "source": [
    "# imports\n",
    "import os\n",
    "import requests\n",
    "import rapidfuzz"
   ]
  },
  {
   "cell_type": "code",
   "execution_count": null,
   "metadata": {},
   "outputs": [],
   "source": [
    "# globals and constants\n",
    "path_pages_index = \"data/scraped/camel/pages/index\"\n",
    "sq = \"\""
   ]
  },
  {
   "cell_type": "code",
   "execution_count": null,
   "metadata": {},
   "outputs": [],
   "source": [
    "s = \"amd ryzen 7 2700x\"\n",
    "a = [\"AMD Ryzen 7 2700X Processor with Wraith Prism LED Cooler - YD270XBGAFBOX (B07B428M7F)\",\n",
    "\t\"AMD Ryzen 7 2700X Processor with Wraith Prism LED Cooler - YD270XBGAFBOX (B084WNTQQN)\",\n",
    "\t\"AMD Ryzen 7 2700X AMD50 Gold Edition 3.7 GHz (4.3 GHz Max Boost) Socket AM4 YD270XBGAFA50 Desktop Processor (B07R38G4MR)\",\n",
    "  \"AMD Ryzen 2nd Gen 7 2700X - 4.3 GHz Eight Core (YD270XBGM88AF) Processor OEM VER with Thermal Paste Bundle (B07XLTZB3F)\",\n",
    "  \"AMD Ryzen 7 5700X 8-Core, 16-Thread Unlocked Desktop Processor (B09VCHQHZ6)\",\n",
    "\"AMD Ryzen 5 5600X 6-core, 12-Thread Unlocked Desktop Processor with Wraith Stealth Cooler (B08166SLDF)\",\n",
    "\"AMD Ryzen 7 5800X 8-core, 16-Thread Unlocked Desktop Processor (B0815XFSGK)\",\n",
    "\"AMD Ryzen 7 5800X3D 8-core, 16-Thread Desktop Processor with AMD 3D V-Cache Technology (B09VCJ2SHD)\",\n",
    "\"AMD Ryzen 7 7700X 8-Core, 16-Thread Unlocked Desktop Processor (B0BBHHT8LY)\"]\n",
    "\n",
    "a = [x.lower() for x in a]\n",
    "\n",
    "# use process.extract \n",
    "\n",
    "rapidfuzz.process.extract(s, a, limit=None, scorer=rapidfuzz.fuzz.partial_token_sort_ratio)\n",
    "    "
   ]
  }
 ],
 "metadata": {
  "kernelspec": {
   "display_name": "thesis",
   "language": "python",
   "name": "python3"
  },
  "language_info": {
   "codemirror_mode": {
    "name": "ipython",
    "version": 3
   },
   "file_extension": ".py",
   "mimetype": "text/x-python",
   "name": "python",
   "nbconvert_exporter": "python",
   "pygments_lexer": "ipython3",
   "version": "3.11.3"
  }
 },
 "nbformat": 4,
 "nbformat_minor": 2
}
