{
 "cells": [
  {
   "cell_type": "code",
   "execution_count": null,
   "metadata": {},
   "outputs": [],
   "source": [
    "import os\n",
    "import json\n",
    "import requests\n",
    "import pandas as pd\n",
    "from plotly import graph_objs as go"
   ]
  },
  {
   "cell_type": "code",
   "execution_count": null,
   "metadata": {},
   "outputs": [],
   "source": [
    "# https://ec.europa.eu/eurostat/databrowser/view/prc_hicp_midx/default/table?lang=en\n",
    "url_dataset = \"https://ec.europa.eu/eurostat/api/dissemination/sdmx/2.1/data/prc_hicp_midx?format=TSV&compressed=false\"\n",
    "url_dimensions = \"https://ec.europa.eu/eurostat/databrowser-backend/api/card/1.0/LIVE/json/en/prc_hicp_manr/dimensions?stub=false&filtered=true\"\n",
    "path_output_root = \"data/scraped/eurostat\"\n",
    "path_output_csv = os.path.join(path_output_root, \"estat_prc_hicp_midx-custom.csv\")\n",
    "path_output_dimensions = os.path.join(path_output_root, \"estat_prc_hicp_midx_dimensions.json\")\n",
    "user_agent = \"Mozilla/5.0 (Windows NT 10.0; Win64; x64) AppleWebKit/537.36 (KHTML, like Gecko) Chrome/120.0.0.0 Safari/537.36\"\n",
    "can_overwrite = False"
   ]
  },
  {
   "cell_type": "code",
   "execution_count": null,
   "metadata": {},
   "outputs": [],
   "source": [
    "# Custom from https://ec.europa.eu/eurostat/databrowser/view/prc_hicp_midx__custom_10964667/default/table?lang=en\n",
    "url_dataset = \"\"\"https://ec.europa.eu/eurostat/api/dissemination/sdmx/3.0/data/dataflow/ESTAT/prc_hicp_midx/1.0/*.*.*.*?c[freq]=M&c[unit]=I15&c[coicop]=CP091,CP0911,CP09111,CP09112,CP09113,CP09119,CP0912,CP09121,CP09122,CP09123,CP0913,CP09131,CP09132,CP09133,CP09134,CP0914,CP09141,CP09142,CP09149,CP0915&c[geo]=EU,EU27_2020,EU28,EA,EA20,EA19,BE,BG,CZ,DK,DE,EE,IE,EL,ES,FR,HR,IT,CY,LV,LT,LU,HU,MT,NL,AT,PL,PT,RO,SI,SK,FI,SE,EEA,IS,NO,CH,UK,ME,MK,AL,RS,TR,XK,US&compress=false&format=csvdata&formatVersion=2.0&c[time]=2024-03,2024-02,2024-01,2023-12,2023-11,2023-10,2023-09,2023-08,2023-07,2023-06,2023-05,2023-04,2023-03,2023-02,2023-01,2022-12,2022-11,2022-10,2022-09,2022-08,2022-07,2022-06,2022-05,2022-04,2022-03,2022-02,2022-01,2021-12,2021-11,2021-10,2021-09,2021-08,2021-07,2021-06,2021-05,2021-04,2021-03,2021-02,2021-01,2020-12,2020-11,2020-10,2020-09,2020-08,2020-07,2020-06,2020-05,2020-04,2020-03,2020-02,2020-01,2019-12,2019-11,2019-10,2019-09,2019-08,2019-07,2019-06,2019-05,2019-04,2019-03,2019-02,2019-01,2018-12,2018-11,2018-10,2018-09,2018-08,2018-07,2018-06,2018-05,2018-04,2018-03,2018-02,2018-01,2017-12,2017-11,2017-10,2017-09,2017-08,2017-07,2017-06,2017-05,2017-04,2017-03,2017-02,2017-01,2016-12,2016-11,2016-10,2016-09,2016-08,2016-07,2016-06,2016-05,2016-04,2016-03,2016-02,2016-01,2015-12,2015-11,2015-10,2015-09,2015-08,2015-07,2015-06,2015-05,2015-04,2015-03,2015-02,2015-01\"\"\"\n",
    "# url filter selecting by \"CP091...\" I15"
   ]
  },
  {
   "cell_type": "code",
   "execution_count": null,
   "metadata": {},
   "outputs": [],
   "source": [
    "if not os.path.exists(path_output_root):\n",
    "\tos.makedirs(path_output_root)\n",
    "\n",
    "if not os.path.exists(path_output_csv) or can_overwrite:\n",
    "\tprint(\"Downloading CSV...\")\n",
    "\theaders = {\n",
    "\t\t\"User-Agent\": user_agent\n",
    "\t}\n",
    "\tresponse = requests.get(url_dataset, headers=headers)\n",
    "\twith open(path_output_csv, \"wb\") as file:\n",
    "\t\t# file.write(response.content)\n",
    "\t\tfile.write(response.text.encode(\"utf-8\"))\n",
    "\tprint(\"Done.\")\n",
    "else:\n",
    "\tprint(\"CSV already exists - set can_overwrite to True to overwrite.\")"
   ]
  },
  {
   "cell_type": "code",
   "execution_count": null,
   "metadata": {},
   "outputs": [],
   "source": [
    "if not os.path.exists(path_output_dimensions) or can_overwrite:\n",
    "\tprint(\"Downloading dimensions JSON...\")\n",
    "\theaders = {\n",
    "\t\t\"User-Agent\": user_agent\n",
    "\t}\n",
    "\tresponse = requests.get(url_dimensions, headers=headers)\n",
    "\twith open(path_output_dimensions, \"w\") as file:\n",
    "\t\tfile.write(response.text)\n",
    "\tprint(\"Done.\")\n",
    "else:\n",
    "\tprint(\"Dimensions JSON already exists - set can_overwrite to True to overwrite.\")"
   ]
  },
  {
   "cell_type": "code",
   "execution_count": null,
   "metadata": {},
   "outputs": [],
   "source": [
    "# Definitions: https://webgate.ec.europa.eu/sdmxregistry/\n",
    "# Classes: https://showvoc.op.europa.eu/#/datasets/ESTAT_European_Classification_of_Individual_Consumption_according_to_Purpose_%28ECOICOP%29/data?resId=http:%2F%2Fdata.europa.eu%2Fed1%2Fecoicop%2Fclasses"
   ]
  },
  {
   "cell_type": "code",
   "execution_count": null,
   "metadata": {},
   "outputs": [],
   "source": [
    "df = pd.read_csv(path_output_csv)\n",
    "# remove STRUCTURE, STRUCTURE_ID, OBS_FLAG\n",
    "df = df.drop(columns=[\"STRUCTURE\", \"STRUCTURE_ID\", \"OBS_FLAG\"])\n",
    "# force missing (empty) cells to NaN\n",
    "df = df.replace(\"\", float(\"nan\"))\n",
    "# set TIME_PERIOD as datetime\n",
    "df[\"TIME_PERIOD\"] = pd.to_datetime(df[\"TIME_PERIOD\"])\n",
    "# add 1 month to TIME_PERIOD\n",
    "df[\"TIME_PERIOD\"] = df[\"TIME_PERIOD\"] + pd.DateOffset(months=1)\n",
    "# minus 1 year\n",
    "# df[\"TIME_PERIOD\"] = df[\"TIME_PERIOD\"] - pd.DateOffset(years=1) # type: ignore\n",
    "df = df.set_index(\"TIME_PERIOD\")\n",
    "df.head()"
   ]
  },
  {
   "cell_type": "code",
   "execution_count": null,
   "metadata": {},
   "outputs": [],
   "source": [
    "dimensions = json.load(open(path_output_dimensions))\n",
    "dimensions.keys()"
   ]
  },
  {
   "cell_type": "code",
   "execution_count": null,
   "metadata": {},
   "outputs": [],
   "source": [
    "def get_dimension_name(dimension_id: str) -> str:\n",
    "\treturn dimensions[\"link\"][\"item\"][2][\"category\"][\"label\"][dimension_id]\n",
    "\n",
    "print(get_dimension_name(\"CP09131\"))"
   ]
  },
  {
   "cell_type": "code",
   "execution_count": null,
   "metadata": {},
   "outputs": [],
   "source": [
    "def find_dimension_ids(search_query: str) -> list:\n",
    "\tresults = []\n",
    "\tfor key, value in dimensions[\"link\"][\"item\"][2][\"category\"][\"label\"].items():\n",
    "\t\tif search_query.lower() in value.lower():\n",
    "\t\t\tresults.append((key, value))\n",
    "\t# sort by first element (dimension ID)\n",
    "\tresults = sorted(results, key=lambda x: x[0])\n",
    "\treturn results\n",
    "\n",
    "query = \"graph\"\n",
    "res = find_dimension_ids(query)\n",
    "print(f\"Found {len(res)} results for '{query}':\")\n",
    "print(json.dumps(res, indent=2))"
   ]
  },
  {
   "cell_type": "code",
   "execution_count": null,
   "metadata": {},
   "outputs": [],
   "source": [
    "# get_dimension_name(\"CPC45230\")\n",
    "get_dimension_name(\"CP0913\")"
   ]
  },
  {
   "cell_type": "code",
   "execution_count": null,
   "metadata": {},
   "outputs": [],
   "source": [
    "# find_dimension_ids(\"electronic\")\n",
    "# find_dimension_ids(\"process\")\n",
    "find_dimension_ids(\"information\")\n",
    "# CP0913 - information processing equipment"
   ]
  },
  {
   "cell_type": "code",
   "execution_count": null,
   "metadata": {},
   "outputs": [],
   "source": [
    "def get_fig(coicop_id: str, countries: list[str], start_month: str, end_month: str) -> go.Figure:\n",
    "\tdf_id = df[df[\"coicop\"] == coicop_id]\n",
    "\tfig = go.Figure()\n",
    "\t# countries = df_id[\"geo\"].unique()\n",
    "\tfor country in countries:\n",
    "\t\tdf_country = df_id[(df_id[\"geo\"] == country) & (df_id[\"unit\"] == \"I15\")]\n",
    "\t\tdf_country = df_country[(df_country.index >= start_month) & (df_country.index <= end_month)]\n",
    "\t\tfig.add_trace(go.Scatter(\n",
    "\t\t\tx=df_country.index,\n",
    "\t\t\ty=df_country[\"OBS_VALUE\"],\n",
    "\t\t\tmode=\"lines\",\n",
    "\t\t\tname=country\n",
    "\t\t))\n",
    "\tfig.update_layout(\n",
    "\t\ttitle=f\"HICP index values for {get_dimension_name(coicop_id)} ({coicop_id})\",\n",
    "\t\txaxis_title=\"Month\",\n",
    "\t\tyaxis_title=\"Index (2015=100)\"\n",
    "\t)\n",
    "\t# fig.add_vline(x=\"2020-01\", line_width=1, line_dash=\"dash\", line_color=\"black\")\n",
    "\tfig.update_layout(\n",
    "\t\tshowlegend=True\n",
    "\t)\n",
    "\tfig.update_layout(width=1280, height=720)\n",
    "\tfig.update_layout(margin=dict(l=20, r=10, t=50, b=10))\n",
    "\treturn fig\n",
    "\n",
    "coicop_id = \"CP0913\" #\"CP09132\" #\"CP0913\"\n",
    "countries = [\"EU\", \"EEA\", \"SI\", \"DE\", \"AT\", \"HR\"]\n",
    "start_month = \"2015-01\"\n",
    "end_month = \"2024-01\"\n",
    "fig = get_fig(coicop_id, countries, start_month, end_month)\n",
    "fig.show()"
   ]
  }
 ],
 "metadata": {
  "kernelspec": {
   "display_name": "thesis",
   "language": "python",
   "name": "python3"
  },
  "language_info": {
   "codemirror_mode": {
    "name": "ipython",
    "version": 3
   },
   "file_extension": ".py",
   "mimetype": "text/x-python",
   "name": "python",
   "nbconvert_exporter": "python",
   "pygments_lexer": "ipython3",
   "version": "3.11.3"
  }
 },
 "nbformat": 4,
 "nbformat_minor": 2
}
