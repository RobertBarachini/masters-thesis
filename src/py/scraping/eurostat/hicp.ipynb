{
 "cells": [
  {
   "cell_type": "code",
   "execution_count": null,
   "metadata": {},
   "outputs": [],
   "source": [
    "import os\n",
    "import json\n",
    "import requests\n",
    "import pandas as pd\n",
    "from plotly import graph_objs as go"
   ]
  },
  {
   "cell_type": "code",
   "execution_count": null,
   "metadata": {},
   "outputs": [],
   "source": [
    "# https://ec.europa.eu/eurostat/databrowser/view/prc_hicp_midx/default/table?lang=en\n",
    "url_dataset = \"https://ec.europa.eu/eurostat/api/dissemination/sdmx/2.1/data/prc_hicp_midx?format=TSV&compressed=false\"\n",
    "url_dimensions = \"https://ec.europa.eu/eurostat/databrowser-backend/api/card/1.0/LIVE/json/en/prc_hicp_manr/dimensions?stub=false&filtered=true\"\n",
    "path_output_root = \"data/scraped/eurostat\"\n",
    "path_output_csv = os.path.join(path_output_root, \"estat_prc_hicp_midx.tsv\")\n",
    "path_output_dimensions = os.path.join(path_output_root, \"estat_prc_hicp_midx_dimensions.json\")\n",
    "user_agent = \"Mozilla/5.0 (Windows NT 10.0; Win64; x64) AppleWebKit/537.36 (KHTML, like Gecko) Chrome/120.0.0.0 Safari/537.36\"\n",
    "can_overwrite = False"
   ]
  },
  {
   "cell_type": "code",
   "execution_count": null,
   "metadata": {},
   "outputs": [],
   "source": [
    "if not os.path.exists(path_output_root):\n",
    "\tos.makedirs(path_output_root)\n",
    "\n",
    "if not os.path.exists(path_output_csv) or can_overwrite:\n",
    "\tprint(\"Downloading CSV...\")\n",
    "\theaders = {\n",
    "\t\t\"User-Agent\": user_agent\n",
    "\t}\n",
    "\tresponse = requests.get(url_dataset, headers=headers)\n",
    "\twith open(path_output_csv, \"wb\") as file:\n",
    "\t\t# file.write(response.content)\n",
    "\t\tfile.write(response.text.encode(\"utf-8\"))\n",
    "\tprint(\"Done.\")\n",
    "else:\n",
    "\tprint(\"CSV already exists - set can_overwrite to True to overwrite.\")"
   ]
  },
  {
   "cell_type": "code",
   "execution_count": null,
   "metadata": {},
   "outputs": [],
   "source": [
    "if not os.path.exists(path_output_dimensions) or can_overwrite:\n",
    "\tprint(\"Downloading dimensions JSON...\")\n",
    "\theaders = {\n",
    "\t\t\"User-Agent\": user_agent\n",
    "\t}\n",
    "\tresponse = requests.get(url_dimensions, headers=headers)\n",
    "\twith open(path_output_dimensions, \"w\") as file:\n",
    "\t\tfile.write(response.text)\n",
    "\tprint(\"Done.\")\n",
    "else:\n",
    "\tprint(\"Dimensions JSON already exists - set can_overwrite to True to overwrite.\")"
   ]
  },
  {
   "cell_type": "code",
   "execution_count": null,
   "metadata": {},
   "outputs": [],
   "source": [
    "# Definitions: https://webgate.ec.europa.eu/sdmxregistry/"
   ]
  },
  {
   "cell_type": "code",
   "execution_count": null,
   "metadata": {},
   "outputs": [],
   "source": [
    "# Use this if you don't want to use the custom URL\n",
    "# df = pd.read_csv(path_output_csv, sep=\"\\t\")\n",
    "df = pd.read_csv(path_output_csv.replace(\".tsv\", \"-old2.tsv\"), sep=\"\\t\")\n",
    "# Remove leading and trailing whitespaces from all string columns\n",
    "# df = df.applymap(lambda x: x.strip() if isinstance(x, str) else x) # type: ignore\n",
    "# separate by tab and space\n",
    "# df = pd.read_csv(path_output_csv, sep=\"\\s+\")\n",
    "# first row: freq,unit,coicop,geo\\TIME_PERIOD\t1996-01 \t1996-02 \t1996-03 \t\t...\n",
    "# first column has commas - need to split into 4 columns by comma\n",
    "df[[\"freq\", \"unit\", \"coicop\", \"geo\"]] = df[\"freq,unit,coicop,geo\\\\TIME_PERIOD\"].str.split(\",\", expand=True)\n",
    "# remove first column\n",
    "df = df.drop(columns=[\"freq,unit,coicop,geo\\\\TIME_PERIOD\"])\n",
    "# move last 4 columns to front\n",
    "df = df[[\"freq\", \"unit\", \"coicop\", \"geo\"] + list(df.columns[:-4])]\n",
    "# replace \": \" with None\n",
    "# df = df.replace(\": \", None)\n",
    "# df = df.replace(\":\", None)\n",
    "# strip column names\n",
    "df.columns = df.columns.str.strip()\n",
    "# convert all columns but the first 4 to float ; if error, replace with None - skip first 4 columns\n",
    "df[df.columns[4:]] = df[df.columns[4:]].apply(pd.to_numeric, errors=\"coerce\")\n",
    "df.head()"
   ]
  },
  {
   "cell_type": "code",
   "execution_count": null,
   "metadata": {},
   "outputs": [],
   "source": [
    "dimensions = json.load(open(path_output_dimensions))\n",
    "dimensions.keys()"
   ]
  },
  {
   "cell_type": "code",
   "execution_count": null,
   "metadata": {},
   "outputs": [],
   "source": [
    "def get_dimension_name(dimension_id: str) -> str:\n",
    "\treturn dimensions[\"link\"][\"item\"][2][\"category\"][\"label\"][dimension_id]\n",
    "\n",
    "print(get_dimension_name(\"CP09131\"))"
   ]
  },
  {
   "cell_type": "code",
   "execution_count": null,
   "metadata": {},
   "outputs": [],
   "source": [
    "def find_dimension_ids(search_query: str) -> list:\n",
    "\tresults = []\n",
    "\tfor key, value in dimensions[\"link\"][\"item\"][2][\"category\"][\"label\"].items():\n",
    "\t\tif search_query.lower() in value.lower():\n",
    "\t\t\tresults.append((key, value))\n",
    "\treturn results\n",
    "\n",
    "query = \"graph\"\n",
    "res = find_dimension_ids(query)\n",
    "print(f\"Found {len(res)} results for '{query}':\")\n",
    "print(json.dumps(res, indent=2))"
   ]
  },
  {
   "cell_type": "code",
   "execution_count": null,
   "metadata": {},
   "outputs": [],
   "source": [
    "# check if there are any left over spaces (from parsing)\n",
    "\n",
    "# print row 1 column 3\n",
    "print(f\"Value = '{df.iloc[1, 3]}'\")\n",
    "# print column name at index 30\n",
    "print(f\"Column name = '{df.columns[30]}'\")"
   ]
  },
  {
   "cell_type": "code",
   "execution_count": null,
   "metadata": {},
   "outputs": [],
   "source": [
    "coicp_id = \"CP09131\"\n",
    "coicp_id = \"CP091\"\n",
    "\n",
    "# select \"Personal Computers\" (CP09131) to plot\n",
    "# df_pc = df[df[\"coicop\"] == \"CP09131\"]\n",
    "\n",
    "# select \"CP091\" (Audio-visual, photographic and information processing equipment) to plot\n",
    "df_pc = df[df[\"coicop\"] == coicp_id]\n",
    "\n",
    "df_pc.head()"
   ]
  },
  {
   "cell_type": "code",
   "execution_count": null,
   "metadata": {},
   "outputs": [],
   "source": [
    "first_month = df_pc.columns[4]\n",
    "last_month = df_pc.columns[-1]\n",
    "print(\"First month:\", first_month)\n",
    "print(\"Last month:\", last_month)"
   ]
  },
  {
   "cell_type": "code",
   "execution_count": null,
   "metadata": {},
   "outputs": [],
   "source": [
    "# df_pc_si = df_pc[df_pc[\"geo\"] == \"SI\" and df_pc[\"unit\"] == \"I15\"]\n",
    "df_pc_si = df_pc[(df_pc[\"geo\"] == \"SI\") & (df_pc[\"unit\"] == \"I15\")]\n",
    "df_pc_si.head()"
   ]
  },
  {
   "cell_type": "code",
   "execution_count": null,
   "metadata": {},
   "outputs": [],
   "source": [
    "print(f\"Last column value for Slovenia: '{df_pc_si.iloc[0, -1]}'\")"
   ]
  },
  {
   "cell_type": "code",
   "execution_count": null,
   "metadata": {},
   "outputs": [],
   "source": [
    "# find column index of with name 2019-01\n",
    "index_2019_01 = df_pc_si.columns.get_loc(\"2019-01\")\n",
    "index_2023_12 = df_pc_si.columns.get_loc(\"2023-12\")\n",
    "print(f\"Index of 2019-01: '{index_2019_01}'\")"
   ]
  },
  {
   "cell_type": "code",
   "execution_count": null,
   "metadata": {},
   "outputs": [],
   "source": [
    "# plot line chart for Slovenia between 2019-01 and 2023-12\n",
    "\n",
    "df_pc_si = df_pc[(df_pc[\"geo\"] == \"SI\") & (df_pc[\"unit\"] == \"I15\")]\n",
    "df_pc_de = df_pc[(df_pc[\"geo\"] == \"DE\") & (df_pc[\"unit\"] == \"I15\")]\n",
    "df_pc_eu = df_pc[(df_pc[\"geo\"] == \"EU\") & (df_pc[\"unit\"] == \"I15\")]\n",
    "df_pc_at = df_pc[(df_pc[\"geo\"] == \"AT\") & (df_pc[\"unit\"] == \"I15\")]\n",
    "df_pc_hr = df_pc[(df_pc[\"geo\"] == \"HR\") & (df_pc[\"unit\"] == \"I15\")]\n",
    "\n",
    "# create figure\n",
    "fig = go.Figure()\n",
    "\n",
    "# add line\n",
    "fig.add_trace(go.Scatter(\n",
    "\tx=df_pc_si.columns[index_2019_01:index_2023_12+1],\n",
    "\ty=df_pc_si.iloc[0, index_2019_01:index_2023_12+1],\n",
    "\tmode=\"lines\",\n",
    "\tname=\"Slovenia\"\n",
    "))\n",
    "\n",
    "fig.add_trace(go.Scatter(\n",
    "\tx=df_pc_de.columns[index_2019_01:index_2023_12+1],\n",
    "\ty=df_pc_de.iloc[0, index_2019_01:index_2023_12+1],\n",
    "\tmode=\"lines\",\n",
    "\tname=\"Germany\"\n",
    "))\n",
    "\n",
    "fig.add_trace(go.Scatter(\n",
    "\tx=df_pc_eu.columns[index_2019_01:index_2023_12+1],\n",
    "\ty=df_pc_eu.iloc[0, index_2019_01:index_2023_12+1],\n",
    "\tmode=\"lines\",\n",
    "\tname=\"EU\"\n",
    "))\n",
    "\n",
    "fig.add_trace(go.Scatter(\n",
    "\tx=df_pc_at.columns[index_2019_01:index_2023_12+1],\n",
    "\ty=df_pc_at.iloc[0, index_2019_01:index_2023_12+1],\n",
    "\tmode=\"lines\",\n",
    "\tname=\"Austria\"\n",
    "))\n",
    "\n",
    "fig.add_trace(go.Scatter(\n",
    "\tx=df_pc_hr.columns[index_2019_01:index_2023_12+1],\n",
    "\ty=df_pc_hr.iloc[0, index_2019_01:index_2023_12+1],\n",
    "\tmode=\"lines\",\n",
    "\tname=\"Croatia\"\n",
    "))\n",
    "\n",
    "\n",
    "# add title and axis labels\n",
    "fig.update_layout(\n",
    "\t# title=\"Eurostat - HICP Personal Computers (CP09131)\",\n",
    "\ttitle=f\"HICP index values for {get_dimension_name(coicp_id)} ({coicp_id})\",\n",
    "\txaxis_title=\"Month\",\n",
    "\tyaxis_title=\"Index (2015=100)\"\n",
    ")\n",
    "\n",
    "# add vertical line for 2020-01\n",
    "fig.add_vline(x=\"2020-01\", line_width=1, line_dash=\"dash\", line_color=\"black\")\n",
    "# fig.add_vline(x=\"2020-01\", line_width=1, line_dash=\"dash\", line_color=\"black\", annotation_text=\"test\")\n",
    "\n",
    "# enable legend\n",
    "fig.update_layout(\n",
    "\tshowlegend=True\n",
    ")\n",
    "\n",
    "# show figure\n",
    "fig.show() "
   ]
  },
  {
   "cell_type": "code",
   "execution_count": null,
   "metadata": {},
   "outputs": [],
   "source": [
    "# get_dimension_name(\"CPC45230\")\n",
    "get_dimension_name(\"CP0013\")\n"
   ]
  },
  {
   "cell_type": "code",
   "execution_count": null,
   "metadata": {},
   "outputs": [],
   "source": [
    "# find_dimension_ids(\"electronic\")\n",
    "# find_dimension_ids(\"process\")\n",
    "find_dimension_ids(\"information\")\n",
    "# CP0913 - information processing equipment"
   ]
  },
  {
   "cell_type": "code",
   "execution_count": null,
   "metadata": {},
   "outputs": [],
   "source": [
    "def get_fig(coicop_id: str, countries: list[str], start_month: str, end_month: str) -> go.Figure:\n",
    "\tdf_id = df[df[\"coicop\"] == coicop_id]\n",
    "\tfig = go.Figure()\n",
    "\tfor country in countries:\n",
    "\t\tdf_country = df_id[(df_id[\"geo\"] == country) & (df_id[\"unit\"] == \"I15\")]\n",
    "\t\tfig.add_trace(go.Scatter(\n",
    "\t\t\tx=df_country.columns[df_country.columns.get_loc(start_month):df_country.columns.get_loc(end_month)+1],\n",
    "\t\t\ty=df_country.iloc[0, df_country.columns.get_loc(start_month):df_country.columns.get_loc(end_month)+1],\n",
    "\t\t\tmode=\"lines\",\n",
    "\t\t\tname=country\n",
    "\t\t))\n",
    "\tfig.update_layout(\n",
    "\t\ttitle=f\"HICP index values for {get_dimension_name(coicop_id)} ({coicop_id})\",\n",
    "\t\txaxis_title=\"Month\",\n",
    "\t\tyaxis_title=\"Index (2015=100)\"\n",
    "\t)\n",
    "\t# fig.add_vline(x=\"2020-01\", line_width=1, line_dash=\"dash\", line_color=\"black\")\n",
    "\tfig.update_layout(\n",
    "\t\tshowlegend=True\n",
    "\t)\n",
    "\tfig.update_layout(width=1280, height=720)\n",
    "\tfig.update_layout(margin=dict(l=20, r=10, t=50, b=10))\n",
    "\treturn fig\n",
    "\n",
    "coicop_id = \"CP9013\" #\"CP09132\" #\"CP0913\"\n",
    "countries = [\"SI\", \"DE\", \"EU\", \"AT\", \"HR\"]\n",
    "start_month = \"2019-01\"\n",
    "end_month = \"2023-12\"\n",
    "fig = get_fig(coicop_id, countries, start_month, end_month)\n",
    "fig.show()"
   ]
  }
 ],
 "metadata": {
  "kernelspec": {
   "display_name": "thesis",
   "language": "python",
   "name": "python3"
  },
  "language_info": {
   "codemirror_mode": {
    "name": "ipython",
    "version": 3
   },
   "file_extension": ".py",
   "mimetype": "text/x-python",
   "name": "python",
   "nbconvert_exporter": "python",
   "pygments_lexer": "ipython3",
   "version": "3.11.3"
  }
 },
 "nbformat": 4,
 "nbformat_minor": 2
}
