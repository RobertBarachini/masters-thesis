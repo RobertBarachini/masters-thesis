{
 "cells": [
  {
   "cell_type": "code",
   "execution_count": null,
   "metadata": {},
   "outputs": [],
   "source": [
    "from bs4 import BeautifulSoup as bs\n",
    "import os\n",
    "import re"
   ]
  },
  {
   "cell_type": "code",
   "execution_count": null,
   "metadata": {},
   "outputs": [],
   "source": [
    "# load the html file from yahoo-news-page.html\n",
    "page = \"\"\n",
    "with open(\"yahoo-news-page.html\", \"r\") as f:\n",
    "\tpage = f.read()\n"
   ]
  },
  {
   "cell_type": "code",
   "execution_count": null,
   "metadata": {},
   "outputs": [],
   "source": [
    "print(len(page))"
   ]
  },
  {
   "cell_type": "code",
   "execution_count": null,
   "metadata": {},
   "outputs": [],
   "source": [
    "soup = bs(page, \"html.parser\")"
   ]
  },
  {
   "cell_type": "code",
   "execution_count": null,
   "metadata": {},
   "outputs": [],
   "source": [
    "# get div class=\"caas-body\"\n",
    "article_body = soup.find(\"div\", {\"class\": \"caas-body\"})\n",
    "all_p = article_body.find_all(\"p\")\n",
    "print(len(all_p))\n",
    "skip_if = [\n",
    "    \"Please note, the market returns quoted in this article reflect the market weighted average returns of stocks that currently trade\",\n",
    "    \"Have feedback on this article?\",\n",
    "    \"Join A Paid User Research Session\",\n",
    "]\n",
    "skip_if = {s.lower() for s in skip_if}\n",
    "\n",
    "def can_add(text: str) -> bool:\n",
    "\ttext = text.lower()\n",
    "\tfor s in skip_if:\n",
    "\t\tif s in text:\n",
    "\t\t\treturn False\n",
    "\treturn True\n",
    "\n",
    "word_count = 0\n",
    "for p in all_p:\n",
    "\tp_clean = re.sub(\n",
    "\t    r\"\\s+\", \" \",\n",
    "\t    p.text.replace(\"\\t\", \" \").replace(\"\\n\", \" \").replace(\"\\xa0\",\n",
    "\t                                                         \" \")).strip()\n",
    "\tp_clean_lower = p_clean.lower()\n",
    "\tif can_add(p_clean):\n",
    "\t\tprint(p_clean)\n",
    "\t\tword_count += len(p_clean.split())\n",
    "\t\t# print(\"***************************\")\n",
    "print(f\"Word count: {word_count}\")"
   ]
  }
 ],
 "metadata": {
  "kernelspec": {
   "display_name": "thesis",
   "language": "python",
   "name": "python3"
  },
  "language_info": {
   "codemirror_mode": {
    "name": "ipython",
    "version": 3
   },
   "file_extension": ".py",
   "mimetype": "text/x-python",
   "name": "python",
   "nbconvert_exporter": "python",
   "pygments_lexer": "ipython3",
   "version": "3.11.3"
  }
 },
 "nbformat": 4,
 "nbformat_minor": 2
}
