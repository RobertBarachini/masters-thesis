{
 "cells": [
  {
   "cell_type": "code",
   "execution_count": null,
   "metadata": {},
   "outputs": [],
   "source": [
    "from bs4 import BeautifulSoup as bs"
   ]
  },
  {
   "cell_type": "code",
   "execution_count": null,
   "metadata": {},
   "outputs": [],
   "source": [
    "profile_page = \"\"\"<div class=\"asset-profile-container\" data-test=\"asset-profile\">\n",
    "\t\t\t\t\t\t\t\t\t\t\t\t\t\t<h2 class=\"Fz(m) Lh(1) Fw(b) Mt(0)\"></h2>\n",
    "\t\t\t\t\t\t\t\t\t\t\t\t\t\t<div class=\"Pt(10px) smartphone_Pt(20px) Lh(1.7)\" data-test=\"qsp-profile\">\n",
    "\t\t\t\t\t\t\t\t\t\t\t\t\t\t\t<h3 class=\"Fz(m) Mb(10px)\">Microsoft Corporation</h3>\n",
    "\t\t\t\t\t\t\t\t\t\t\t\t\t\t\t<div class=\"Mb(25px)\">\n",
    "\t\t\t\t\t\t\t\t\t\t\t\t\t\t\t\t<p class=\"D(ib) W(47.727%) Pend(40px)\">One Microsoft Way<br />Redmond, WA\n",
    "\t\t\t\t\t\t\t\t\t\t\t\t\t\t\t\t\t98052-6399<br />United States<br /><a href=\"tel:4258828080\" class=\"C($linkColor)\">425\n",
    "\t\t\t\t\t\t\t\t\t\t\t\t\t\t\t\t\t\t882 8080</a><br /><a href=\"https://www.microsoft.com\" rel=\"noopener noreferrer\"\n",
    "\t\t\t\t\t\t\t\t\t\t\t\t\t\t\t\t\t\ttarget=\"_blank\" class=\"C($linkColor)\" title=\"\">https://www.microsoft.com</a></p>\n",
    "\t\t\t\t\t\t\t\t\t\t\t\t\t\t\t\t<p class=\"D(ib) Va(t)\"><span>Sector(s)</span>:\\xa0<span\n",
    "\t\t\t\t\t\t\t\t\t\t\t\t\t\t\t\t\t\tclass=\"Fw(600)\">Technology</span><br /><span>Industry</span>:\\xa0<span\n",
    "\t\t\t\t\t\t\t\t\t\t\t\t\t\t\t\t\t\tclass=\"Fw(600)\">Software - Infrastructure</span><br /><span>Full Time\n",
    "\t\t\t\t\t\t\t\t\t\t\t\t\t\t\t\t\t\tEmployees</span>:\\xa0<span class=\"Fw(600)\"><span>221,000</span></span></p>\n",
    "\t\t\t\t\t\t\t\t\t\t\t\t\t\t\t</div>\n",
    "\t\t\t\t\t\t\t\t\t\t\t\t\t\t</div>\n",
    "\t\t\t\t\t\t\t\t\t\t\t\t\t</div>\"\"\""
   ]
  },
  {
   "cell_type": "code",
   "execution_count": null,
   "metadata": {},
   "outputs": [],
   "source": [
    "soup = bs(profile_page, 'html.parser')"
   ]
  },
  {
   "cell_type": "code",
   "execution_count": null,
   "metadata": {},
   "outputs": [],
   "source": [
    "element_profile_info = soup.select_one(\"div[data-test='qsp-profile']\")\n",
    "assert element_profile_info is not None\n",
    "element_ps = element_profile_info.find_all(\"p\")\n",
    "element_address_contact = element_ps[0]\n",
    "element_sector_industry = element_ps[1]"
   ]
  },
  {
   "cell_type": "code",
   "execution_count": null,
   "metadata": {},
   "outputs": [],
   "source": [
    "all_links = element_address_contact.find_all(\"a\", href=True)\n",
    "website = None\n",
    "phone_number = None\n",
    "if len(all_links) == 1:\n",
    "\tlink_text = all_links[0].text.strip()\n",
    "\tif \"http\" in link_text:\n",
    "\t\twebsite = link_text\n",
    "\telse:\n",
    "\t\tphone_number = link_text\n",
    "elif len(all_links) == 2:\n",
    "\tphone_number = all_links[0].text.strip().replace(\" \", \"\").replace(\"-\", \"\").replace(\"\\t\", \"\").replace(\"\\n\", \"\").replace(\"+\", \"\")\n",
    "\twebsite = all_links[1].text.strip()\n",
    "else:\n",
    "\tprint(\"ERROR: Unexpected number of links in contact section\")\n",
    "print(f\"Phone number: '{phone_number}'\")\n",
    "print(f\"Website: '{website}'\")"
   ]
  },
  {
   "cell_type": "code",
   "execution_count": null,
   "metadata": {},
   "outputs": [],
   "source": [
    "# remove all links from the address/contact section\n",
    "for a in all_links:\n",
    "\ta.extract()\n",
    "# address is inner html of the address/contact section\n",
    "# address = element_address_contact.decode_contents().strip().replace(\n",
    "#     \"\\n\", \" \").replace(\"<br/>\", \"\\n\").replace(\"\\t\", \"\").strip()\n",
    "address = element_address_contact.decode_contents().strip().replace(\"<br/>\", \"\\n\").replace(\"\\t\", \"\").strip()\n",
    "print(f\"Address: '{address}'\")\n",
    "print(f\"Address lines:\")\n",
    "for line in address.split(\"\\n\"):\n",
    "\tprint(f\"    '{line.strip()}'\")"
   ]
  },
  {
   "cell_type": "code",
   "execution_count": null,
   "metadata": {},
   "outputs": [],
   "source": [
    "employees = None\n",
    "split_parts = element_sector_industry.text.lower().strip().replace(\"\\n\", \"\").replace(\n",
    "    \"\\t\", \"\").replace(\"\\xa0\", \"\").replace(\" \", \"\").replace(\".\", \"\").replace(\",\", \"\").split(\"fulltimeemployees:\")\n",
    "if len(split_parts) == 2:\n",
    "\temployees = split_parts[1].strip()\n",
    "print(f\"Employees: '{employees}'\")"
   ]
  }
 ],
 "metadata": {
  "kernelspec": {
   "display_name": "thesis",
   "language": "python",
   "name": "python3"
  },
  "language_info": {
   "codemirror_mode": {
    "name": "ipython",
    "version": 3
   },
   "file_extension": ".py",
   "mimetype": "text/x-python",
   "name": "python",
   "nbconvert_exporter": "python",
   "pygments_lexer": "ipython3",
   "version": "3.11.3"
  }
 },
 "nbformat": 4,
 "nbformat_minor": 2
}
