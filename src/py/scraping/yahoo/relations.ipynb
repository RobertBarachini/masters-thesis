{
 "cells": [
  {
   "cell_type": "code",
   "execution_count": null,
   "metadata": {},
   "outputs": [],
   "source": [
    "import os\n",
    "import json\n",
    "import plotly.graph_objs as go\n",
    "import plotly.io as pio\n",
    "import networkx as nx"
   ]
  },
  {
   "cell_type": "code",
   "execution_count": null,
   "metadata": {},
   "outputs": [],
   "source": [
    "script_path = os.path.join(*[os.path.abspath(\"\"), \"src\", \"py\", \"scraping\", \"yahoo\"])\n",
    "index_path = os.path.join(script_path, \"index.json\")"
   ]
  },
  {
   "cell_type": "code",
   "execution_count": null,
   "metadata": {},
   "outputs": [],
   "source": [
    "index = json.load(open(index_path, \"r\"))\n",
    "print(f\"Symbols: {len(index['symbols'])}\")"
   ]
  },
  {
   "cell_type": "code",
   "execution_count": null,
   "metadata": {},
   "outputs": [],
   "source": []
  },
  {
   "cell_type": "code",
   "execution_count": null,
   "metadata": {},
   "outputs": [],
   "source": [
    "symbols = index[\"symbols\"]\n",
    "G = nx.Graph()\n",
    "\n",
    "# Add nodes\n",
    "for symbol in symbols:\n",
    "\tG.add_node(symbol)\n",
    "\n",
    "# Add edges\n",
    "for symbol in symbols:\n",
    "\tsymbol_obj = index[\"symbols\"][symbol]\n",
    "\tsimilar = symbol_obj[\"similar\"]\n",
    "\trecommended = symbol_obj[\"recommended\"]\n",
    "\tfor s in similar:\n",
    "\t\tG.add_edge(symbol, s)\n",
    "\t# for r in recommended:\n",
    "\t# \tG.add_edge(symbol, r)\n",
    "\n"
   ]
  },
  {
   "cell_type": "code",
   "execution_count": null,
   "metadata": {},
   "outputs": [],
   "source": [
    "# Defaults\n",
    "k = 0.5\n",
    "iterations = 50\n",
    "seed = 42\n",
    "# k = 10 / len(G.nodes())\n",
    "k = 0.5\n",
    "iterations = 100\n",
    "pos = nx.spring_layout(G, k=k, iterations=iterations, seed=seed)\n",
    "\n",
    "edge_trace = go.Scatter(\n",
    "\tx=[],\n",
    "\ty=[],\n",
    "\tline=dict(width=0.5,color='#888'),\n",
    "\thoverinfo='none',\n",
    "\tmode='lines')\n",
    "\n",
    "for edge in G.edges():\n",
    "\tx0, y0 = pos[edge[0]]\n",
    "\tx1, y1 = pos[edge[1]]\n",
    "\tedge_trace['x'] += tuple([x0, x1, None])\n",
    "\tedge_trace['y'] += tuple([y0, y1, None])\n",
    "\n",
    "node_trace = go.Scatter(\n",
    "\tx=[],\n",
    "\ty=[],\n",
    "\ttext=[],\n",
    "\tmode='markers+text',\n",
    "\thoverinfo='text',\n",
    "\ttextfont=dict(\n",
    "\t\tfamily='Arial',\n",
    "\t\tsize=10,\n",
    "\t\tcolor='#000',\n",
    "\t\t\n",
    "\t),\n",
    "\tmarker=dict(\n",
    "\t\tshowscale=True,\n",
    "\t\t# colorscale options\n",
    "\t\t# 'Greys' | 'YlGnBu' | 'Greens' | 'YlOrRd' | 'Bluered' | 'RdBu' |\n",
    "\t\t# 'Reds' | 'Blues' | 'Picnic' | 'Rainbow' | 'Portland' | 'Jet' |\n",
    "\t\t# 'Hot' | 'Blackbody' | 'Earth' | 'Electric' | 'Viridis' |\n",
    "\t\tcolorscale='YlGnBu',\n",
    "\t\treversescale=True,\n",
    "\t\tcolor=[],\n",
    "\t\tsize=40,\n",
    "\t\tcolorbar=dict(\n",
    "\t\t\tthickness=15,\n",
    "\t\t\ttitle='Node Connections',\n",
    "\t\t\txanchor='left',\n",
    "\t\t\ttitleside='right'\n",
    "\t\t),\n",
    "\t\tline=dict(width=2)))\n",
    "\n",
    "for node in G.nodes():\n",
    "\tx, y = pos[node]\n",
    "\tnode_trace['x'] += tuple([x])\n",
    "\tnode_trace['y'] += tuple([y])\n",
    "\tnode_trace['text'] += tuple([node])\n",
    "\tnode_trace['marker']['color'] += tuple([len(G.adj[node])])\n",
    "\t\n",
    "layout = go.Layout(\n",
    "\tshowlegend=False,\n",
    "\thovermode='closest',\n",
    "\twidth=1080,\n",
    "\theight=1080,\n",
    "\tmargin=dict(b=20,l=5,r=5,t=40),\n",
    "\txaxis=dict(showgrid=False, zeroline=False, showticklabels=False),\n",
    "\tyaxis=dict(showgrid=False, zeroline=False, showticklabels=False))\n",
    "\n",
    "fig = go.Figure(data=[edge_trace, node_trace], layout=layout)\n",
    "\n",
    "fig.show()"
   ]
  },
  {
   "cell_type": "code",
   "execution_count": null,
   "metadata": {},
   "outputs": [],
   "source": [
    "img_path = os.path.join(script_path, \"relations.png\")\n",
    "pio.write_image(fig, img_path)"
   ]
  },
  {
   "cell_type": "code",
   "execution_count": null,
   "metadata": {},
   "outputs": [],
   "source": [
    "# Sort by number of connections\n",
    "nodes_sorted = sorted(G.adj.items(), key=lambda x: len(x[1]), reverse=True)\n",
    "# Print number of connections for each node\n",
    "for node in nodes_sorted:\n",
    "\tnode_title = \"not in crawled symbols\"\n",
    "\tif node[0] in index[\"symbols\"]:\n",
    "\t\tnode_title = index[\"symbols\"][node[0]][\"title\"]\n",
    "\tprint(f\"{node[0]}: {len(node[1])}        ({node_title})\")"
   ]
  }
 ],
 "metadata": {
  "kernelspec": {
   "display_name": "thesis",
   "language": "python",
   "name": "python3"
  },
  "language_info": {
   "codemirror_mode": {
    "name": "ipython",
    "version": 3
   },
   "file_extension": ".py",
   "mimetype": "text/x-python",
   "name": "python",
   "nbconvert_exporter": "python",
   "pygments_lexer": "ipython3",
   "version": "3.11.3"
  }
 },
 "nbformat": 4,
 "nbformat_minor": 2
}
