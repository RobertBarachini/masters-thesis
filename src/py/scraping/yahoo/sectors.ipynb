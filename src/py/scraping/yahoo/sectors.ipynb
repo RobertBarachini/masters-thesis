{
 "cells": [
  {
   "cell_type": "code",
   "execution_count": null,
   "metadata": {},
   "outputs": [],
   "source": [
    "import os\n",
    "import json"
   ]
  },
  {
   "cell_type": "code",
   "execution_count": null,
   "metadata": {},
   "outputs": [],
   "source": [
    "path_all_sectors = \"data/scraped/yahoo/sectors/all_sectors.json\"\n",
    "path_stocks_index = \"data/scraped/yahoo/sectors/index_stocks.json\""
   ]
  },
  {
   "cell_type": "code",
   "execution_count": null,
   "metadata": {},
   "outputs": [],
   "source": [
    "all_sectors = json.load(open(path_all_sectors, \"r\"))"
   ]
  },
  {
   "cell_type": "code",
   "execution_count": null,
   "metadata": {},
   "outputs": [],
   "source": [
    "# Sectors\n",
    "sectors = all_sectors[\"sectors\"]\n",
    "for i, sector in enumerate(sectors):\n",
    "\tprint(f\"{i + 1}. {sector['name']}\")"
   ]
  },
  {
   "cell_type": "code",
   "execution_count": null,
   "metadata": {},
   "outputs": [],
   "source": [
    "def print_stats(all_sectors):\n",
    "\tsectors = all_sectors[\"sectors\"]\n",
    "\tfor sector in sectors:\n",
    "\t\tprint(f\"{sector['name']}: {len(sector['industries'])} industries\")\n",
    "\t\tfor industry in sector[\"industries\"]:\n",
    "\t\t\tprint(f\"    {industry['name']}: {len(industry['companies'])} companies\")\n",
    "\n",
    "print_stats(all_sectors)\n"
   ]
  },
  {
   "cell_type": "code",
   "execution_count": null,
   "metadata": {},
   "outputs": [],
   "source": [
    "def get_unique_companies(all_sectors):\n",
    "\tsectors = all_sectors[\"sectors\"]\n",
    "\tcompanies = {}\n",
    "\tfor sector in sectors:\n",
    "\t\tfor industry in sector[\"industries\"]:\n",
    "\t\t\tfor company in industry[\"companies\"]:\n",
    "\t\t\t\tcompanies[company[\"symbol\"]] = company\n",
    "\treturn companies\n",
    "\n",
    "companies = get_unique_companies(all_sectors)\n",
    "print(f\"Unique companies: {len(companies)}\")"
   ]
  },
  {
   "cell_type": "code",
   "execution_count": null,
   "metadata": {},
   "outputs": [],
   "source": [
    "def get_unique_companies_by_sector(all_sectors):\n",
    "\tsectors = all_sectors[\"sectors\"]\n",
    "\tcompanies = {}\n",
    "\tfor sector in sectors:\n",
    "\t\tcompanies[sector[\"name\"]] = {}\n",
    "\t\tfor industry in sector[\"industries\"]:\n",
    "\t\t\tfor company in industry[\"companies\"]:\n",
    "\t\t\t\tcompanies[sector[\"name\"]][company[\"symbol\"]] = company\n",
    "\treturn companies\n",
    "\n",
    "companies_by_sector = get_unique_companies_by_sector(all_sectors)\n",
    "print(f\"Unique companies by sector:\")\n",
    "for sector, companies in companies_by_sector.items():\n",
    "\tprint(f\"{sector}: {len(companies)}\")"
   ]
  },
  {
   "cell_type": "code",
   "execution_count": null,
   "metadata": {},
   "outputs": [],
   "source": []
  },
  {
   "cell_type": "code",
   "execution_count": null,
   "metadata": {},
   "outputs": [],
   "source": [
    "print(f\"Writing {len(list(companies.values()))} companies to {path_stocks_index}\")\n",
    "# Save companies to file\n",
    "with open(path_stocks_index, \"w\") as f:\n",
    "\tjson.dump(list(companies.values()), f, indent=2)"
   ]
  }
 ],
 "metadata": {
  "kernelspec": {
   "display_name": "thesis",
   "language": "python",
   "name": "python3"
  },
  "language_info": {
   "codemirror_mode": {
    "name": "ipython",
    "version": 3
   },
   "file_extension": ".py",
   "mimetype": "text/x-python",
   "name": "python",
   "nbconvert_exporter": "python",
   "pygments_lexer": "ipython3",
   "version": "3.11.3"
  }
 },
 "nbformat": 4,
 "nbformat_minor": 2
}
