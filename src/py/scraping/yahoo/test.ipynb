{
 "cells": [
  {
   "cell_type": "code",
   "execution_count": null,
   "metadata": {},
   "outputs": [],
   "source": [
    "import requests\n",
    "import bs4 as bs"
   ]
  },
  {
   "cell_type": "code",
   "execution_count": null,
   "metadata": {},
   "outputs": [],
   "source": [
    "url = \"https://finance.yahoo.com/quote/NVDA\"\n",
    "r = requests.get(url)\n",
    "soup = bs.BeautifulSoup(r.content, \"html.parser\")\n",
    "print(soup.prettify())"
   ]
  },
  {
   "cell_type": "code",
   "execution_count": null,
   "metadata": {},
   "outputs": [],
   "source": [
    "# Get title\n",
    "# <h1 class=\"D(ib) Fz(18px)\">NVIDIA Corporation (NVDA)</h1>\n",
    "title = soup.find(\"h1\").text\n",
    "print(title)"
   ]
  },
  {
   "cell_type": "code",
   "execution_count": null,
   "metadata": {},
   "outputs": [],
   "source": [
    "# Get exchange info\n",
    "exchange = soup.find(\"div\", {\"id\": \"quote-header-info\"}).find(\"div\", {\"class\": \"C($tertiaryColor)\"}).text\n",
    "print(exchange)"
   ]
  },
  {
   "cell_type": "code",
   "execution_count": null,
   "metadata": {},
   "outputs": [],
   "source": [
    "# Get recommended (people also watch)\n",
    "recommended = soup.find(\"section\", {\"id\": \"recommendations-by-symbol\"}).find(\"table\").find_all(\"tr\")\n",
    "# for row in similar:\n",
    "# \ttd = row.find_all(\"td\")\n",
    "# \tif len(td) > 0:\n",
    "# \t\tprint(td[0].find(\"a\").text)\n",
    "recommended = [row.find_all(\"td\")[0].find(\"a\").text for row in recommended if len(row.find_all(\"td\")) > 0]\n",
    "print(recommended)"
   ]
  },
  {
   "cell_type": "code",
   "execution_count": null,
   "metadata": {},
   "outputs": [],
   "source": [
    "# Get similar\n",
    "similar = soup.find(\"section\", {\"id\": \"similar-by-symbol\"}).find(\"table\").find_all(\"tr\")\n",
    "similar = [row.find_all(\"td\")[0].find(\"a\").text for row in similar if len(row.find_all(\"td\")) > 0]\n",
    "print(similar)\n"
   ]
  },
  {
   "cell_type": "code",
   "execution_count": null,
   "metadata": {},
   "outputs": [],
   "source": [
    "# Get company profile\n",
    "company_profile = soup.find(\"div\", {\"class\": \"Mb(25px)\"}).find_all(\"p\")\n",
    "description = company_profile[0]\n",
    "details = company_profile[1]\n",
    "description_decoded = description.encode_contents().decode(\"utf-8\")\n",
    "details_decoded = details.encode_contents().decode(\"utf-8\")\n",
    "website = description.find(\"a\", {\"title\": \"Company Profile\"})[\"href\"]\n",
    "country = description_decoded.split(\"<br/>\")[-3]\n",
    "details_spans = details.find_all(\"span\")\n",
    "sector = details_spans[1].text\n",
    "industry = details_spans[3].text\n",
    "employees = details_spans[5].text\n",
    "print(website)\n",
    "print(country)\n",
    "print(sector)\n",
    "print(industry)\n",
    "print(employees)\n",
    "print(description_decoded)\n",
    "print(details_decoded)"
   ]
  },
  {
   "cell_type": "code",
   "execution_count": null,
   "metadata": {},
   "outputs": [],
   "source": [
    "# TODO: set crawl_queue priority by industry and sector"
   ]
  },
  {
   "cell_type": "code",
   "execution_count": null,
   "metadata": {},
   "outputs": [],
   "source": [
    "buggy_response = requests.get(\"https://finance.yahoo.com/quote/IMOS\", timeout=10)\n"
   ]
  },
  {
   "cell_type": "code",
   "execution_count": null,
   "metadata": {},
   "outputs": [],
   "source": [
    "print(buggy_response.status_code)"
   ]
  },
  {
   "cell_type": "code",
   "execution_count": null,
   "metadata": {},
   "outputs": [],
   "source": [
    "user_agent = \"Mozilla/5.0 (Macintosh; Intel Mac OS X 10_15_7) AppleWebKit/537.36 (KHTML, like Gecko) Chrome/91.0.4472.114 Safari/537.36\"\n",
    "# fixed_reponse = requests.get(\"https://finance.yahoo.com/quote/IMOS\", headers={\"User-Agent\": user_agent}, timeout=10)\n",
    "fixed_reponse = requests.get(\"https://finance.yahoo.com/quote/IMOS\", timeout=10)\n",
    "print(fixed_reponse.status_code)\n",
    "soup = bs.BeautifulSoup(fixed_reponse.content, \"html.parser\")\n",
    "print(soup.prettify())"
   ]
  }
 ],
 "metadata": {
  "kernelspec": {
   "display_name": "thesis",
   "language": "python",
   "name": "python3"
  },
  "language_info": {
   "codemirror_mode": {
    "name": "ipython",
    "version": 3
   },
   "file_extension": ".py",
   "mimetype": "text/x-python",
   "name": "python",
   "nbconvert_exporter": "python",
   "pygments_lexer": "ipython3",
   "version": "3.11.3"
  }
 },
 "nbformat": 4,
 "nbformat_minor": 2
}
