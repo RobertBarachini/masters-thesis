{
 "cells": [
  {
   "cell_type": "code",
   "execution_count": null,
   "metadata": {},
   "outputs": [],
   "source": [
    "# imports\n",
    "import json\n",
    "import copy\n",
    "import time\n",
    "from typing import Optional"
   ]
  },
  {
   "cell_type": "code",
   "execution_count": null,
   "metadata": {},
   "outputs": [],
   "source": [
    "# Constants and globals\n",
    "filepath_index = \"data/scraped/pangoly/index.json\"\n",
    "filepath_product_list = \"data/scraped/pangoly/product_list.txt\"\n",
    "print(f\"Loading index from {filepath_index}\")"
   ]
  },
  {
   "cell_type": "code",
   "execution_count": null,
   "metadata": {},
   "outputs": [],
   "source": [
    "# Load index\n",
    "index = json.loads(open(filepath_index).read())"
   ]
  },
  {
   "cell_type": "code",
   "execution_count": null,
   "metadata": {},
   "outputs": [],
   "source": [
    "categories = index[\"categories\"]\n",
    "print(f\"Loaded {len(categories)} categories\")"
   ]
  },
  {
   "cell_type": "code",
   "execution_count": null,
   "metadata": {},
   "outputs": [],
   "source": [
    "for category_key, category in categories.items():\n",
    "\tcategory = categories[category_key]\n",
    "\tproducts = category[\"products\"]\n",
    "\tproducts_count = 0\n",
    "\tif products != None:\n",
    "\t\tproducts_count = len(products.keys())\n",
    "\tprint(f\"{category['name']}: {products_count}\")"
   ]
  },
  {
   "cell_type": "code",
   "execution_count": null,
   "metadata": {},
   "outputs": [],
   "source": [
    "def get_list_of_product_titles(index: dict) -> list:\n",
    "\tproducts = []\n",
    "\t# get a list of keys\n",
    "\tcategory_keys = list(index[\"categories\"].keys())\n",
    "\t# put memory to end of list\n",
    "\tcategory_keys.remove(\"ram\")\n",
    "\tcategory_keys.append(\"ram\")\n",
    "\tfor category_key in category_keys:\n",
    "\t\tcategory = index[\"categories\"][category_key]\n",
    "\t\tif category[\"products\"] == None:\n",
    "\t\t\tcontinue\n",
    "\t\tfor product_title, url in category[\"products\"].items():\n",
    "\t\t\t# product_title_safe = product_title.replace(\"-\", \" \").strip()\n",
    "\t\t\tproduct_title_safe = product_title\n",
    "\t\t\tproducts.append(product_title_safe)\n",
    "\treturn products\n",
    "\n",
    "product_list = get_list_of_product_titles(index)\n",
    "print(f\"Loaded {len(product_list)} products\")\n",
    "for i in range(0, 5):\n",
    "\tprint(product_list[i])"
   ]
  },
  {
   "cell_type": "code",
   "execution_count": null,
   "metadata": {},
   "outputs": [],
   "source": [
    "# Save to file\n",
    "with open(filepath_product_list, \"w\") as f:\n",
    "\tfor product in product_list:\n",
    "\t\tf.write(product + \"\\n\")"
   ]
  }
 ],
 "metadata": {
  "kernelspec": {
   "display_name": "thesis",
   "language": "python",
   "name": "python3"
  },
  "language_info": {
   "codemirror_mode": {
    "name": "ipython",
    "version": 3
   },
   "file_extension": ".py",
   "mimetype": "text/x-python",
   "name": "python",
   "nbconvert_exporter": "python",
   "pygments_lexer": "ipython3",
   "version": "3.11.3"
  }
 },
 "nbformat": 4,
 "nbformat_minor": 2
}
