{
 "cells": [
  {
   "cell_type": "code",
   "execution_count": null,
   "metadata": {},
   "outputs": [],
   "source": [
    "import os\n",
    "import json\n",
    "import requests\n",
    "import pandas as pd\n",
    "from plotly import graph_objs as go"
   ]
  },
  {
   "cell_type": "code",
   "execution_count": null,
   "metadata": {},
   "outputs": [],
   "source": [
    "url_covid_daily = \"https://covid19.who.int/WHO-COVID-19-global-data.csv\"\n",
    "path_output_root = \"data/scraped/who\"\n",
    "path_output_csv = os.path.join(path_output_root, \"who_covid_daily.csv\")\n",
    "path_output_json = os.path.join(path_output_root, \"who_covid_daily.json\")\n",
    "user_agent = \"Mozilla/5.0 (Windows NT 10.0; Win64; x64) AppleWebKit/537.36 (KHTML, like Gecko) Chrome/120.0.0.0 Safari/537.36\"\n",
    "can_overwrite = False"
   ]
  },
  {
   "cell_type": "code",
   "execution_count": null,
   "metadata": {},
   "outputs": [],
   "source": [
    "if not os.path.exists(path_output_root):\n",
    "\tos.makedirs(path_output_root)\n",
    "\n",
    "if not os.path.exists(path_output_csv) or can_overwrite:\n",
    "\tprint(\"Downloading CSV...\")\n",
    "\theaders = {\n",
    "\t\t\"User-Agent\": user_agent\n",
    "\t}\n",
    "\tresponse = requests.get(url_covid_daily, headers=headers)\n",
    "\twith open(path_output_csv, \"wb\") as file:\n",
    "\t\tfile.write(response.content)\n",
    "\tprint(\"Done.\")\n",
    "else:\n",
    "\tprint(\"CSV already exists - set can_overwrite to True to overwrite.\")"
   ]
  },
  {
   "cell_type": "code",
   "execution_count": null,
   "metadata": {},
   "outputs": [],
   "source": [
    "df = pd.read_csv(path_output_csv)\n",
    "df.head()"
   ]
  },
  {
   "cell_type": "code",
   "execution_count": null,
   "metadata": {},
   "outputs": [],
   "source": [
    "print(\"Number of countries:\", df[\"Country\"].nunique())\n",
    "print(\"Earliest date:\", df[\"Date_reported\"].min())\n",
    "print(\"Latest date:\", df[\"Date_reported\"].max())"
   ]
  },
  {
   "cell_type": "code",
   "execution_count": null,
   "metadata": {},
   "outputs": [],
   "source": [
    "# Check if \"World\" is in country list\n",
    "if \"World\" not in df[\"Country\"].unique():\n",
    "\tprint(\"Adding World to country list...\")"
   ]
  },
  {
   "cell_type": "code",
   "execution_count": null,
   "metadata": {},
   "outputs": [],
   "source": [
    "df_slovenia = df[df[\"Country\"] == \"Slovenia\"]\n",
    "df_austria = df[df[\"Country\"] == \"Austria\"]\n",
    "fig = go.Figure()\n",
    "fig.add_trace(go.Scatter(x=df_slovenia[\"Date_reported\"], y=df_slovenia[\"Cumulative_cases\"], name=\"Cumulative cases (Slovenia)\"))\n",
    "fig.add_trace(go.Scatter(x=df_austria[\"Date_reported\"], y=df_austria[\"Cumulative_cases\"], name=\"Cumulative cases (Austria)\"))\n",
    "# Add bars for New_cases\n",
    "fig.add_trace(go.Bar(x=df_slovenia[\"Date_reported\"], y=df_slovenia[\"New_cases\"], name=\"New cases (Slovenia)\"))\n",
    "fig.add_trace(go.Bar(x=df_austria[\"Date_reported\"], y=df_austria[\"New_cases\"], name=\"New cases\" \"(Austria)\"))\n",
    "# Add figure title\n",
    "fig.update_layout(title_text=\"WHO COVID-19 daily data for Slovenia\")\n",
    "# Set x-axis title\n",
    "fig.update_xaxes(title_text=\"Date\")\n",
    "# Set y-axes titles\n",
    "fig.update_yaxes(title_text=\"Cumulative cases\")\n",
    "# Add legend\n",
    "fig.update_layout(showlegend=True)\n",
    "fig.show()"
   ]
  },
  {
   "cell_type": "code",
   "execution_count": null,
   "metadata": {},
   "outputs": [],
   "source": [
    "# TODO: Get World Bank data for population and merge with WHO data to get cases per 100k people"
   ]
  }
 ],
 "metadata": {
  "kernelspec": {
   "display_name": "thesis",
   "language": "python",
   "name": "python3"
  },
  "language_info": {
   "codemirror_mode": {
    "name": "ipython",
    "version": 3
   },
   "file_extension": ".py",
   "mimetype": "text/x-python",
   "name": "python",
   "nbconvert_exporter": "python",
   "pygments_lexer": "ipython3",
   "version": "3.11.3"
  }
 },
 "nbformat": 4,
 "nbformat_minor": 2
}
