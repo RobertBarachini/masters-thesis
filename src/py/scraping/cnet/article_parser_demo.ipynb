{
 "cells": [
  {
   "cell_type": "code",
   "execution_count": null,
   "metadata": {},
   "outputs": [],
   "source": [
    "import os\n",
    "import re\n",
    "import json\n",
    "from bs4 import BeautifulSoup as bs"
   ]
  },
  {
   "cell_type": "code",
   "execution_count": null,
   "metadata": {},
   "outputs": [],
   "source": [
    "path_index = \"data/scraped/cnet/index_articles.json\"\n",
    "path_data_root = \"data/scraped/cnet/articles\"\n",
    "path_html = os.path.join(path_data_root, \"html\")"
   ]
  },
  {
   "cell_type": "code",
   "execution_count": null,
   "metadata": {},
   "outputs": [],
   "source": [
    "index = json.load(open(path_index))\n",
    "print(f\"Got {len(index['articles'])} articles in index\")"
   ]
  },
  {
   "cell_type": "code",
   "execution_count": null,
   "metadata": {},
   "outputs": [],
   "source": [
    "# Print number of downloaded html files\n",
    "html_files = os.listdir(path_html)\n",
    "print(f\"Got {len(html_files)} html files\")"
   ]
  },
  {
   "cell_type": "code",
   "execution_count": null,
   "metadata": {},
   "outputs": [],
   "source": [
    "# example id: c5063326-855f-4179-a640-84e53d0204a6\n",
    "path_sample_html = os.path.join(path_html, html_files[0])\n",
    "print(f\"Sample html file path: {path_sample_html}\")\n",
    "article_id = html_files[0].split(\".\")[0]\n",
    "print(f\"Article id: '{article_id}'\")\n",
    "article = index[\"articles\"][article_id]\n",
    "if \"image\" in article:\n",
    "\tdel article[\"image\"]"
   ]
  },
  {
   "cell_type": "code",
   "execution_count": null,
   "metadata": {},
   "outputs": [],
   "source": [
    "article_slug = article[\"slug\"]\n",
    "print(f\"Visit article: https://www.cnet.com/news/{article_slug}\")"
   ]
  },
  {
   "cell_type": "code",
   "execution_count": null,
   "metadata": {},
   "outputs": [],
   "source": [
    "print(f\"Article (without image key): {json.dumps(article, indent=2)}\")"
   ]
  },
  {
   "cell_type": "code",
   "execution_count": null,
   "metadata": {},
   "outputs": [],
   "source": [
    "article_data = \"\"\n",
    "with open(path_sample_html, \"r\") as f:\n",
    "\tarticle_data = f.read()\n",
    "print(f\"Article data length: {len(article_data)}\")"
   ]
  },
  {
   "cell_type": "code",
   "execution_count": null,
   "metadata": {},
   "outputs": [],
   "source": [
    "# print(article_data)"
   ]
  },
  {
   "cell_type": "code",
   "execution_count": null,
   "metadata": {},
   "outputs": [],
   "source": [
    "soup = bs(article_data, \"html.parser\")"
   ]
  },
  {
   "cell_type": "code",
   "execution_count": null,
   "metadata": {},
   "outputs": [],
   "source": [
    "def remove_tags(soup, tagname):\n",
    "\tfor tag in soup([tagname]):\n",
    "\t\ttag.extract()\n",
    "\n",
    "remove_tags(soup, \"script\")\n",
    "remove_tags(soup, \"style\")\n",
    "remove_tags(soup, \"symbol\")\n",
    "remove_tags(soup, \"svg\")\n",
    "remove_tags(soup, \"path\")\n",
    "remove_tags(soup, \"figure\")\n",
    "remove_tags(soup, \"picture\")\n",
    "\n",
    "print(\"Article length after removing tags: \", len(str(soup)))"
   ]
  },
  {
   "cell_type": "code",
   "execution_count": null,
   "metadata": {},
   "outputs": [],
   "source": [
    "# Print formatted html\n",
    "# print(soup.prettify())"
   ]
  },
  {
   "cell_type": "code",
   "execution_count": null,
   "metadata": {},
   "outputs": [],
   "source": [
    "# verify title\n",
    "title = soup.find(\"title\").text.replace(\" - CNET\", \"\").strip()\n",
    "print(f\"Title from article: '{title}'\")\n",
    "print(f\"Title from index:   '{article['title']}'\")"
   ]
  },
  {
   "cell_type": "code",
   "execution_count": null,
   "metadata": {},
   "outputs": [],
   "source": [
    "# find div with id=\"page-article-{article_id}\"\n",
    "article_div = soup.find(\"div\", {\"id\": f\"page-article-{article_id}\"})\n",
    "# print(article_div.text)"
   ]
  },
  {
   "cell_type": "code",
   "execution_count": null,
   "metadata": {},
   "outputs": [],
   "source": [
    "# get dov with class=\"c-pageArticle_body\"\n",
    "article_body_div = article_div.find(\"div\", {\"class\": \"c-pageArticle_body\"})\n",
    "# print(article_body_div.text)"
   ]
  },
  {
   "cell_type": "code",
   "execution_count": null,
   "metadata": {},
   "outputs": [],
   "source": [
    "# get div which has \"c-ShortcodeContent\" in its class\n",
    "article_content_div = article_body_div.find(\"div\", {\"class\": lambda x: x and \"c-ShortcodeContent\" in x})\n",
    "# print(article_body_div.text)"
   ]
  },
  {
   "cell_type": "code",
   "execution_count": null,
   "metadata": {},
   "outputs": [],
   "source": [
    "# get all first level p tags\n",
    "paragraphs = article_content_div.find_all(\"p\", recursive=True)\n",
    "print(f\"Got {len(paragraphs)} paragraphs\")"
   ]
  },
  {
   "cell_type": "code",
   "execution_count": null,
   "metadata": {},
   "outputs": [],
   "source": [
    "def process_paragraph(p):\n",
    "\tres_text = p.text\n",
    "\tres_text = res_text.replace(\"\\n\", \" \")\n",
    "\tres_text = res_text.replace(\"\\xa0\", \" \")\n",
    "\tres_text = res_text.strip()\n",
    "\tres_text = re.sub(r\"\\s+\", \" \", res_text)\n",
    "\treturn res_text\n",
    "\n",
    "\n",
    "paragraphs_processed = list(map(process_paragraph, paragraphs))\n",
    "print(\"\\n\\n\".join(paragraphs_processed))"
   ]
  },
  {
   "cell_type": "code",
   "execution_count": null,
   "metadata": {},
   "outputs": [],
   "source": [
    "# print word count\n",
    "word_count = sum(map(lambda x: len(x.split()), paragraphs_processed))\n",
    "print(f\"Word count: {word_count}\")"
   ]
  }
 ],
 "metadata": {
  "kernelspec": {
   "display_name": "thesis",
   "language": "python",
   "name": "python3"
  },
  "language_info": {
   "codemirror_mode": {
    "name": "ipython",
    "version": 3
   },
   "file_extension": ".py",
   "mimetype": "text/x-python",
   "name": "python",
   "nbconvert_exporter": "python",
   "pygments_lexer": "ipython3",
   "version": "3.11.3"
  }
 },
 "nbformat": 4,
 "nbformat_minor": 2
}
