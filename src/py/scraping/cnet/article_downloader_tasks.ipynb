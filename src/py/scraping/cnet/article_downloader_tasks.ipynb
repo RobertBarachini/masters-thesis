{
 "cells": [
  {
   "cell_type": "code",
   "execution_count": null,
   "metadata": {},
   "outputs": [],
   "source": [
    "import os\n",
    "import json"
   ]
  },
  {
   "cell_type": "code",
   "execution_count": null,
   "metadata": {},
   "outputs": [],
   "source": [
    "path_index = \"data/scraped/cnet/index_articles.json\"\n",
    "path_tasks = \"data/scraped/cnet/index_articles.tasks.json\""
   ]
  },
  {
   "cell_type": "code",
   "execution_count": null,
   "metadata": {},
   "outputs": [],
   "source": [
    "index = json.load(open(path_index))"
   ]
  },
  {
   "cell_type": "code",
   "execution_count": null,
   "metadata": {},
   "outputs": [],
   "source": [
    "article_keys = list(index[\"articles\"].keys())\n",
    "len(article_keys)"
   ]
  },
  {
   "cell_type": "code",
   "execution_count": null,
   "metadata": {},
   "outputs": [],
   "source": [
    "# split into n parts of an unknown size\n",
    "n = 10\n",
    "splits = [article_keys[i::n] for i in range(n)]\n",
    "for i, split in enumerate(splits):\n",
    "\tprint(f\"Split {i} has {len(split)} articles\")\n",
    "\n",
    "print(f\"Example key: {splits[0][0]}\")"
   ]
  },
  {
   "cell_type": "code",
   "execution_count": null,
   "metadata": {},
   "outputs": [],
   "source": [
    "# construct the tasks (from the index)\n",
    "tasks = []\n",
    "for article in index[\"articles\"].values():\n",
    "\tarticle_id = article[\"id\"]\n",
    "\tslug = article[\"slug\"]\n",
    "\ttask = {\n",
    "\t    \"metadata\": {\n",
    "\t        \"handle\": article_id,\n",
    "\t        \"retries\": 1,\n",
    "\t        \"can_handle_output\": False,\n",
    "\t        \"can_handle_error\": False\n",
    "\t    },\n",
    "\t    \"args\": [\n",
    "\t        \"python\", \"src/py/scraping/cnet/article_downloader_worker.py\",\n",
    "\t        article_id, slug\n",
    "\t    ]\n",
    "\t}\n",
    "\ttasks.append(task)\n",
    "\n",
    "print(f\"Example task: {json.dumps(tasks[0], indent=2)}\")"
   ]
  },
  {
   "cell_type": "code",
   "execution_count": null,
   "metadata": {},
   "outputs": [],
   "source": [
    "# write the tasks to file\n",
    "with open(path_tasks, \"w\") as f:\n",
    "\tjson.dump(tasks, f, indent=2)"
   ]
  }
 ],
 "metadata": {
  "kernelspec": {
   "display_name": "thesis",
   "language": "python",
   "name": "python3"
  },
  "language_info": {
   "codemirror_mode": {
    "name": "ipython",
    "version": 3
   },
   "file_extension": ".py",
   "mimetype": "text/x-python",
   "name": "python",
   "nbconvert_exporter": "python",
   "pygments_lexer": "ipython3",
   "version": "3.11.3"
  }
 },
 "nbformat": 4,
 "nbformat_minor": 2
}
