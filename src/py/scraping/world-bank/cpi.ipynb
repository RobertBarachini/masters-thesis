{
 "cells": [
  {
   "cell_type": "code",
   "execution_count": null,
   "metadata": {},
   "outputs": [],
   "source": [
    "import os\n",
    "import pandas as pd\n",
    "import requests\n",
    "import zipfile\n",
    "from plotly import graph_objects as go"
   ]
  },
  {
   "cell_type": "code",
   "execution_count": null,
   "metadata": {},
   "outputs": [],
   "source": [
    "# https://data.worldbank.org/indicator/FP.CPI.TOTL.ZG\n",
    "url_cpi = \"https://databank.worldbank.org/AjaxDownload/FileDownloadHandler.ashx?filename=P_d567e128-13df-4fdb-9100-3897a79cbdcb.zip&filetype=CSV&language=en&displayfile=P_Data_Extract_From_World_Development_Indicators.zip\"\n",
    "path_output_root = \"data/scraped/world-bank\"\n",
    "path_zip = os.path.join(path_output_root, \"cpi.zip\")\n",
    "path_csv = os.path.join(path_output_root, \"cpi.csv\")\n",
    "user_agent = \"Mozilla/5.0 (Windows NT 10.0; Win64; x64) AppleWebKit/537.36 (KHTML, like Gecko) Chrome/120.0.0.0 Safari/537.36\"\n",
    "can_overwrite = False\n"
   ]
  },
  {
   "cell_type": "code",
   "execution_count": null,
   "metadata": {},
   "outputs": [],
   "source": [
    "if not os.path.exists(path_zip):\n",
    "\tos.makedirs(path_output_root, exist_ok=True)\n",
    "\n",
    "if not os.path.exists(path_zip) or can_overwrite:\n",
    "\tprint(\"Downloading cpi data from World Bank...\")\n",
    "\theaders = {\"User-Agent\": user_agent}\n",
    "\tresponse = requests.get(url_cpi, headers=headers)\n",
    "\twith open(path_zip, \"wb\") as f:\n",
    "\t\tf.write(response.content)\n",
    "\tprint(\"Done.\")\n",
    "else:\n",
    "\tprint(\"Using cached cpi data.\")\n",
    "\n",
    "if not os.path.exists(path_csv) or can_overwrite:\n",
    "\tprint(\"Extracting cpi data...\")\n",
    "\twith zipfile.ZipFile(path_zip) as z:\n",
    "\t\tnamelist = z.namelist()\n",
    "\t\tprint(f\"Namelist: {namelist}\")\n",
    "\t\tfor name in namelist:\n",
    "\t\t\tif \"Metadata\" not in name:\n",
    "\t\t\t\tprint(f\"Extracting '{name}' to '{path_csv}'...\")\n",
    "\t\t\t\twith open(path_csv, \"wb\") as f:\n",
    "\t\t\t\t\tf.write(z.read(name))\n",
    "\t\t\t\tbreak\n",
    "\tprint(\"Done.\")\n",
    "else:\n",
    "\tprint(\"Using already extracted cpi data.\")"
   ]
  },
  {
   "cell_type": "code",
   "execution_count": null,
   "metadata": {},
   "outputs": [],
   "source": [
    "# df = pd.read_csv(path_csv)\n",
    "# read by skipping last 4 rows, replace \"..\" with NaN\n",
    "# df = pd.read_csv(path_csv, skipfooter=5, engine=\"python\")\n",
    "df = pd.read_csv(path_csv, skipfooter=5, engine=\"python\", na_values=\"..\")\n",
    "for col in df.columns:\n",
    "\tif \"[\" in col:\n",
    "\t\tnew_col = col.split(\"[\")[0].strip()\n",
    "\t\tdf = df.rename(columns={col: new_col})\n",
    "original_columns = list(df.columns)\n",
    "series_name = df.iloc[0, 0]\n",
    "series_code = df.iloc[0, 1]\n",
    "if \"Indicator Name\" in df.columns:\n",
    "\tdf = df.drop(columns=[\"Indicator Name\", \"Indicator Code\"])\n",
    "countries_count = len(df)\n",
    "year_columns = [col for col in df.columns if col.isnumeric()]\n",
    "print(f\"Indicator name: '{series_name}'\")\n",
    "print(f\"Indicator code: '{series_code}'\")\n",
    "print(f\"Countries / groups count: {countries_count}\")\n",
    "print(f\"Data from year {year_columns[0]} to {year_columns[-1]}\")\n",
    "df.head()"
   ]
  },
  {
   "cell_type": "code",
   "execution_count": null,
   "metadata": {},
   "outputs": [],
   "source": [
    "df.info()"
   ]
  },
  {
   "cell_type": "code",
   "execution_count": null,
   "metadata": {},
   "outputs": [],
   "source": [
    "df.describe()"
   ]
  },
  {
   "cell_type": "code",
   "execution_count": null,
   "metadata": {},
   "outputs": [],
   "source": [
    "# plot inflation for Slovenia from 2010 to end ; CPI 2010 = 100\n",
    "fig = go.Figure()\n",
    "# first year index\n",
    "i_2010 = df.columns.get_loc(\"2010\")\n",
    "x = df.columns[i_2010:]\n",
    "y = df.loc[df[\"Country Name\"] == \"Slovenia\"].iloc[0, i_2010:]\n",
    "fig.add_trace(go.Scatter(x=x, y=y, mode=\"lines+markers\", name=\"Slovenia\"))\n",
    "fig.update_layout(title=f\"{series_name} in Slovenia\", xaxis_title=\"Year\", yaxis_title=\"CPI\")\n",
    "fig.show()"
   ]
  },
  {
   "cell_type": "code",
   "execution_count": null,
   "metadata": {},
   "outputs": [],
   "source": [
    "# plot United States, Germany, United Kingdom, Japan\n",
    "fig = go.Figure()\n",
    "countries = [\"United States\", \"Germany\", \"United Kingdom\", \"Japan\"]\n",
    "x = df.columns[i_2010:]\n",
    "for country in countries:\n",
    "\ty = df.loc[df[\"Country Name\"] == country].iloc[0, i_2010:]\n",
    "\tfig.add_trace(go.Scatter\n",
    "\t\t(x=x, y=y, mode=\"lines+markers\", name=country))\n",
    "fig.update_layout(title=f\"{series_name} in selected countries\", xaxis_title=\"Year\", yaxis_title=\"CPI\")\n",
    "# add legend\n",
    "fig.update_layout(legend=dict(x=0, y=1.0))\n",
    "fig.show()"
   ]
  },
  {
   "cell_type": "code",
   "execution_count": null,
   "metadata": {},
   "outputs": [],
   "source": [
    "# get linear prices of a sample for 2010-end\n",
    "x = df.columns[i_2010:]\n",
    "# y = [(x + 1) * 100 for x in range(len(x))]\n",
    "y = [1000] * len(x)\n",
    "fig = go.Figure()\n",
    "fig.add_trace(go.Scatter(x=x, y=y, mode=\"lines+markers\", name=\"Linear\"))\n",
    "# deflate for US inflation using CPI values from df\n",
    "y_i = df.loc[df[\"Country Name\"] == \"United States\"].iloc[0, i_2010:]\n",
    "for i in range(len(y)):\n",
    "\ty[i] = y[i] / y_i[i] * 100\n",
    "\t\n",
    "\t# y[i] = y[i] * y_i[i] / 100\n",
    "\t\n",
    "\t# cpi_ratio = y_i[i] / 100\n",
    "\t# y[i] = y[i] / cpi_ratio\n",
    "fig.add_trace(go.Scatter(x=x, y=y, mode=\"lines+markers\", name=\"Adjusted for US inflation\"))\n",
    "fig.update_layout(title=\"Linear prices\", xaxis_title=\"Year\", yaxis_title=\"Price\")\n",
    "fig.show()"
   ]
  },
  {
   "cell_type": "code",
   "execution_count": null,
   "metadata": {},
   "outputs": [],
   "source": [
    "# Simplified\n",
    "\n",
    "# get linear prices of a sample for 2010-end\n",
    "x = df.columns[i_2010:]\n",
    "# y = [(x + 1) * 100 for x in range(len(x))]\n",
    "y = [1000] * len(x) # prices from 2010 to 2022\n",
    "print(f\"prices: {y}\")\n",
    "fig = go.Figure()\n",
    "fig.add_trace(go.Scatter(x=x, y=y, mode=\"lines+markers\", name=\"Linear\"))\n",
    "# deflate for US inflation using CPI values from df\n",
    "cpi = df.loc[df[\"Country Name\"] == \"United States\"].iloc[0, i_2010:]\n",
    "# print(f\"cpi: {list(cpi):.2f}\")\n",
    "# print rounded to 2 decimal places\n",
    "print(f\"cpi: {[round(x, 2) for x in cpi]}\")\n",
    "# y = y / (cpi / 100)\n",
    "y = y / cpi * 100 # alternative but more efficient since less division operations\n",
    "print(f\"prices adjusted for US inflation: {[round(x, 2) for x in y]}\")\n",
    "fig.add_trace(go.Scatter(x=x, y=y, mode=\"lines+markers\", name=\"Adjusted for US inflation\"))\n",
    "fig.update_layout(title=\"Linear prices and linear prices adjusted for US inflation (2010 = 100)\", xaxis_title=\"Year\", yaxis_title=\"Price\")\n",
    "fig.show()"
   ]
  },
  {
   "cell_type": "code",
   "execution_count": null,
   "metadata": {},
   "outputs": [],
   "source": [
    "df.head()"
   ]
  }
 ],
 "metadata": {
  "kernelspec": {
   "display_name": "thesis",
   "language": "python",
   "name": "python3"
  },
  "language_info": {
   "codemirror_mode": {
    "name": "ipython",
    "version": 3
   },
   "file_extension": ".py",
   "mimetype": "text/x-python",
   "name": "python",
   "nbconvert_exporter": "python",
   "pygments_lexer": "ipython3",
   "version": "3.11.3"
  }
 },
 "nbformat": 4,
 "nbformat_minor": 2
}
