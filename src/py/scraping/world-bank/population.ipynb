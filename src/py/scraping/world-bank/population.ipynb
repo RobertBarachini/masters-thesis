{
 "cells": [
  {
   "cell_type": "code",
   "execution_count": null,
   "metadata": {},
   "outputs": [],
   "source": [
    "import os\n",
    "import json\n",
    "import requests\n",
    "import pandas as pd\n",
    "from plotly import graph_objs as go\n",
    "import zipfile"
   ]
  },
  {
   "cell_type": "code",
   "execution_count": null,
   "metadata": {},
   "outputs": [],
   "source": [
    "url_population = \"https://api.worldbank.org/v2/en/indicator/SP.POP.TOTL?downloadformat=csv\"\n",
    "path_output_root = \"data/scraped/world-bank\"\n",
    "path_zip = os.path.join(path_output_root, \"population.zip\")\n",
    "path_csv = os.path.join(path_output_root, \"population.csv\")\n",
    "user_agent = \"Mozilla/5.0 (Windows NT 10.0; Win64; x64) AppleWebKit/537.36 (KHTML, like Gecko) Chrome/120.0.0.0 Safari/537.36\"\n",
    "can_overwrite = False\n",
    "path_output_csv_fixed = os.path.join(path_output_root, \"population-fixed.csv\")"
   ]
  },
  {
   "cell_type": "code",
   "execution_count": null,
   "metadata": {},
   "outputs": [],
   "source": [
    "if not os.path.exists(path_zip):\n",
    "\tos.makedirs(path_output_root, exist_ok=True)\n",
    "\n",
    "if not os.path.exists(path_zip) or can_overwrite:\n",
    "\tprint(\"Downloading population data from World Bank...\")\n",
    "\theaders = {\"User-Agent\": user_agent}\n",
    "\tresponse = requests.get(url_population, headers=headers)\n",
    "\twith open(path_zip, \"wb\") as f:\n",
    "\t\tf.write(response.content)\n",
    "\tprint(\"Done.\")\n",
    "else:\n",
    "\tprint(\"Using cached population data.\")\n",
    "\n",
    "if not os.path.exists(path_csv) or can_overwrite:\n",
    "\tprint(\"Extracting population data...\")\n",
    "\twith zipfile.ZipFile(path_zip) as z:\n",
    "\t\tnamelist = z.namelist()\n",
    "\t\tprint(f\"Namelist: {namelist}\")\n",
    "\t\tfor name in namelist:\n",
    "\t\t\tif \"Metadata\" not in name:\n",
    "\t\t\t\tprint(f\"Extracting '{name}' to '{path_csv}'...\")\n",
    "\t\t\t\twith open(path_csv, \"wb\") as f:\n",
    "\t\t\t\t\tf.write(z.read(name))\n",
    "\t\t\t\tbreak\n",
    "\tprint(\"Done.\")\n",
    "else:\n",
    "\tprint(\"Using already extracted population data.\")\n"
   ]
  },
  {
   "cell_type": "code",
   "execution_count": null,
   "metadata": {},
   "outputs": [],
   "source": [
    "df = pd.read_csv(path_csv, skiprows=4)\n",
    "df = df.iloc[:, :-1]\n",
    "df.head()"
   ]
  },
  {
   "cell_type": "code",
   "execution_count": null,
   "metadata": {},
   "outputs": [],
   "source": [
    "first_year = df.columns[4]\n",
    "last_year = df.columns[-1]\n",
    "world_population = df[df[\"Country Name\"] == \"World\"][last_year].values[0]\n",
    "number_of_countries = len(df[\"Country Name\"].unique())\n",
    "print(f\"First year: {first_year}\")\n",
    "print(f\"Last year: {last_year}\")\n",
    "print(f\"World population in {last_year}: {round(world_population)}\")\n",
    "print(f\"Number of countries: {number_of_countries}\")"
   ]
  },
  {
   "cell_type": "code",
   "execution_count": null,
   "metadata": {},
   "outputs": [],
   "source": [
    "def get_population(df: pd.DataFrame, country_name: str):\n",
    "\tdf_country = df[df[\"Country Name\"] == country_name]\n",
    "\tdf_country = df_country.T\n",
    "\tdf_country = df_country.iloc[4:]\n",
    "\tdf_country.columns = [\"Population\"]\n",
    "\tdf_country.index = pd.to_datetime(df_country.index)\n",
    "\treturn df_country\n",
    "\n",
    "# # Get population of Slovenia\n",
    "# df_slovenia = df[df[\"Country Name\"] == \"Slovenia\"]\n",
    "# df_slovenia = df_slovenia.T\n",
    "# df_slovenia = df_slovenia.iloc[4:]\n",
    "# df_slovenia.columns = [\"Population\"]\n",
    "# # df_slovenia.index = pd.to_datetime(df_slovenia.index)\n",
    "# df_slovenia.head()\n",
    "\n",
    "df_slovenia = get_population(df, \"Slovenia\")\n",
    "df_slovenia.head()"
   ]
  },
  {
   "cell_type": "code",
   "execution_count": null,
   "metadata": {},
   "outputs": [],
   "source": [
    "# Plot population of Slovenia\n",
    "fig = go.Figure()\n",
    "df_slovenia = get_population(df, \"Slovenia\")\n",
    "df_croatia = get_population(df, \"Croatia\")\n",
    "fig.add_trace(go.Scatter(x=df_slovenia.index, y=df_slovenia[\"Population\"], name=\"Population of Slovenia\"))\n",
    "fig.add_trace(go.Scatter(x=df_croatia.index, y=df_croatia[\"Population\"], name=\"Population of Croatia\"))\n",
    "fig.update_layout(title=\"Total population\", xaxis_title=\"Year\", yaxis_title=\"Population\")\n",
    "fig.update_layout(showlegend=True)\n",
    "fig.show()"
   ]
  },
  {
   "cell_type": "code",
   "execution_count": null,
   "metadata": {},
   "outputs": [],
   "source": [
    "# Save (fixed) dataframe data to CSV\n",
    "df.to_csv(path_output_csv_fixed, index=False) "
   ]
  }
 ],
 "metadata": {
  "kernelspec": {
   "display_name": "thesis",
   "language": "python",
   "name": "python3"
  },
  "language_info": {
   "codemirror_mode": {
    "name": "ipython",
    "version": 3
   },
   "file_extension": ".py",
   "mimetype": "text/x-python",
   "name": "python",
   "nbconvert_exporter": "python",
   "pygments_lexer": "ipython3",
   "version": "3.11.3"
  }
 },
 "nbformat": 4,
 "nbformat_minor": 2
}
