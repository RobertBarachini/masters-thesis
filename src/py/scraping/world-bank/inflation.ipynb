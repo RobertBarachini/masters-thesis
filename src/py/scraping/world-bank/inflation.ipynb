{
 "cells": [
  {
   "cell_type": "code",
   "execution_count": null,
   "metadata": {},
   "outputs": [],
   "source": [
    "import os\n",
    "import pandas as pd\n",
    "import requests\n",
    "import zipfile\n",
    "from plotly import graph_objects as go"
   ]
  },
  {
   "cell_type": "code",
   "execution_count": null,
   "metadata": {},
   "outputs": [],
   "source": [
    "# https://data.worldbank.org/indicator/FP.CPI.TOTL.ZG\n",
    "url_inflation = 'https://api.worldbank.org/v2/en/indicator/FP.CPI.TOTL.ZG?downloadformat=csv'\n",
    "path_output_root = \"data/scraped/world-bank\"\n",
    "path_zip = os.path.join(path_output_root, \"inflation.zip\")\n",
    "path_csv = os.path.join(path_output_root, \"inflation.csv\")\n",
    "user_agent = \"Mozilla/5.0 (Windows NT 10.0; Win64; x64) AppleWebKit/537.36 (KHTML, like Gecko) Chrome/120.0.0.0 Safari/537.36\"\n",
    "can_overwrite = False\n"
   ]
  },
  {
   "cell_type": "code",
   "execution_count": null,
   "metadata": {},
   "outputs": [],
   "source": [
    "if not os.path.exists(path_zip):\n",
    "\tos.makedirs(path_output_root, exist_ok=True)\n",
    "\n",
    "if not os.path.exists(path_zip) or can_overwrite:\n",
    "\tprint(\"Downloading inflation data from World Bank...\")\n",
    "\theaders = {\"User-Agent\": user_agent}\n",
    "\tresponse = requests.get(url_inflation, headers=headers)\n",
    "\twith open(path_zip, \"wb\") as f:\n",
    "\t\tf.write(response.content)\n",
    "\tprint(\"Done.\")\n",
    "else:\n",
    "\tprint(\"Using cached inflation data.\")\n",
    "\n",
    "if not os.path.exists(path_csv) or can_overwrite:\n",
    "\tprint(\"Extracting inflation data...\")\n",
    "\twith zipfile.ZipFile(path_zip) as z:\n",
    "\t\tnamelist = z.namelist()\n",
    "\t\tprint(f\"Namelist: {namelist}\")\n",
    "\t\tfor name in namelist:\n",
    "\t\t\tif \"Metadata\" not in name:\n",
    "\t\t\t\tprint(f\"Extracting '{name}' to '{path_csv}'...\")\n",
    "\t\t\t\twith open(path_csv, \"wb\") as f:\n",
    "\t\t\t\t\tf.write(z.read(name))\n",
    "\t\t\t\tbreak\n",
    "\tprint(\"Done.\")\n",
    "else:\n",
    "\tprint(\"Using already extracted inflation data.\")"
   ]
  },
  {
   "cell_type": "code",
   "execution_count": null,
   "metadata": {},
   "outputs": [],
   "source": [
    "df = pd.read_csv(path_csv, skiprows=4)\n",
    "df = df.iloc[:, :-1]\n",
    "original_columns = list(df.columns)\n",
    "indicator_name = df.iloc[0, 2]\n",
    "indicator_code = df.iloc[0, 3]\n",
    "if \"Indicator Name\" in df.columns:\n",
    "\tdf = df.drop(columns=[\"Indicator Name\", \"Indicator Code\"])\n",
    "countries_count = len(df)\n",
    "year_columns = [col for col in df.columns if col.isnumeric()]\n",
    "print(f\"Indicator name: '{indicator_name}'\")\n",
    "print(f\"Indicator code: '{indicator_code}'\")\n",
    "print(f\"Countries / groups count: {countries_count}\")\n",
    "print(f\"Data from year {year_columns[0]} to {year_columns[-1]}\")\n",
    "df.tail()"
   ]
  },
  {
   "cell_type": "code",
   "execution_count": null,
   "metadata": {},
   "outputs": [],
   "source": []
  },
  {
   "cell_type": "code",
   "execution_count": null,
   "metadata": {},
   "outputs": [],
   "source": [
    "df.info()"
   ]
  },
  {
   "cell_type": "code",
   "execution_count": null,
   "metadata": {},
   "outputs": [],
   "source": [
    "df.describe()"
   ]
  },
  {
   "cell_type": "code",
   "execution_count": null,
   "metadata": {},
   "outputs": [],
   "source": [
    "# plot inflation for Slovenia from 2010 to end ; CPI 2010 = 100\n",
    "fig = go.Figure()\n",
    "# first year index\n",
    "i_2010 = df.columns.get_loc(\"2010\")\n",
    "x = df.columns[i_2010:]\n",
    "y = df.loc[df[\"Country Name\"] == \"Slovenia\"].iloc[0, i_2010:]\n",
    "fig.add_trace(go.Scatter(x=x, y=y, mode=\"lines+markers\", name=\"Slovenia\"))\n",
    "fig.update_layout(title=f\"{indicator_name} (CPI 2010 = 100) in Slovenia\", xaxis_title=\"Year\", yaxis_title=\"Inflation (%)\")\n",
    "fig.show()"
   ]
  },
  {
   "cell_type": "code",
   "execution_count": null,
   "metadata": {},
   "outputs": [],
   "source": [
    "# plot United States, Germany, United Kingdom, Japan\n",
    "fig = go.Figure()\n",
    "countries = [\"United States\", \"Germany\", \"United Kingdom\", \"Japan\"]\n",
    "x = df.columns[i_2010:]\n",
    "for country in countries:\n",
    "\ty = df.loc[df[\"Country Name\"] == country].iloc[0, i_2010:]\n",
    "\tfig.add_trace(go.Scatter\n",
    "\t\t(x=x, y=y, mode=\"lines+markers\", name=country))\n",
    "fig.update_layout(title=f\"{indicator_name} (CPI 2010 = 100) in selected countries\", xaxis_title=\"Year\", yaxis_title=\"Inflation (%)\")\n",
    "# add legend\n",
    "fig.update_layout(legend=dict(x=0, y=1.0))\n",
    "fig.show()"
   ]
  }
 ],
 "metadata": {
  "kernelspec": {
   "display_name": "thesis",
   "language": "python",
   "name": "python3"
  },
  "language_info": {
   "codemirror_mode": {
    "name": "ipython",
    "version": 3
   },
   "file_extension": ".py",
   "mimetype": "text/x-python",
   "name": "python",
   "nbconvert_exporter": "python",
   "pygments_lexer": "ipython3",
   "version": "3.11.3"
  }
 },
 "nbformat": 4,
 "nbformat_minor": 2
}
