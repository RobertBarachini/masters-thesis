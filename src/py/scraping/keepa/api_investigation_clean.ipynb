{
 "cells": [
  {
   "cell_type": "code",
   "execution_count": null,
   "metadata": {},
   "outputs": [],
   "source": [
    "import os\n",
    "import sys\n",
    "import json\n",
    "import requests\n",
    "from typing import Tuple, Optional\n",
    "from keepa.interface import keepa_minutes_to_time, parse_csv\n",
    "\n",
    "# Project imports\n",
    "sys.path.append(os.getcwd())\n",
    "from src.py.utils.generic_utils import wrapper"
   ]
  },
  {
   "cell_type": "code",
   "execution_count": null,
   "metadata": {},
   "outputs": [],
   "source": [
    "# API Key\n",
    "api_key = os.environ.get(\"KEEPA_API_KEY\")\n",
    "api_url = \"https://api.keepa.com\""
   ]
  },
  {
   "cell_type": "code",
   "execution_count": null,
   "metadata": {},
   "outputs": [],
   "source": [
    "def get_token_status() -> Tuple[dict, None] | Tuple[None, Exception]:\n",
    "\t'''\n",
    "\t\tRetrieves token status from Keepa API\n",
    "\n",
    "\t\tMore info: https://keepa.com/#!discuss/t/retrieve-token-status/1305\n",
    "\t'''\n",
    "\tresponse, err = wrapper(requests.get, f\"{api_url}/token\", params={\"key\": api_key})\n",
    "\tif err:\n",
    "\t\treturn None, err\n",
    "\tassert response is not None\n",
    "\tif response.status_code == 200:\n",
    "\t\treturn response.json(), None\n",
    "\treturn None, Exception(f\"Error: {response.status_code}\")\n",
    "\n",
    "token_status, err = get_token_status()\n",
    "if err:\n",
    "\tprint(err)\n",
    "else:\n",
    "\tprint(f\"Token status: {json.dumps(token_status, indent=2)}\")"
   ]
  },
  {
   "cell_type": "code",
   "execution_count": null,
   "metadata": {},
   "outputs": [],
   "source": [
    "def get_products_reponse(asin: str, domain_id: int, stats: Optional[Tuple[str, str]] = (\"2011-01-01\", \"2025-01-01\"), history: bool = True, rating: bool = True) -> Tuple[dict, None] | Tuple[None, Exception]:\n",
    "\t'''\n",
    "\t\tRetrieves product information from Keepa API\n",
    "\n",
    "\t\tMore info: https://keepa.com/#!discuss/t/request-products/110\n",
    "\n",
    "\t\tArgs:\n",
    "\t\t\tasin: Amazon Standard Identification Number\n",
    "\t\t\tdomain_id: Amazon domain ID - Valid values: [ 1: com | 2: co.uk 231 | 3: de | 4: fr | 5: co.jp | 6: ca | 8: it | 9: es | 10: in | 11: com.mx ]\n",
    "\t\t\tstats: Include product statistics\n",
    "\t\t\thistory: Include product price history\n",
    "\t\t\trating: Include product rating history\n",
    "\t\tReturns:\n",
    "\t\t\tProduct information\n",
    "\t'''\n",
    "\tparams = {\n",
    "\t\t\"key\": api_key,\n",
    "\t\t\"domain\": domain_id,\n",
    "\t\t\"asin\": asin,\n",
    "\t\t\"history\": 1 if history is True else 0,\n",
    "\t\t\"rating\": 1 if rating is True else 0\n",
    "\t}\n",
    "\tif stats:\n",
    "\t\tparams[\"stats\"] = f\"{stats[0]},{stats[1]}\"\n",
    "\tresponse, err = wrapper(requests.get, f\"{api_url}/product\", params=params)\n",
    "\tif err:\n",
    "\t\treturn None, err\n",
    "\tassert response is not None\n",
    "\tif response.status_code == 200:\n",
    "\t\tresponse_json = response.json()\n",
    "\t\treturn response_json, None\n",
    "\treturn None, Exception(f\"Error: {response.status_code}\")\n"
   ]
  },
  {
   "cell_type": "code",
   "execution_count": null,
   "metadata": {},
   "outputs": [],
   "source": [
    "product_response, err = get_products_reponse(\"B07B428M7F\", 1, history=True, rating=True)\n",
    "if err:\n",
    "\tprint(err)\n",
    "else:\n",
    "\tassert product_response is not None\n",
    "\tprint(f\"Got {len(product_response['products'])} products\")\n",
    "assert product_response is not None\n",
    "product = product_response[\"products\"][0]\n",
    "print(f\"Product ASIN: {product['asin']}\")\n",
    "print(f\"Product Title: {product['title']}\")"
   ]
  },
  {
   "cell_type": "code",
   "execution_count": null,
   "metadata": {},
   "outputs": [],
   "source": [
    "# Product with no stats, history or rating\n",
    "product_response_1, err = get_products_reponse(\"B07B428M7F\", 1, stats=None, history=False, rating=False)\n",
    "if err:\n",
    "\tprint(err)\n",
    "product_response_2, err = get_products_reponse(\"B07B428M7F\", 1, stats=None, history=True, rating=False)\n",
    "if err:\n",
    "\tprint(err)\n",
    "product_response_3, err = get_products_reponse(\"B07B428M7F\", 1, history=True, rating=False)\n",
    "if err:\n",
    "\tprint(err)\n",
    "product_response_4, err = get_products_reponse(\"B07B428M7F\", 1, history=True, rating=True)\n",
    "\n"
   ]
  },
  {
   "cell_type": "code",
   "execution_count": null,
   "metadata": {},
   "outputs": [],
   "source": [
    "# Get keys from product response\n",
    "assert product_response_1 is not None\n",
    "assert product_response_2 is not None\n",
    "assert product_response_3 is not None\n",
    "assert product_response_4 is not None\n",
    "keys_1 = list(product_response_1[\"products\"][0].keys())\n",
    "keys_2 = list(product_response_2[\"products\"][0].keys())\n",
    "keys_3 = list(product_response_3[\"products\"][0].keys())\n",
    "keys_4 = list(product_response_4[\"products\"][0].keys())\n",
    "keys_diff_2_1 = set(keys_2) - set(keys_1)\n",
    "keys_diff_3_1 = set(keys_3) - set(keys_1)\n",
    "keys_diff_4_1 = set(keys_4) - set(keys_1)\n",
    "\n",
    "# Print which keys are in 2 but not in 1\n",
    "print(f\"Keys in 2 but not in 1: {keys_diff_2_1}\")\n",
    "print(f\"Keys in 3 but not in 1: {keys_diff_3_1}\")\n",
    "print(f\"Keys in 4 but not in 1: {keys_diff_4_1}\")\n",
    "\n",
    "# NOTE: All response objects have the same keys, however \"csv\" field is None if history is False,\n",
    "#       \n",
    "\n",
    "# parsed_csv_1 = parse_csv(product_response_1[\"products\"][0][\"csv\"]) # can't parse None\n",
    "parsed_csv_2 = parse_csv(product_response_2[\"products\"][0][\"csv\"])\n",
    "parsed_csv_3 = parse_csv(product_response_3[\"products\"][0][\"csv\"])\n",
    "parsed_csv_4 = parse_csv(product_response_4[\"products\"][0][\"csv\"])\n",
    "\n",
    "keys_2 = list(parsed_csv_2.keys())\n",
    "keys_3 = list(parsed_csv_3.keys())\n",
    "keys_4 = list(parsed_csv_4.keys())\n",
    "\n",
    "keys_diff_3_2 = set(keys_3) - set(keys_2)\n",
    "keys_diff_4_2 = set(keys_4) - set(keys_2)\n",
    "keys_diff_4_3 = set(keys_4) - set(keys_3)\n",
    "\n",
    "print(f\"Keys in 3 but not in 2: {json.dumps(list(keys_diff_3_2), indent=2)}\")\n",
    "print(f\"Keys in 4 but not in 2: {json.dumps(list(keys_diff_4_2), indent=2)}\")\n",
    "print(f\"Keys in 4 but not in 3: {json.dumps(list(keys_diff_4_3), indent=2)}\")\n"
   ]
  },
  {
   "cell_type": "code",
   "execution_count": null,
   "metadata": {},
   "outputs": [],
   "source": [
    "# Load a sample downloaded JSON file\n",
    "sample_product_response_path = \"data/keepa/products/domains/1/B0B7CPSN2K.json\"\n",
    "sample_product_response = {}\n",
    "with open(sample_product_response_path, \"r\") as f:\n",
    "\tsample_product_response = json.load(f)\n",
    "sample_parsed_csv = parse_csv(sample_product_response[\"products\"][0][\"csv\"])\n",
    "sample_keys = list(sample_parsed_csv.keys())\n",
    "print(f\"Sample keys: {json.dumps(sample_keys, indent=2)}\")"
   ]
  }
 ],
 "metadata": {
  "kernelspec": {
   "display_name": "thesis",
   "language": "python",
   "name": "python3"
  },
  "language_info": {
   "codemirror_mode": {
    "name": "ipython",
    "version": 3
   },
   "file_extension": ".py",
   "mimetype": "text/x-python",
   "name": "python",
   "nbconvert_exporter": "python",
   "pygments_lexer": "ipython3",
   "version": "3.11.3"
  }
 },
 "nbformat": 4,
 "nbformat_minor": 2
}
