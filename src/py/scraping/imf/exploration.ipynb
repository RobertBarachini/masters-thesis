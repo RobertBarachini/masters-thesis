{
 "cells": [
  {
   "cell_type": "code",
   "execution_count": null,
   "metadata": {},
   "outputs": [],
   "source": [
    "import os\n",
    "import sys\n",
    "import json\n",
    "import requests\n",
    "from typing import Tuple\n",
    "\n",
    "# Project imports\n",
    "sys.path.append(os.getcwd())\n",
    "from src.py.scraping.imf.imf_api import get_data_flow, get_data_structure, get_compact_data, get_metadata_structure, get_generic_metadata, get_code_list, get_max_series_in_result\n"
   ]
  },
  {
   "cell_type": "code",
   "execution_count": null,
   "metadata": {},
   "outputs": [],
   "source": [
    "path_output_root = \"data/scraped/imf/exploration\"\n",
    "path_data_flow = os.path.join(path_output_root, \"data_flow.json\")"
   ]
  },
  {
   "cell_type": "code",
   "execution_count": null,
   "metadata": {},
   "outputs": [],
   "source": [
    "dataflow = {}\n",
    "\n",
    "override_dataflow = False"
   ]
  },
  {
   "cell_type": "code",
   "execution_count": null,
   "metadata": {},
   "outputs": [],
   "source": [
    "# Get data flow from API or from local file\n",
    "if override_dataflow == True or not os.path.exists(path_data_flow):\n",
    "\tprint(\"Data flow not found, calling API...\")\n",
    "\tdataflow, err = get_data_flow()\n",
    "\tassert dataflow is not None\n",
    "\tjson.dump(dataflow, open(path_data_flow, 'w'), indent=2)\n",
    "\tprint(f\"Data flow saved to '{path_data_flow}'\")\n",
    "else:\n",
    "\tdataflow = json.load(open(path_data_flow, 'r'))\n",
    "\tprint(f\"Data flow loaded from '{path_data_flow}'\")"
   ]
  },
  {
   "cell_type": "code",
   "execution_count": null,
   "metadata": {},
   "outputs": [],
   "source": [
    "assert dataflow is not None\n",
    "dataflow_structure = dataflow[\"Structure\"]\n",
    "dataflow_header = dataflow_structure[\"Header\"]\n",
    "dataflows = dataflow_structure[\"Dataflows\"][\"Dataflow\"]\n",
    "\n",
    "print(f\"Got {len(dataflows)} dataflows\")\n",
    "print(f\"Header:\\n{json.dumps(dataflow_header, indent=2)}\")"
   ]
  },
  {
   "cell_type": "code",
   "execution_count": null,
   "metadata": {},
   "outputs": [],
   "source": [
    "# print(\"Dataflows by name:\")\n",
    "# dataflows_sorted = sorted(dataflows, key=lambda x: x[\"Name\"][\"#text\"])\n",
    "# for dataflow in dataflows_sorted:\n",
    "# \tprint(f\"  {dataflow['Name']['#text']}\")"
   ]
  },
  {
   "cell_type": "code",
   "execution_count": null,
   "metadata": {},
   "outputs": [],
   "source": [
    "search_dataflows_index = {}\n",
    "\n",
    "for dataflow in dataflows:\n",
    "\tsearch_dataflows_index[dataflow[\"Name\"][\"#text\"].lower().strip()] = dataflow\n",
    "\n",
    "def get_dataflows_by_name(search_dataflows_index: dict, query: str) -> list:\n",
    "\t\"\"\"\n",
    "\tSearches for dataflows by name\n",
    "\t\"\"\"\n",
    "\tquery = query.lower().strip()\n",
    "\tdataflows = []\n",
    "\tfor key, dataflow in search_dataflows_index.items():\n",
    "\t\tif query in key:\n",
    "\t\t\tdataflows.append(dataflow)\n",
    "\treturn dataflows\n",
    "\n",
    "dataflows_results = get_dataflows_by_name(search_dataflows_index, \"inflation\")\n",
    "print(f\"Found {len(dataflows_results)} results for query 'GDP':\")\n",
    "for dataflow in dataflows_results:\n",
    "\tprint(f\"  {dataflow['Name']['#text']}\")"
   ]
  }
 ],
 "metadata": {
  "kernelspec": {
   "display_name": "thesis",
   "language": "python",
   "name": "python3"
  },
  "language_info": {
   "codemirror_mode": {
    "name": "ipython",
    "version": 3
   },
   "file_extension": ".py",
   "mimetype": "text/x-python",
   "name": "python",
   "nbconvert_exporter": "python",
   "pygments_lexer": "ipython3",
   "version": "3.11.3"
  }
 },
 "nbformat": 4,
 "nbformat_minor": 2
}
