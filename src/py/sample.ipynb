{
 "cells": [
  {
   "attachments": {},
   "cell_type": "markdown",
   "metadata": {},
   "source": [
    "# Sample title\n",
    "\n",
    "Sample text"
   ]
  },
  {
   "cell_type": "code",
   "execution_count": null,
   "metadata": {},
   "outputs": [],
   "source": [
    "from datetime import datetime\n",
    "\n",
    "\n",
    "def sum(a: int, b: int) -> int:\n",
    "\treturn a + b\n",
    "\n",
    "\n",
    "def get_time() -> datetime:\n",
    "\treturn datetime.now()\n",
    "\n",
    "\n",
    "def main() -> None:\n",
    "\tprint(f\"Time is {get_time()}\")\n",
    "\tprint(f\"Sum of 1 and 2 is {sum(1, 2)}\")\n",
    "\n",
    "\n",
    "if __name__ == \"__main__\":\n",
    "\tmain()\n",
    "\tprint(\"ALL DONE:^)\")\n"
   ]
  }
 ],
 "metadata": {
  "language_info": {
   "name": "python"
  }
 },
 "nbformat": 4,
 "nbformat_minor": 2
}
