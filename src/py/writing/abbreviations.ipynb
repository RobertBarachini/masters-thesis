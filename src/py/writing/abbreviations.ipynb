{
 "cells": [
  {
   "cell_type": "code",
   "execution_count": null,
   "metadata": {},
   "outputs": [],
   "source": [
    "import os\n",
    "import pandas as pd"
   ]
  },
  {
   "cell_type": "code",
   "execution_count": null,
   "metadata": {},
   "outputs": [],
   "source": [
    "path_abbreviations = \"src/py/writing/abbreviations.csv\"\n",
    "path_output = \"src/py/writing/abbreviations.txt\""
   ]
  },
  {
   "cell_type": "code",
   "execution_count": null,
   "metadata": {},
   "outputs": [],
   "source": [
    "# abv = pd.read_csv(path_abbreviations\n",
    "# Read the file - first row is the header, separator is a comma, values containing commas are enclosed in double quotes\n",
    "abv = pd.read_csv(path_abbreviations, header=0, sep=\",\", quotechar='\"', skipinitialspace=True)\n",
    "# Add column \"Abbreviation lower\" to the DataFrame which contains the values of the \"Abbreviation\" column in lower case\n",
    "abv[\"Abbreviation lower\"] = abv[\"Abbreviation\"].str.lower()\n",
    "# Sort the rows by the 'Abbreviation lower' column\n",
    "abv.sort_values(by=\"Abbreviation lower\", inplace=True)\n",
    "# Reset the index of the DataFrame\n",
    "abv.reset_index(drop=True, inplace=True)\n",
    "\n",
    "abv.head()"
   ]
  },
  {
   "cell_type": "code",
   "execution_count": null,
   "metadata": {},
   "outputs": [],
   "source": [
    "# Print duplicate abbreviations (Abbreviation column)\n",
    "duplicates = abv[abv.duplicated(subset=[\"Abbreviation\"], keep=False)]\n",
    "if len(duplicates) == 0:\n",
    "\t\tprint(\"No duplicate abbreviations found.\")\n",
    "else:\n",
    "\tprint(\"Duplicate abbreviations:\")\n",
    "\tprint(duplicates)"
   ]
  },
  {
   "cell_type": "code",
   "execution_count": null,
   "metadata": {},
   "outputs": [],
   "source": [
    "def generate_word_text(abbreviation: str, definition: str, definition_translation: str) -> str:\n",
    "\t'''\n",
    "\tGenerates a string containing the abbreviation and its definition.\n",
    "\t'''\n",
    "\tword_text = f\"*A*{abbreviation}*B* – (sl. {definition_translation}); {definition}\" # hyphen instead of dash\n",
    "\treturn word_text\n",
    "\n",
    "def get_abbreviations_list(df: pd.DataFrame) -> list:\n",
    "\t'''\n",
    "\tReturns a list of abbreviations and their definitions.\n",
    "\t'''\n",
    "\tabbreviations_list = []\n",
    "\tfor index, row in df.iterrows():\n",
    "\t\tabbreviation = row[\"Abbreviation\"]\n",
    "\t\tdefinition = row[\"English\"]\n",
    "\t\tdefinition_translation = row[\"Slovenian\"]\n",
    "\t\tword_text = generate_word_text(abbreviation, definition, definition_translation)\n",
    "\t\tabbreviations_list.append(word_text)\n",
    "\treturn abbreviations_list\n",
    "\n",
    "abbreviations_list = get_abbreviations_list(abv)\n",
    "abbreviations_list_text = \"\\n\".join(abbreviations_list)\n",
    "print(f\"{abbreviations_list_text[:500]}...\")"
   ]
  },
  {
   "cell_type": "code",
   "execution_count": null,
   "metadata": {},
   "outputs": [],
   "source": [
    "# Save to a text file\n",
    "with open(path_output, \"w\") as file:\n",
    "\tfile.write(abbreviations_list_text)"
   ]
  },
  {
   "cell_type": "markdown",
   "metadata": {},
   "source": [
    "# Word formatting instructions (from ChatGPT)\n",
    "\n",
    "1. Press `Ctrl + H` to open the Find and Replace dialog box.\n",
    "2. Click on \"More >>\" to expand additional options.\n",
    "3. Check the \"Use wildcards\" option.\n",
    "4. In the \"Find what\" box, type: `\\*A\\*([!\\*]@)\\*B\\*`\n",
    "5. In the \"Replace with\" box, type: `\\1`\n",
    "6. Click on \"Format\" and select \"Font...\"\n",
    "7. In the Font dialog box, check the \"Bold\" option.\n",
    "8. Click \"OK\" to apply the bold formatting.\n",
    "9. Click on \"Replace All\".\n",
    "\n",
    "NOTE: There's a bug in Word where the find and replace suddenly stop finding ANY matches. The solution is to close ALL instances of Word and reopen the document."
   ]
  }
 ],
 "metadata": {
  "kernelspec": {
   "display_name": "thesis",
   "language": "python",
   "name": "python3"
  },
  "language_info": {
   "codemirror_mode": {
    "name": "ipython",
    "version": 3
   },
   "file_extension": ".py",
   "mimetype": "text/x-python",
   "name": "python",
   "nbconvert_exporter": "python",
   "pygments_lexer": "ipython3",
   "version": "3.11.3"
  }
 },
 "nbformat": 4,
 "nbformat_minor": 2
}
