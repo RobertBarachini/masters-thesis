{
 "cells": [
  {
   "cell_type": "code",
   "execution_count": null,
   "metadata": {},
   "outputs": [],
   "source": [
    "import os\n",
    "import sys\n",
    "import json\n",
    "import pandas as pd\n",
    "from datetime import datetime\n",
    "from plotly import graph_objects as go\n",
    "import plotly.express as px\n",
    "\n",
    "# Project imports\n",
    "sys.path.append(os.getcwd())\n",
    "from src.py.analysis.yahoo.stocks.finance_df_utils import load_stock_csv, df_add_data, get_figure, filter_df_by_date, add_vline_annotation, save_fig, get_safe_filename, get_grouped_df\n"
   ]
  },
  {
   "cell_type": "code",
   "execution_count": null,
   "metadata": {},
   "outputs": [],
   "source": [
    "path_index = \"data/scraped/yahoo/crypto/index.json\"\n",
    "path_csv_root = \"data/scraped/yahoo/crypto/csv\"\n",
    "path_output_root = \"data/analysis/yahoo/crypto\"\n",
    "\n",
    "if os.path.exists(path_output_root) is False:\n",
    "\tos.makedirs(path_output_root)"
   ]
  },
  {
   "cell_type": "code",
   "execution_count": null,
   "metadata": {},
   "outputs": [],
   "source": [
    "# Load index\n",
    "index = json.load(open(path_index, \"r\"))[\"urls\"] # type: list\n",
    "print(f\"Loaded index with {len(index)} crypto currency links\")\n",
    "print(\"\")\n",
    "print(f\"First entry: '{index[0]}'\")\n",
    "\n",
    "# Parse just the crypto symbol from url\n",
    "index = [x.split(\"/\")[-1].split(\"?\")[0] for x in index]\n",
    "print(f\"First entry (parsed): '{index[0]}'\")"
   ]
  },
  {
   "cell_type": "code",
   "execution_count": null,
   "metadata": {},
   "outputs": [],
   "source": [
    "# Load all CSVs\n",
    "dfs_dict = {}\n",
    "dfs_fails = {}\n",
    "print(f\"Loading {len(index)} crypto CSVs.\")\n",
    "print(\"\")\n",
    "for i, symbol in enumerate(index):\n",
    "\tprint(f\"{i+1}/{len(index)} [{symbol}]     \", end=\"\\r\")\n",
    "\ttry:\n",
    "\t\t# Load CSV\n",
    "\t\tdf = load_stock_csv(os.path.join(path_csv_root, f\"{symbol}.csv\"))\n",
    "\t\t# Check if data is within range (first date < 2018-10-01)\n",
    "\t\tif df.index[0] > datetime(2018, 10, 1):\n",
    "\t\t\traise Exception(\"Data starts after 2018-10-01.\")\n",
    "\t\t# Check if data is within range (last date > 2023-12-01)\n",
    "\t\tif df.index[-1] < datetime(2023, 12, 1):\n",
    "\t\t\traise Exception(\"Data ends before 2023-12-26.\")\n",
    "\t\t# Plotting interval is 2019-01-01 to 2023-12-26\n",
    "\t\t# start_date is set to 2018-10-01 to leave some for window\n",
    "\t\tdf = filter_df_by_date(df, start_date=\"2018-10-01\", end_date=\"2023-12-26\")\n",
    "\t\tdfs_dict[symbol] = df\n",
    "\texcept Exception as e:\n",
    "\t\tif \"no such file or directory\" in str(e).lower():\n",
    "\t\t\te = \"No CSV file.\"\n",
    "\t\tdfs_fails[symbol] = str(e)\n",
    "print(\"\")\n",
    "print(f\"Loaded {len(dfs_dict)} crypto CSVs.\")"
   ]
  },
  {
   "cell_type": "code",
   "execution_count": null,
   "metadata": {},
   "outputs": [],
   "source": [
    "# Print fails grouped and sorted by error\n",
    "print(f\"Failed to load {len(dfs_fails)} crypto CSVs.\")\n",
    "print(\"\")\n",
    "dfs_fails_grouped = { str(e): [] for e in set(dfs_fails.values()) }\n",
    "for ticker, e in dfs_fails.items():\n",
    "\tdfs_fails_grouped[str(e)].append(ticker)\n",
    "\n",
    "for e, tickers in sorted(dfs_fails_grouped.items(), key=lambda x: len(x[1]), reverse=True):\n",
    "\tprint(f\"{len(tickers)} cryptos: {e}\")\n",
    "\tprint(f\"{', '.join(tickers[:10])}...\")\n",
    "\tprint(\"\")\n"
   ]
  },
  {
   "cell_type": "code",
   "execution_count": null,
   "metadata": {},
   "outputs": [],
   "source": [
    "# Print first 10 unique crypto symbols\n",
    "print(f\"First 10 crypto symbols:\")\n",
    "for i, symbol in enumerate(list(dfs_dict.keys())[:10]):\n",
    "\tprint(f\"{i+1:2d}: {symbol}\")"
   ]
  },
  {
   "cell_type": "code",
   "execution_count": null,
   "metadata": {},
   "outputs": [],
   "source": [
    "# Add Symbol column to start of each DataFrame\n",
    "for symbol, df in dfs_dict.items():\n",
    "\tif \"Symbol\" in df.columns: # ensure idempotence\n",
    "\t\tcontinue\n",
    "\tdf[\"Symbol\"] = symbol\n",
    "\tdf = df[[\"Symbol\"] + df.columns[:-1].tolist()]\n",
    "\tdfs_dict[symbol] = df\n",
    "\n",
    "dfs_dict[\"BTC-USD\"].head()"
   ]
  },
  {
   "cell_type": "code",
   "execution_count": null,
   "metadata": {},
   "outputs": [],
   "source": [
    "# Plot first 5 crypto symbols on the same plot\n",
    "fig = px.line()\n",
    "for symbol, df in list(dfs_dict.items())[:5]:\n",
    "\tfig.add_trace(go.Scatter(x=df.index, y=df[\"Close\"], name=symbol))\n",
    "fig.update_layout(title=\"First 5 crypto symbols\")\n",
    "fig.show()"
   ]
  },
  {
   "cell_type": "code",
   "execution_count": null,
   "metadata": {},
   "outputs": [],
   "source": [
    "# TODO: move to utils\n",
    "\n",
    "events = []\n",
    "\n",
    "# COVID-19 market crash\n",
    "events.append({\n",
    "\t\"date\": datetime(2020, 2, 20),\n",
    "\t\"annotation\": \"MC\",\n",
    "\t\"description\": \"COVID-19 market crash\"\n",
    "})\n",
    "\n",
    "# COVID-19 market crash end\n",
    "events.append({\n",
    "\t\"date\": datetime(2020, 4, 7),\n",
    "\t\"annotation\": \"MC end\",\n",
    "\t\"description\": \"COVID-19 market crash end\"\n",
    "})"
   ]
  },
  {
   "cell_type": "code",
   "execution_count": null,
   "metadata": {},
   "outputs": [],
   "source": [
    "def get_grouped_fig(dfs_dict: dict, symbols: list, title: str, events: list) -> go.Figure:\n",
    "\tdfs_dict_filtered = { symbol: dfs_dict[symbol] for symbol in symbols }\n",
    "\tdf_n = pd.concat(dfs_dict_filtered.values())\n",
    "\tdf_n = get_grouped_df(df_n, start_date=\"2019-01-01\")\n",
    "\tfig = get_figure(df_n, title)\n",
    "\tfor event in events:\n",
    "\t\tadd_vline_annotation(fig, event)\n",
    "\treturn fig\n",
    "\t\n",
    "# Example with just first entry (BTC-USD)\n",
    "btc_symbol = list(dfs_dict.keys())[0]\n",
    "fig = get_grouped_fig(dfs_dict, [btc_symbol], f\"Bitcoin ({btc_symbol}) trends\", events)\n",
    "fig.show()"
   ]
  },
  {
   "cell_type": "code",
   "execution_count": null,
   "metadata": {},
   "outputs": [],
   "source": [
    "# Get first n symbols\n",
    "n = 1000\n",
    "symbols = list(dfs_dict.keys())[:n]\n",
    "fig = get_grouped_fig(dfs_dict, symbols, f\"Market trends for first {len(symbols)} cryptocurrencies\", events)\n",
    "fig.show()\n",
    "\n",
    "# Save figure\n",
    "filename = f\"crypto-market-trends-first-{len(symbols)}\"\n",
    "path_output = os.path.join(path_output_root, f\"{filename}.png\")\n",
    "save_fig(fig, path_output)"
   ]
  }
 ],
 "metadata": {
  "kernelspec": {
   "display_name": "thesis",
   "language": "python",
   "name": "python3"
  },
  "language_info": {
   "codemirror_mode": {
    "name": "ipython",
    "version": 3
   },
   "file_extension": ".py",
   "mimetype": "text/x-python",
   "name": "python",
   "nbconvert_exporter": "python",
   "pygments_lexer": "ipython3",
   "version": "3.11.3"
  }
 },
 "nbformat": 4,
 "nbformat_minor": 2
}
