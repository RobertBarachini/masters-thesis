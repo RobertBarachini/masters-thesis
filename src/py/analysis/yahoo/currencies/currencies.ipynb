{
 "cells": [
  {
   "cell_type": "code",
   "execution_count": null,
   "metadata": {},
   "outputs": [],
   "source": [
    "import os\n",
    "import json\n",
    "import pandas as pd\n",
    "from plotly import graph_objs as go"
   ]
  },
  {
   "cell_type": "code",
   "execution_count": null,
   "metadata": {},
   "outputs": [],
   "source": [
    "path_root = \"data/scraped/yahoo/currencies\"\n",
    "# path_index = \"data/scraped/yahoo/currencies/index.json\"\n",
    "path_index = os.path.join(path_root, \"index.json\")\n",
    "# path_csv_root = \"data/scraped/yahoo/currencies/csv\"\n",
    "path_csv_root = os.path.join(path_root, \"csv\")"
   ]
  },
  {
   "cell_type": "code",
   "execution_count": null,
   "metadata": {},
   "outputs": [],
   "source": [
    "index = json.load(open(path_index, \"r\"))\n",
    "print(f\"Currency names: {len(index)}\")\n",
    "for key, currency in index.items(): # key is the currency code and is the same as name\n",
    "\t\tprint(f\"- {currency['name']}\")"
   ]
  },
  {
   "cell_type": "code",
   "execution_count": null,
   "metadata": {},
   "outputs": [],
   "source": [
    "# desired_currencies = [\"USD-EUR\", \"USD-GBP\", \"USD-JPY\"]\n",
    "base_currency = \"USD\"\n",
    "desired_currencies = [\"EUR-USD\", \"GBP-USD\", \"USD-JPY\"]\n",
    "# Print if you find the desired currencies in the index\n",
    "for currency in desired_currencies:\n",
    "\tif currency in index:\n",
    "\t\tprint(f\"OK - Found {currency} in index\")\n",
    "\telse:\n",
    "\t\tprint(f\"ERR - Did not find {currency} in index\")"
   ]
  },
  {
   "cell_type": "code",
   "execution_count": null,
   "metadata": {},
   "outputs": [],
   "source": [
    "def get_df(currency: str) -> pd.DataFrame:\n",
    "\tdf = pd.read_csv(os.path.join(path_csv_root, f\"{currency}.csv\"))\n",
    "\tdf[\"Date\"] = pd.to_datetime(df[\"Date\"])\n",
    "\tdf.set_index(\"Date\", inplace=True)\n",
    "\tdf = df[[\"Close\"]]\n",
    "\treturn df\n",
    "\n",
    "eur_usd = get_df(\"EUR-USD\")\n",
    "eur_usd.head()"
   ]
  },
  {
   "cell_type": "code",
   "execution_count": null,
   "metadata": {},
   "outputs": [],
   "source": [
    "def invert_currency_pair(df: pd.DataFrame) -> pd.DataFrame:\n",
    "\tdf_copy = df.copy()\n",
    "\tdf_copy[\"Close\"] = 1 / df_copy[\"Close\"]\n",
    "\treturn df_copy\n",
    "\n",
    "def invert_currency_pair_name(currency_pair: str) -> str:\n",
    "\tparts = currency_pair.split(\"-\")\n",
    "\treturn f\"{parts[1]}-{parts[0]}\"\n",
    "\n",
    "def get_plot_pairs(dfs: dict, base_currency: str) -> go.Figure:\n",
    "\tfig = go.Figure()\n",
    "\ttitle = f\"Currency pairs with {base_currency}\"\n",
    "\tfor currency, df in dfs.items():\n",
    "\t\tname = currency\n",
    "\t\tif currency.startswith(base_currency):\n",
    "\t\t\tdf = invert_currency_pair(df)\n",
    "\t\t\tname = invert_currency_pair_name(currency)\n",
    "\t\tfig.add_trace(go.Scatter(x=df.index, y=df[\"Close\"], name=name))\n",
    "\tfig.update_layout(title_text=title)\n",
    "\treturn fig\n",
    "\n",
    "fig = get_plot_pairs({currency: get_df(currency) for currency in desired_currencies}, base_currency)\n",
    "fig.show()"
   ]
  },
  {
   "cell_type": "code",
   "execution_count": null,
   "metadata": {},
   "outputs": [],
   "source": [
    "# Explanation:\n",
    "# EUR-USD # if currency.startswith(base_currency):\n",
    "# -> for 1 EUR you got 1.43 USD in 2010\n",
    "#\n",
    "# USD-EUR # if not currency.startswith(base_currency):\n",
    "# -> for 1 USD you got 0.69 EUR in 2010\n",
    "\n",
    "# When adjusting local prices (DE (EUR), UK (GBP), JP (JPY)) for the base currency (USD), we need to have it (USD) on the right side of the pair\n",
    "# then the formula for calculating series adjusted prices is:\n",
    "# adjusted_price = local_price * x_rate"
   ]
  },
  {
   "cell_type": "code",
   "execution_count": null,
   "metadata": {},
   "outputs": [],
   "source": [
    "def get_plot_pairs_index(dfs: dict, base_currency: str, index: str) -> go.Figure:\n",
    "\tfig = go.Figure()\n",
    "\ttitle = f\"Currency pairs with {base_currency} - normalized to '{index}' = 100\"\n",
    "\tfor currency, df in dfs.items():\n",
    "\t\tname = currency\n",
    "\t\tif currency.startswith(base_currency):\n",
    "\t\t\tdf = invert_currency_pair(df)\n",
    "\t\t\tname = invert_currency_pair_name(currency)\n",
    "\t\t# set index as 100\n",
    "\t\tvalue_at = df.loc[index, \"Close\"]\n",
    "\t\tdf[\"Close\"] = df[\"Close\"] / value_at * 100 # type: ignore\n",
    "\t\t# resample to monthly\n",
    "\t\tdf = df.resample(\"M\").mean()\n",
    "\t\tfig.add_trace(go.Scatter(x=df.index, y=df[\"Close\"], name=name))\n",
    "\tfig.update_layout(title_text=title)\n",
    "\treturn fig\n",
    "\n",
    "fig = get_plot_pairs_index({currency: get_df(currency) for currency in desired_currencies}, base_currency, \"2010-01-01\")\n",
    "fig.show()"
   ]
  },
  {
   "cell_type": "code",
   "execution_count": null,
   "metadata": {},
   "outputs": [],
   "source": [
    "# DONE:\n",
    "# - resample to monthly and export selected for easier processing of other data"
   ]
  },
  {
   "cell_type": "code",
   "execution_count": null,
   "metadata": {},
   "outputs": [],
   "source": [
    "def get_df_joint(curriencies: list, base_currency: str, resample: str) -> pd.DataFrame:\n",
    "\tdfs = {currency: get_df(currency) for currency in curriencies}\n",
    "\t# invert if necessary\n",
    "\tfor currency in list(dfs.keys()):\n",
    "\t\tdf_currency = dfs[currency]\n",
    "\t\tif currency.startswith(base_currency):\n",
    "\t\t\tdel dfs[currency]\n",
    "\t\t\tdf_currency = invert_currency_pair(df_currency)\n",
    "\t\t\tcurrency = invert_currency_pair_name(currency)\n",
    "\t\tdfs[currency] = df_currency\n",
    "\tdf = pd.concat(dfs, axis=1)\n",
    "\tdf.columns = df.columns.droplevel(1)\n",
    "\tdf.fillna(method=\"ffill\", inplace=True)\n",
    "\t# resample to monthly\n",
    "\tif resample in [\"D\", \"W\", \"M\", \"Q\", \"A\", \"Y\"]:\n",
    "\t\tdf = df.resample(resample).mean()\n",
    "\t\t# if M or Q, drop days component of the index\n",
    "\t\tif resample in [\"M\", \"Q\"]:\n",
    "\t\t\tdf.index = df.index.to_period(\"M\") # type: ignore\n",
    "\t\tif resample in [\"A\", \"Y\"]:\n",
    "\t\t\tdf.index = df.index.to_period(resample) # type: ignore\n",
    "\t\tif resample not in [\"W\", \"D\"]:\n",
    "\t\t\tdf.index = df.index.to_timestamp() # type: ignore\n",
    "\tdf.fillna(method=\"ffill\", inplace=True) # refill if resampled missing\n",
    "\treturn df\n",
    "\n",
    "df = get_df_joint(desired_currencies, base_currency, \"D\")\n",
    "df.head()"
   ]
  },
  {
   "cell_type": "code",
   "execution_count": null,
   "metadata": {},
   "outputs": [],
   "source": [
    "# Save to CSV\n",
    "df = get_df_joint(desired_currencies, base_currency, \"D\")\n",
    "path_csv = os.path.join(path_root, \"currency_pairs_merged_selection.csv\")\n",
    "df.to_csv(path_csv)"
   ]
  },
  {
   "cell_type": "code",
   "execution_count": null,
   "metadata": {},
   "outputs": [],
   "source": [
    "# # print number of missing values\n",
    "# df.isna().sum()\n",
    "\n",
    "# # print all rows with missing values\n",
    "# print(df[df.isna().any(axis=1)])\n",
    "\n",
    "# # fill missing values with the last available value\n",
    "# df.fillna(method=\"ffill\", inplace=True)\n",
    "\n",
    "# # print number of missing values\n",
    "# df.isna().sum()"
   ]
  },
  {
   "cell_type": "code",
   "execution_count": null,
   "metadata": {},
   "outputs": [],
   "source": [
    "# Plot the joint dataframe - compare M to Y\n",
    "\n",
    "df = get_df_joint(desired_currencies, base_currency, \"M\")\n",
    "fig = go.Figure()\n",
    "title = f\"Currency pairs with {base_currency}\"\n",
    "for currency in df.columns:\n",
    "\tfig.add_trace(go.Scatter(x=df.index, y=df[currency], name=f\"M-{currency}\"))\n",
    "fig.update_layout(title_text=title)\n",
    "# fig.show()\n",
    "\n",
    "df = get_df_joint(desired_currencies, base_currency, \"Y\")\n",
    "# fig = go.Figure()\n",
    "# title = f\"Currency pairs with {base_currency}\"\n",
    "for currency in df.columns:\n",
    "\tfig.add_trace(go.Scatter(x=df.index, y=df[currency], name=f\"Y-{currency}\"))\n",
    "# fig.update_layout(title_text=title)\n",
    "fig.show()\n",
    "\n"
   ]
  }
 ],
 "metadata": {
  "kernelspec": {
   "display_name": "thesis",
   "language": "python",
   "name": "python3"
  },
  "language_info": {
   "codemirror_mode": {
    "name": "ipython",
    "version": 3
   },
   "file_extension": ".py",
   "mimetype": "text/x-python",
   "name": "python",
   "nbconvert_exporter": "python",
   "pygments_lexer": "ipython3",
   "version": "3.11.3"
  }
 },
 "nbformat": 4,
 "nbformat_minor": 2
}
