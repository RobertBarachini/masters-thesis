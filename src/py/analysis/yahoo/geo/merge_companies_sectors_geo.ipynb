{
 "cells": [
  {
   "cell_type": "code",
   "execution_count": null,
   "metadata": {},
   "outputs": [],
   "source": [
    "import os\n",
    "import json\n",
    "import pycountry\n",
    "import pandas as pd\n",
    "import plotly.express as px"
   ]
  },
  {
   "cell_type": "code",
   "execution_count": null,
   "metadata": {},
   "outputs": [],
   "source": [
    "path_companies = \"data/scraped/yahoo/sectors/index_stocks.json\"\n",
    "path_sectors = \"data/scraped/yahoo/sectors/all_sectors.json\"\n",
    "path_merged = \"data/scraped/yahoo/sectors/companies_sectors_geo.csv\"\n",
    "path_output_root = \"data/analysis/yahoo/geo\"\n",
    "if not os.path.exists(path_output_root):\n",
    "\tos.makedirs(path_output_root)"
   ]
  },
  {
   "cell_type": "code",
   "execution_count": null,
   "metadata": {},
   "outputs": [],
   "source": [
    "companies = json.load(open(path_companies, \"r\"))\n",
    "companies = {c[\"symbol\"]: c for c in companies}\n",
    "print(f\"Loaded '{len(companies)}' companies\")\n",
    "# Filter by companies that have (list) \"profile\" key and \"profile\" has \"geo_google\" key\n",
    "companies = {\n",
    "    k: v\n",
    "    for k, v in companies.items()\n",
    "    if \"profile\" in v and \"geo_google\" in v[\"profile\"]\n",
    "}\n",
    "print(f\"Filtered to '{len(companies)}' companies with valid data\")"
   ]
  },
  {
   "cell_type": "code",
   "execution_count": null,
   "metadata": {},
   "outputs": [],
   "source": [
    "# Parse country from profile address (last line)\n",
    "for k, v in companies.items():\n",
    "\t# splitting by \\n\\n solves some html sneaking in\n",
    "\tv[\"profile\"][\"country\"] = v[\"profile\"][\"address\"].split(\"<a\")[0].strip().split(\n",
    "\t    \"\\n\")[-1].strip().lower()"
   ]
  },
  {
   "cell_type": "code",
   "execution_count": null,
   "metadata": {},
   "outputs": [],
   "source": [
    "# Example \"MSFT\" company data\n",
    "msft_profile = companies[\"MSFT\"][\"profile\"]\n",
    "print(json.dumps(msft_profile, indent=4))\n",
    "msft_country = msft_profile[\"geo_google\"][\"country\"]\n",
    "print(f\"Country name: '{msft_country}'\")"
   ]
  },
  {
   "cell_type": "code",
   "execution_count": null,
   "metadata": {},
   "outputs": [],
   "source": [
    "country_fuzzy_memo = {}\n",
    "\n",
    "\n",
    "def try_get_country(company_profile: dict) -> str:\n",
    "\t'''\n",
    "\t\tTries to get country from company profile\n",
    "\t'''\n",
    "\ttry:\n",
    "\t\tcountry_address = company_profile[\"country\"]\n",
    "\t\tif country_address in country_fuzzy_memo:\n",
    "\t\t\treturn country_fuzzy_memo[country_address]\n",
    "\t\tcountry_name = pycountry.countries.search_fuzzy(country_address)[0].name\n",
    "\t\tcountry_fuzzy_memo[country_address] = country_name\n",
    "\t\treturn country_name\n",
    "\texcept:\n",
    "\t\tpass\n",
    "\ttry:\n",
    "\t\tcountry_geo = company_profile[\"geo_google\"][\"country\"]\n",
    "\t\tif country_geo in country_fuzzy_memo:\n",
    "\t\t\treturn country_fuzzy_memo[country_geo]\n",
    "\t\tcountry_name = pycountry.countries.search_fuzzy(country_geo)[0].name\n",
    "\t\tcountry_fuzzy_memo[country_geo] = country_name\n",
    "\t\treturn country_name\n",
    "\texcept:\n",
    "\t\tpass\n",
    "\treturn \"\"\n",
    "\n",
    "\n",
    "# Print 2-letter and 3-letter country codes as well as country name using pycountry\n",
    "# country = pycountry.countries.search_fuzzy(\"United States\")[0]\n",
    "msft_country_name = try_get_country(msft_profile)\n",
    "msft_country = pycountry.countries.get(name=msft_country_name)\n",
    "print(f\"Country 2-letter code: '{msft_country.alpha_2}'\")\n",
    "print(f\"Country 3-letter code: '{msft_country.alpha_3}'\")\n",
    "print(f\"Country name: '{msft_country.name}'\")"
   ]
  },
  {
   "cell_type": "code",
   "execution_count": null,
   "metadata": {},
   "outputs": [],
   "source": [
    "print(f\"Fuzzy country search memoization has '{len(country_fuzzy_memo)}' countries:\")\n",
    "print(json.dumps(country_fuzzy_memo, indent=4))"
   ]
  },
  {
   "cell_type": "code",
   "execution_count": null,
   "metadata": {},
   "outputs": [],
   "source": [
    "country_names = {}\n",
    "countries_unknown = []\n",
    "for i, (k, v) in enumerate(companies.items()):\n",
    "\tprint(f\"Company {i}/{len(companies)}: {k}\", end=\"\\r\")\n",
    "\tcountry_name = try_get_country(v[\"profile\"])\n",
    "\tif country_name:\n",
    "\t\tcountry_names[k] = country_name\n",
    "\telse:\n",
    "\t\tcountries_unknown.append(k)\n",
    "print(\"\\n\\n\")\n",
    "print(f\"Found '{len(country_names)}' country names\")\n",
    "print(f\"Found '{len(countries_unknown)}' unknown country names\")\n"
   ]
  },
  {
   "cell_type": "code",
   "execution_count": null,
   "metadata": {},
   "outputs": [],
   "source": [
    "# Print symbols and addresses for companies with unknown country names\n",
    "print(\"Unknown country names:\")\n",
    "for k in countries_unknown:\n",
    "\tprint(f\"{k}: '{companies[k]['profile']['country']}'\")"
   ]
  },
  {
   "cell_type": "code",
   "execution_count": null,
   "metadata": {},
   "outputs": [],
   "source": [
    "# Print country counts (descending)\n",
    "country_counts = {}\n",
    "for k, v in country_names.items():\n",
    "\tif v not in country_counts:\n",
    "\t\tcountry_counts[v] = 0\n",
    "\tcountry_counts[v] += 1\n",
    "country_counts_sorted = sorted(country_counts.items(),\n",
    "                        key=lambda x: x[1],\n",
    "                        reverse=True)\n",
    "print(\"Country counts:\")\n",
    "for k, v in country_counts_sorted:\n",
    "\tprint(f\"{k}: {v}\")"
   ]
  },
  {
   "cell_type": "code",
   "execution_count": null,
   "metadata": {},
   "outputs": [],
   "source": [
    "# Save validated country names to companies (profile -> country_valid)\n",
    "for k, v in companies.items():\n",
    "\tif k in country_names:\n",
    "\t\tv[\"profile\"][\"country_valid\"] = country_names[k]"
   ]
  },
  {
   "cell_type": "code",
   "execution_count": null,
   "metadata": {},
   "outputs": [],
   "source": [
    "sectors = json.load(open(path_sectors, \"r\"))[\"sectors\"]"
   ]
  },
  {
   "cell_type": "code",
   "execution_count": null,
   "metadata": {},
   "outputs": [],
   "source": [
    "# NOTE: sectors tree data has duplicates - use company profile sector and industry instead\n",
    "\n",
    "# # this is a list of sectors - each sector has a list of industries and each industry has a list of companies and each company has a symbol\n",
    "# # add \"sector\" and \"industry\" to each company\n",
    "# # clear out \"sector\" and \"industry\" from each company\n",
    "# for k, v in companies.items():\n",
    "# \tdel v[\"sector\"]\n",
    "# \tdel v[\"industry\"]\n",
    "\n",
    "# company_industry = {}\n",
    "# total_count = 0 # this includes duplicates\n",
    "\n",
    "# # TODO: fix by adding \"sector\" and \"industry\" to each company from profile data\n",
    "# # need to rerun the scraper to get this data\n",
    "\n",
    "# for sector in sectors:\n",
    "# \tfor industry in sector[\"industries\"]:\n",
    "# \t\t# print(f\"Industry {industry['name']} has {len(industry['companies'])} companies\")\n",
    "# \t\ttotal_count += len(industry['companies'])\n",
    "# \t\t# if industry[\"name\"] == \"Software - Infrastructure\":\n",
    "# \t\t# \there = 0\n",
    "# \t\tfor company in industry[\"companies\"]:\n",
    "# \t\t\tif company[\"symbol\"] not in companies:\n",
    "# \t\t\t\tcontinue\n",
    "# \t\t\t# if company[\"symbol\"] == \"MSFT\":\n",
    "# \t\t\t# \there = 0\n",
    "# \t\t\tcompanies[company[\"symbol\"]][\"sector\"] = sector[\"name\"]\n",
    "# \t\t\tcompanies[company[\"symbol\"]][\"industry\"] = industry[\"name\"]\n",
    "\n",
    "# print(f\"Total count: {total_count} (includes duplicates)\")"
   ]
  },
  {
   "cell_type": "code",
   "execution_count": null,
   "metadata": {},
   "outputs": [],
   "source": [
    "# Clear out \"sector\" and \"industry\" from each company\n",
    "for k, v in companies.items():\n",
    "\ttry:\n",
    "\t\tdel v[\"sector\"]\n",
    "\texcept:\n",
    "\t\tpass\n",
    "\ttry:\n",
    "\t\tdel v[\"industry\"]\n",
    "\texcept:\n",
    "\t\tpass\n",
    "\n",
    "# Add \"sector\" and \"industry\" to each company from profile data\n",
    "for k, v in companies.items():\n",
    "\tif \"sector\" in v[\"profile\"]:\n",
    "\t\tv[\"sector\"] = v[\"profile\"][\"sector\"].strip()\n",
    "\tif \"industry\" in v[\"profile\"]:\n",
    "\t\tv[\"industry\"] = v[\"profile\"][\"industry\"].strip()\n",
    "\n",
    "# Count the number of companies without sector, without industry, and without either\n",
    "companies_no_sector = []\n",
    "companies_no_industry = []\n",
    "companies_no_sector_industry = []\n",
    "for k, v in companies.items():\n",
    "\tif \"sector\" not in v:\n",
    "\t\tcompanies_no_sector.append(k)\n",
    "\tif \"industry\" not in v:\n",
    "\t\tcompanies_no_industry.append(k)\n",
    "\tif \"sector\" not in v and \"industry\" not in v:\n",
    "\t\tcompanies_no_sector_industry.append(k)\n",
    "print(f\"Companies without sector: {len(companies_no_sector)}\")\n",
    "print(f\"Companies without industry: {len(companies_no_industry)}\")\n",
    "print(\n",
    "    f\"Companies without sector or industry: {len(companies_no_sector_industry)}\"\n",
    ")\n"
   ]
  },
  {
   "cell_type": "code",
   "execution_count": null,
   "metadata": {},
   "outputs": [],
   "source": [
    "# NOTE: if any sectors / industries are missing you can use the sectors tree data to fill them in - it is not perfect but it is better than nothing"
   ]
  },
  {
   "cell_type": "code",
   "execution_count": null,
   "metadata": {},
   "outputs": [],
   "source": [
    "msft = companies[\"MSFT\"]\n",
    "print(json.dumps(msft, indent=4))"
   ]
  },
  {
   "cell_type": "code",
   "execution_count": null,
   "metadata": {},
   "outputs": [],
   "source": [
    "#"
   ]
  },
  {
   "cell_type": "code",
   "execution_count": null,
   "metadata": {},
   "outputs": [],
   "source": [
    "# Convert market cap to float\n",
    "def get_market_cap(company: dict) -> float:\n",
    "\ttry:\n",
    "\t\tmarket_cap_str = company[\"market_cap\"]\n",
    "\t\tletter = market_cap_str[-1]\n",
    "\t\tmarket_cap = float(market_cap_str[:-1])\n",
    "\t\tif letter == \"T\":\n",
    "\t\t\tmarket_cap *= 10 ** 12\n",
    "\t\telif letter == \"B\":\n",
    "\t\t\tmarket_cap *= 10 ** 9\n",
    "\t\telif letter == \"M\":\n",
    "\t\t\tmarket_cap *= 10 ** 6\n",
    "\t\telif letter == \"K\":\n",
    "\t\t\tmarket_cap *= 10 ** 3\n",
    "\t\telse:\n",
    "\t\t\t# raise Exception(f\"Unknown market cap letter '{letter}'\")\n",
    "\t\t\tprint(f\"Unknown market cap letter '{letter}'\")\n",
    "\t\treturn float(market_cap)\n",
    "\texcept:\n",
    "\t\treturn -1\n",
    "\t\n",
    "for k, v in companies.items():\n",
    "\tv[\"market_cap_float\"] = get_market_cap(v)\n",
    "\n",
    "# Print number of companies with -1 market cap\n",
    "companies_without_market_cap = [k for k, v in companies.items() if v[\"market_cap_float\"] == -1]\n",
    "print(f\"Companies without market cap: '{len(companies_without_market_cap)}'\")\n",
    "for k in companies_without_market_cap:\n",
    "\tprint(k)"
   ]
  },
  {
   "cell_type": "code",
   "execution_count": null,
   "metadata": {},
   "outputs": [],
   "source": [
    "# Create dataframe with company symbols, names, sectors, industries, countries, latitudes, longitudes\n",
    "\n",
    "df = pd.DataFrame(columns=[\n",
    "    \"symbol\", \"name\", \"sector\", \"industry\", \"market_cap\", \"employees\", \"country\", \"country_code\", \"latitude\", \"longitude\"\n",
    "])\n",
    "\n",
    "for k, v in companies.items():\n",
    "\tif \"profile\" not in v or \"geo_google\" not in v[\"profile\"]:\n",
    "\t\tcontinue\n",
    "\tprofile = v[\"profile\"]\n",
    "\temployees = -1\n",
    "\ttry:\n",
    "\t\temployees = int(profile[\"employees\"])\n",
    "\texcept:\n",
    "\t\t# print(f\"Could not parse employees for '{k}' - '{profile['employees']}'\")\n",
    "\t\tpass\n",
    "\trow_object = {\n",
    "\t    \"symbol\": k,\n",
    "\t    \"name\": v[\"name\"],\n",
    "\t    \"sector\": v[\"sector\"],\n",
    "\t    \"industry\": v[\"industry\"],\n",
    "\t\t\t\"market_cap\": v[\"market_cap_float\"],\n",
    "\t    \"employees\": employees,\n",
    "\t    \"country\": profile[\"country_valid\"],\n",
    "\t    \"country_code\": pycountry.countries.get(name=profile[\"country_valid\"]).alpha_3,\n",
    "\t    \"latitude\": profile[\"geo_google\"][\"latitude\"],\n",
    "\t    \"longitude\": profile[\"geo_google\"][\"longitude\"]\n",
    "\t}\n",
    "\tdf = pd.concat([df, pd.DataFrame([row_object])], ignore_index=True)\n",
    "\n",
    "# Set market_cap, employees, latitude, longitude to numeric\n",
    "df[\"market_cap\"] = pd.to_numeric(df[\"market_cap\"])\n",
    "df[\"employees\"] = pd.to_numeric(df[\"employees\"])\n",
    "df[\"latitude\"] = pd.to_numeric(df[\"latitude\"])\n",
    "df[\"longitude\"] = pd.to_numeric(df[\"longitude\"])\n",
    "\n",
    "# Change -1 employees to NaN\n",
    "df[\"employees\"] = df[\"employees\"].replace(-1, float(\"nan\"))\n",
    "# Change -1 market_cap to NaN\n",
    "df[\"market_cap\"] = df[\"market_cap\"].replace(-1, float(\"nan\"))\n",
    "\n",
    "df.head()\n"
   ]
  },
  {
   "cell_type": "code",
   "execution_count": null,
   "metadata": {},
   "outputs": [],
   "source": [
    "# Save dataframe to csv\n",
    "df.to_csv(path_merged, index=False)"
   ]
  },
  {
   "cell_type": "code",
   "execution_count": null,
   "metadata": {},
   "outputs": [],
   "source": [
    "# Use px.choropleth to plot country counts\n",
    "three_letter_codes = [pycountry.countries.get(name=k).alpha_3 for k, v in country_counts.items()]\n",
    "df = pd.DataFrame({\n",
    "    \"country\": list(country_counts.keys()),\n",
    "    \"count\": list(country_counts.values()),\n",
    "    \"code\": three_letter_codes\n",
    "})\n",
    "# remove united states from df\n",
    "df_edit = df[df[\"country\"] != \"United States\"]\n",
    "# df_edit = df\n",
    "fig = px.choropleth(df_edit,\n",
    "                    locations=\"code\",\n",
    "                    color=\"count\",\n",
    "                    hover_name=\"country\",\n",
    "                    color_continuous_scale=px.colors.sequential.Plasma)\n",
    "fig.update_layout(title_text=f\"Company counts by country (excluding United States which has {country_counts['United States']} companies)\",\n",
    "\t\t\t\t\t\t\t\t\t\t\t\t\t\t\t\t\t\ttitle_x=0.5,\n",
    "\t\t\t\t\t\t\t\t\t\t\t\t\t\t\t\t\t\ttitle_y=0.965)\n",
    "fig.update_layout(width=1280, height=720)\n",
    "# layout margin\n",
    "fig.update_layout(margin=dict(l=10, r=0, t=0, b=0))\n",
    "fig.show()\n",
    "\n",
    "path_output = os.path.join(path_output_root, \"company_counts_by_country.png\")\n",
    "fig.write_image(path_output, scale=2)"
   ]
  }
 ],
 "metadata": {
  "kernelspec": {
   "display_name": "thesis",
   "language": "python",
   "name": "python3"
  },
  "language_info": {
   "codemirror_mode": {
    "name": "ipython",
    "version": 3
   },
   "file_extension": ".py",
   "mimetype": "text/x-python",
   "name": "python",
   "nbconvert_exporter": "python",
   "pygments_lexer": "ipython3",
   "version": "3.11.3"
  }
 },
 "nbformat": 4,
 "nbformat_minor": 2
}
