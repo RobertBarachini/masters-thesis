{
 "cells": [
  {
   "cell_type": "code",
   "execution_count": null,
   "metadata": {},
   "outputs": [],
   "source": [
    "import os\n",
    "import json\n",
    "import nltk\n",
    "import time\n",
    "\n",
    "nltk.download('stopwords')\n",
    "nltk.download('punkt')"
   ]
  },
  {
   "cell_type": "code",
   "execution_count": null,
   "metadata": {},
   "outputs": [],
   "source": [
    "path_text_root = \"data/scraped/cnet/articles/parsed\"\n",
    "path_index_output = \"data/scraped/cnet/parsed-articles-index.json\""
   ]
  },
  {
   "cell_type": "code",
   "execution_count": null,
   "metadata": {},
   "outputs": [],
   "source": [
    "# Merge all the text files into one big dictionary\n",
    "\n",
    "def get_text(file_path: str) -> str:\n",
    "\twith open(file_path, \"r\") as f:\n",
    "\t\treturn f.read()\n",
    "\t\n",
    "index = {}\n",
    "filelist = os.listdir(path_text_root)\n",
    "\n",
    "for i, filename in enumerate(filelist):\n",
    "\tarticle_id = filename.split(\".\")[0]\n",
    "\tprint(f\"{i+1}/{len(filelist)}   {article_id}        \", end=\"\\r\")\n",
    "\tfile_path = os.path.join(path_text_root, filename)\n",
    "\tindex[article_id] = get_text(file_path)\n",
    "\n",
    "print(\"\")\n",
    "print(f\"Read {len(index)} articles\")"
   ]
  },
  {
   "cell_type": "code",
   "execution_count": null,
   "metadata": {},
   "outputs": [],
   "source": [
    "empty_articles = [k for k, v in index.items() if len(v.strip()) == 0]\n",
    "print(f\"Found {len(empty_articles)} empty articles\")\n",
    "\n",
    "# Remove empty articles\n",
    "for article_id in empty_articles:\n",
    "\tdel index[article_id]\n",
    "\n",
    "print(f\"Remaining {len(index)} articles\")\n"
   ]
  },
  {
   "cell_type": "code",
   "execution_count": null,
   "metadata": {},
   "outputs": [],
   "source": [
    "# Write the index to a file\n",
    "json.dump(index, open(path_index_output, \"w\"), indent=2)"
   ]
  },
  {
   "cell_type": "code",
   "execution_count": null,
   "metadata": {},
   "outputs": [],
   "source": [
    "# TODO: remove paragraphs that start with \"see also\""
   ]
  },
  {
   "cell_type": "code",
   "execution_count": null,
   "metadata": {},
   "outputs": [],
   "source": [
    "def get_clean_tokens(text: str) -> list:\n",
    "\t# Tokenize\n",
    "\ttokens = nltk.word_tokenize(text)\n",
    "\t# Remove stopwords\n",
    "\tstopwords_set = set(nltk.corpus.stopwords.words('english'))\n",
    "\ttokens = [token for token in tokens if token not in stopwords_set]\n",
    "\t# Stem\n",
    "\tstemmer = nltk.stem.PorterStemmer()\n",
    "\ttokens = [stemmer.stem(token.lower()) for token in tokens]\n",
    "\t# Remove punctuation\n",
    "\ttokens = [token for token in tokens if token.isalnum()]\n",
    "\treturn tokens\n",
    "\n",
    "time_start = time.time()\n",
    "# Process the text in index\n",
    "index_processed = {}\n",
    "for i, (article_id, text) in enumerate(index.items()):\n",
    "\ttime_elapsed = time.time() - time_start\n",
    "\ttime_per_article = time_elapsed / (i+1)\n",
    "\ttime_remaining = time_per_article * (len(index) - i)\n",
    "\tprint(f\"{i+1}/{len(index)}: {article_id}   ; Time remaining: {time_remaining:.2f} seconds          \", end=\"\\r\")\n",
    "\tindex_processed[article_id] = get_clean_tokens(text)\n",
    "print(\"\")\n",
    "elapsed_time = time.time() - time_start\n",
    "print(f\"Processed {len(index)} articles in {elapsed_time:.2f} seconds\")"
   ]
  },
  {
   "cell_type": "code",
   "execution_count": null,
   "metadata": {},
   "outputs": [],
   "source": [
    "# Write the processed index to a file\n",
    "json.dump(index_processed, open(path_index_output, \"w\"), indent=2)"
   ]
  }
 ],
 "metadata": {
  "kernelspec": {
   "display_name": "thesis",
   "language": "python",
   "name": "python3"
  },
  "language_info": {
   "codemirror_mode": {
    "name": "ipython",
    "version": 3
   },
   "file_extension": ".py",
   "mimetype": "text/x-python",
   "name": "python",
   "nbconvert_exporter": "python",
   "pygments_lexer": "ipython3",
   "version": "3.11.3"
  }
 },
 "nbformat": 4,
 "nbformat_minor": 2
}
