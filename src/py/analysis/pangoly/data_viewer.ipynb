{
 "cells": [
  {
   "attachments": {},
   "cell_type": "markdown",
   "metadata": {},
   "source": [
    "# Basic utilities for viewing data from Pangoly"
   ]
  },
  {
   "cell_type": "code",
   "execution_count": null,
   "metadata": {},
   "outputs": [],
   "source": [
    "# imports\n",
    "import os\n",
    "import json\n",
    "import copy\n",
    "import numpy as np\n",
    "import datetime as dt\n",
    "from matplotlib import pyplot as plt"
   ]
  },
  {
   "cell_type": "code",
   "execution_count": null,
   "metadata": {},
   "outputs": [],
   "source": [
    "# Constants\n",
    "path_pangoly_root = \"data/scraped/pangoly\"\n",
    "filepath_pangoly_sample = os.path.join(*[path_pangoly_root, \"Hardware-and-peripherals\", \"Processors\", \"AMD\", \"amd-ryzen-7-2700x.json\"])"
   ]
  },
  {
   "cell_type": "code",
   "execution_count": null,
   "metadata": {},
   "outputs": [],
   "source": [
    "def print_file_counts(path: str = path_pangoly_root):\n",
    "\t\"\"\"\n",
    "\tPrints the number of files in each directory in the pangoly data directory.\n",
    "\t\"\"\"\n",
    "\t# get directories at root level\n",
    "\tdirs = [d for d in os.listdir(path) if os.path.isdir(os.path.join(path, d))]\n",
    "\tfor rdir in dirs:\n",
    "\t\tfilecount = 0\n",
    "\t\tfor root, dirs, files in os.walk(os.path.join(path, rdir)):\n",
    "\t\t\tfilecount += len(files)\n",
    "\t\tprint(f\"'{rdir}': {filecount}\")\n",
    "\n",
    "print_file_counts(os.path.join(path_pangoly_root, \"Hardware-and-peripherals\"))"
   ]
  },
  {
   "cell_type": "code",
   "execution_count": null,
   "metadata": {},
   "outputs": [],
   "source": [
    "data = json.load(open(filepath_pangoly_sample, \"r\"))\n",
    "region_links = data[\"pages\"][\"history\"][\"region_links\"]\n",
    "regions = data[\"pages\"][\"history\"][\"regions\"]"
   ]
  },
  {
   "cell_type": "code",
   "execution_count": null,
   "metadata": {},
   "outputs": [],
   "source": [
    "# convert from list of elements that look like this: [1619740800000.0,392.79] to numpy array - convert first element to a datetime\n",
    "def get_timeseries(timeseries: list) -> list:\n",
    "\t'''\n",
    "\t\tExtracts a timeseries\n",
    "\t'''\n",
    "\t# sort by timestamp ascending\n",
    "\ttimeseries.sort(key=lambda x: x[0])\n",
    "\t# convert timestamp to a datetime\n",
    "\ttimeseries = [(dt.datetime.fromtimestamp(element[0]/1000.0), element[1]) for element in timeseries]\n",
    "\treturn timeseries\n",
    "\n",
    "\n",
    "# timeseries is list of tuples (value: float, timestamp: float)\n",
    "def get_timeseries_info(timeseries: list) -> dict:\n",
    "\t'''\n",
    "\t\tExtracts information about a timeseries\n",
    "\t'''\n",
    "\t# convert first element to a datetime\n",
    "\ttimeseries_copy = copy.deepcopy(timeseries)\n",
    "\ttimeseries_copy = get_timeseries(timeseries_copy)\n",
    "\ttimestamps = np.array([element[0] for element in timeseries_copy])\n",
    "\tprices = np.array([element[1] for element in timeseries_copy])\n",
    "\tinfo = {\n",
    "\t\t\"timestamps\": timestamps,\n",
    "\t\t\"prices\": prices,\n",
    "\t\t\"min\": np.min(prices),\n",
    "\t\t\"max\": np.max(prices),\n",
    "\t\t\"mean\": np.mean(prices),\n",
    "\t\t\"std\": np.std(prices),\n",
    "\t\t\"median\": np.median(prices),\n",
    "\t\t\"count\": len(prices),\n",
    "\t\t\"firstTimestamp\": timestamps[0],\n",
    "\t\t\"lastTimestamp\": timestamps[-1],\n",
    "\t}\n",
    "\treturn info\n",
    "\n",
    "\n",
    "def print_region_info(region: dict):\n",
    "\t'''\n",
    "\t\tPrints basic information about the region\n",
    "\t'''\n",
    "\tcurrency_code = region[\"metadata\"][\"info\"][\"currency\"][\"code\"]\n",
    "\tcurrency_symbol = region[\"metadata\"][\"info\"][\"currency\"][\"symbol\"]\n",
    "\tprint(f\"Region '{region['metadata']['info']['name']}' ({region['metadata']['info']['key']})\")\n",
    "\tif \"price_chart\" in region[\"datapoints\"] and region[\"datapoints\"][\"price_chart\"] is not None:\n",
    "\t\tsellers = region[\"datapoints\"][\"price_chart\"][\"data\"]\n",
    "\t\tprint(f\"Price chart has {len(sellers.keys())} sellers\")\n",
    "\t\tfor seller, price_timeseries in sellers.items():\n",
    "\t\t\tprint(f\"\\tSeller '{seller}' has {len(price_timeseries)} datapoints\")\n",
    "\t\t\ttimeseries_info = get_timeseries_info(price_timeseries)\n",
    "\t\t\tdel timeseries_info[\"timestamps\"]\n",
    "\t\t\tdel timeseries_info[\"prices\"]\n",
    "\t\t\t# print(f\"\\t\\t{json.dumps(timeseries_info, indent=4, default=str)}\")\n",
    "\t\t\t# print all keys (indented)\n",
    "\t\t\tprint(f\"Timeseries info (prices in {currency_code}):\")\n",
    "\t\t\tfor key, value in timeseries_info.items():\n",
    "\t\t\t\tprint(f\"\\t\\t{key}: {value}\")\n",
    "\tif \"trend_history\" in region[\"datapoints\"] and region[\"datapoints\"][\"trend_history\"] is not None:\n",
    "\t\ttrend_history = region[\"datapoints\"][\"trend_history\"][\"data\"]\n",
    "\t\ttrend_title = region[\"datapoints\"][\"trend_history\"][\"title\"].strip()\n",
    "\t\tprint(f\"Trend '{trend_title}' has {len(trend_history)} datapoints\")\n",
    "\t\ttimeseries_info = get_timeseries_info(trend_history)\n",
    "\t\tdel timeseries_info[\"timestamps\"]\n",
    "\t\tdel timeseries_info[\"prices\"]\n",
    "\t\t# print(f\"\\t{json.dumps(timeseries_info, indent=4, default=str)}\")\n",
    "\t\tprint(f\"Timeseries info (prices in {currency_code}):\")\n",
    "\t\tfor key, value in timeseries_info.items():\n",
    "\t\t\t\tprint(f\"\\t\\t{key}: {value}\")\n",
    "\n",
    "\n",
    "def print_regions_info(regions: dict):\n",
    "\t'''\n",
    "\t\tPrints basic information about the regions\n",
    "\t'''\n",
    "\tfor region in regions.values():\n",
    "\t\tprint_region_info(region)\n",
    "\t\tprint()\n",
    "\n",
    "\n",
    "print_regions_info(regions)"
   ]
  }
 ],
 "metadata": {
  "kernelspec": {
   "display_name": "thesis",
   "language": "python",
   "name": "python3"
  },
  "language_info": {
   "codemirror_mode": {
    "name": "ipython",
    "version": 3
   },
   "file_extension": ".py",
   "mimetype": "text/x-python",
   "name": "python",
   "nbconvert_exporter": "python",
   "pygments_lexer": "ipython3",
   "version": "3.11.3"
  }
 },
 "nbformat": 4,
 "nbformat_minor": 2
}
