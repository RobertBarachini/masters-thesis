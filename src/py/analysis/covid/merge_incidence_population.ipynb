{
 "cells": [
  {
   "cell_type": "code",
   "execution_count": null,
   "metadata": {},
   "outputs": [],
   "source": [
    "import os\n",
    "import pandas as pd\n",
    "from datetime import datetime\n",
    "import pycountry\n",
    "from plotly import graph_objects as go\n"
   ]
  },
  {
   "cell_type": "code",
   "execution_count": null,
   "metadata": {},
   "outputs": [],
   "source": [
    "path_who_covid_csv = os.path.join(\"data/scraped/who/who_covid_daily.csv\")\n",
    "path_wb_population_csv = os.path.join(\"data/scraped/world-bank/population-fixed.csv\")\n",
    "path_output_merged_csv = os.path.join(\"data/analysis/covid/who_covid_daily_merged.csv\")"
   ]
  },
  {
   "cell_type": "code",
   "execution_count": null,
   "metadata": {},
   "outputs": [],
   "source": [
    "# Load Covid data\n",
    "df_covid = pd.read_csv(path_who_covid_csv)\n",
    "\n",
    "# Set Date_reported as datetime and index\n",
    "df_covid[\"Date_reported\"] = pd.to_datetime(df_covid[\"Date_reported\"])\n",
    "df_covid.set_index(\"Date_reported\", inplace=True)\n",
    "\n",
    "# Rename Country_code to Country_code_ISO2\n",
    "df_covid.rename(columns={\"Country_code\": \"ISO2\"}, inplace=True)\n",
    "\n",
    "# Convert New_cases, Cumulative_cases, New_deaths, Cumulative_deaths to int\n",
    "df_covid[\"New_cases\"] = df_covid[\"New_cases\"].astype(int)\n",
    "\n",
    "df_covid.head()"
   ]
  },
  {
   "cell_type": "code",
   "execution_count": null,
   "metadata": {},
   "outputs": [],
   "source": [
    "# Check for missing values\n",
    "df_covid.isna().sum()"
   ]
  },
  {
   "cell_type": "code",
   "execution_count": null,
   "metadata": {},
   "outputs": [],
   "source": [
    "# Remove rows with missing values\n",
    "num_rows_before = df_covid.shape[0]\n",
    "df_covid.dropna(inplace=True)\n",
    "num_rows_after = df_covid.shape[0]\n",
    "print(f\"Removed {num_rows_before - num_rows_after} rows with missing values ({num_rows_after} rows remaining)\")"
   ]
  },
  {
   "cell_type": "code",
   "execution_count": null,
   "metadata": {},
   "outputs": [],
   "source": [
    "# Add ISO3 column using ISO2 and pycountry\n",
    "countries_2_3_map = list(df_covid[\"ISO2\"].unique())\n",
    "country_conversion_fails = {}\n",
    "print(f\"Number of unique countries: {len(countries_2_3_map)}\")\n",
    "print(f\"First 3 unique countries: {countries_2_3_map[:3]}\")\n",
    "print(\"\")\n",
    "\n",
    "# convert unique_countries to dict with ISO2 as key and None as value\n",
    "countries_2_3_map = dict.fromkeys(countries_2_3_map, None)\n",
    "for iso2 in countries_2_3_map:\n",
    "\ttry:\n",
    "\t\tcountries_2_3_map[iso2] = pycountry.countries.get(alpha_2=iso2).alpha_3\n",
    "\texcept Exception as e:\n",
    "\t\t# print(f\"Could not find ISO3 for {iso2}\")\n",
    "\t\tcountry_conversion_fails[iso2] = str(e)\n",
    "\n",
    "# Print number of countries that could not be converted\n",
    "print(f\"{len(country_conversion_fails)} countries could not be converted to ISO3:\")\n",
    "for country in country_conversion_fails.keys():\n",
    "\tprint(f\"- '{country}'\")\n",
    "print(f\"Number of countries that could be converted: {len(countries_2_3_map) - len(country_conversion_fails)}\")"
   ]
  },
  {
   "cell_type": "code",
   "execution_count": null,
   "metadata": {},
   "outputs": [],
   "source": [
    "df_xk = df_covid[df_covid[\"ISO2\"] == \"XK\"]\n",
    "df_xk"
   ]
  },
  {
   "cell_type": "code",
   "execution_count": null,
   "metadata": {},
   "outputs": [],
   "source": [
    "# Remove all rows with ISO2 that could not be converted to ISO3\n",
    "num_rows_before = df_covid.shape[0]\n",
    "for i, iso2 in enumerate(country_conversion_fails.keys()):\n",
    "\tprint(f\"{i+1}/{len(country_conversion_fails)} Removing rows with ISO2 '{iso2}'\", end=\"\\r\")\n",
    "\tdf_covid = df_covid[df_covid[\"ISO2\"] != iso2]\n",
    "num_rows_after = df_covid.shape[0]\n",
    "print(\"\")\n",
    "print(f\"Removed {num_rows_before - num_rows_after} rows with ISO2 that could not be converted to ISO3 ({num_rows_after} rows remaining)\")\n"
   ]
  },
  {
   "cell_type": "code",
   "execution_count": null,
   "metadata": {},
   "outputs": [],
   "source": [
    "# Add ISO3 column and move it to the front\n",
    "if \"ISO3\" not in df_covid.columns: # ensure idempotence\n",
    "\tdf_covid.insert(0, \"ISO3\", None)\n",
    "\tdf_covid[\"ISO3\"] = df_covid[\"ISO2\"].map(countries_2_3_map)\n",
    "df_covid.head()"
   ]
  },
  {
   "cell_type": "code",
   "execution_count": null,
   "metadata": {},
   "outputs": [],
   "source": [
    "# Print WHO_region unique values\n",
    "who_regions = list(df_covid[\"WHO_region\"].unique())\n",
    "who_regions_countries = {}\n",
    "for region in who_regions:\n",
    "\twho_regions_countries[region] = list(df_covid[df_covid[\"WHO_region\"] == region][\"ISO3\"].unique())\n",
    "# print(f\"WHO_region unique values: {who_regions}\")\n",
    "print(f\"WHO regions ({len(who_regions)}):\")\n",
    "for region in who_regions:\n",
    "\tprint(f\"- {region} ({len(who_regions_countries[region])} countries)\")"
   ]
  },
  {
   "cell_type": "code",
   "execution_count": null,
   "metadata": {},
   "outputs": [],
   "source": [
    "# Get number of dates for each country\n",
    "countries_rows = {}\n",
    "for country in df_covid[\"ISO3\"].unique():\n",
    "\tcountries_rows[country] = df_covid[df_covid[\"ISO3\"] == country].shape[0]\n",
    "countries_rows = dict(sorted(countries_rows.items(), key=lambda item: item[1], reverse=True))\n",
    "\n",
    "# Group into a dictionary by number of rows\n",
    "countries_rows_groups = {}\n",
    "for country, rows in countries_rows.items():\n",
    "\tif rows not in countries_rows_groups:\n",
    "\t\tcountries_rows_groups[rows] = []\n",
    "\tcountries_rows_groups[rows].append(country)\n",
    "\n",
    "# Print number of countries for each number of rows\n",
    "print(f\"Number of countries for each number of rows ({len(countries_rows_groups)}):\")\n",
    "for rows, countries in countries_rows_groups.items():\n",
    "\tprint(f\"- {rows} rows ({len(countries)} countries)\")"
   ]
  },
  {
   "cell_type": "code",
   "execution_count": null,
   "metadata": {},
   "outputs": [],
   "source": [
    "# NOTE: We could remove countries with less than n-rows, however it seems that all countries have the same number (210) of rows (dates representing weeks)"
   ]
  },
  {
   "cell_type": "code",
   "execution_count": null,
   "metadata": {},
   "outputs": [],
   "source": [
    "# Load population data\n",
    "df_population = pd.read_csv(path_wb_population_csv)\n",
    "\n",
    "# Rename Country Code to ISO3\n",
    "df_population.rename(columns={\"Country Code\": \"ISO3\"}, inplace=True)\n",
    "\n",
    "df_population.head()"
   ]
  },
  {
   "cell_type": "code",
   "execution_count": null,
   "metadata": {},
   "outputs": [],
   "source": [
    "# Get 5-th row\n",
    "first_year_column_name = df_population.columns[4]\n",
    "print(f\"First year column name: {first_year_column_name}\")\n",
    "# Remove all columns between 1960 and 2018 (inclusive)\n",
    "for i in range(1960, 2019):\n",
    "\tif str(i) in df_population.columns:\n",
    "\t\tdf_population.drop(str(i), axis=1, inplace=True)\n",
    "first_year_column_name = df_population.columns[4]\n",
    "print(f\"First year column name (after removing unneeded years): {first_year_column_name}\")\n",
    "df_population.head()"
   ]
  },
  {
   "cell_type": "code",
   "execution_count": null,
   "metadata": {},
   "outputs": [],
   "source": [
    "# Convert all columns between first_year_column_name and last column to int\n",
    "for i in range(int(first_year_column_name), len(df_population.columns)):\n",
    "\tdf_population[str(i)] = df_population[str(i)].astype(int)\n",
    "\n",
    "# Print types\n",
    "df_population.dtypes"
   ]
  },
  {
   "cell_type": "code",
   "execution_count": null,
   "metadata": {},
   "outputs": [],
   "source": [
    "df_population.head()"
   ]
  },
  {
   "cell_type": "code",
   "execution_count": null,
   "metadata": {},
   "outputs": [],
   "source": [
    "print(f\"Number of countries and country groups: {df_population.shape[0]}\")"
   ]
  },
  {
   "cell_type": "code",
   "execution_count": null,
   "metadata": {},
   "outputs": [],
   "source": [
    "# Check for missing values\n",
    "df_population.isna().sum()"
   ]
  },
  {
   "cell_type": "code",
   "execution_count": null,
   "metadata": {},
   "outputs": [],
   "source": [
    "# Remove rows with missing values\n",
    "num_rows_before = df_population.shape[0]\n",
    "df_population.dropna(inplace=True)\n",
    "num_rows_after = df_population.shape[0]\n",
    "print(f\"Removed {num_rows_before - num_rows_after} rows with missing values ({num_rows_after} rows remaining)\")"
   ]
  },
  {
   "cell_type": "code",
   "execution_count": null,
   "metadata": {},
   "outputs": [],
   "source": [
    "# Remove all rows with \"ISO3\" from df_population which are not in countries_2_3_map (values)\n",
    "num_rows_before = df_population.shape[0]\n",
    "df_population = df_population[df_population[\"ISO3\"].isin(countries_2_3_map.values())]\n",
    "num_rows_after = df_population.shape[0]\n",
    "print(f\"Removed {num_rows_before - num_rows_after} rows from df_population with ISO3 that are not in countries_2_3_map ({num_rows_after} rows remaining)\")"
   ]
  },
  {
   "cell_type": "code",
   "execution_count": null,
   "metadata": {},
   "outputs": [],
   "source": [
    "df_population_unique_dict = {}\t# key: ISO3, value: None\n",
    "for iso3 in df_population[\"ISO3\"].unique():\n",
    "\tdf_population_unique_dict[iso3] = None\n",
    "print(f\"Number of unique countries in df_population: {len(df_population_unique_dict)}\")"
   ]
  },
  {
   "cell_type": "code",
   "execution_count": null,
   "metadata": {},
   "outputs": [],
   "source": [
    "# Remove all rows with \"ISO3\" from df_covid which are not in df_population_unique_dict (keys)\n",
    "num_rows_before = df_covid.shape[0]\n",
    "df_covid = df_covid[df_covid[\"ISO3\"].isin(df_population_unique_dict.keys())]\n",
    "num_rows_after = df_covid.shape[0]\n",
    "print(f\"Removed {num_rows_before - num_rows_after} rows from df_covid with ISO3 that are not in df_population_unique_dict ({num_rows_after} rows remaining)\")"
   ]
  },
  {
   "cell_type": "code",
   "execution_count": null,
   "metadata": {},
   "outputs": [],
   "source": [
    "print(f\"Number of unique (matching) countries in both df_covid and df_population: {len(df_covid['ISO3'].unique())}\")"
   ]
  },
  {
   "cell_type": "code",
   "execution_count": null,
   "metadata": {},
   "outputs": [],
   "source": [
    "# Validate that all countries in df_covid are in df_population\n",
    "mismatches = 0\n",
    "for country in df_covid[\"ISO3\"].unique():\n",
    "\tif country not in df_population[\"ISO3\"].unique():\n",
    "\t\tprint(f\"Country '{country}' in df_covid but not in df_population\")\n",
    "\t\tmismatches += 1\n",
    "if mismatches == 0:\n",
    "\tprint(\"All countries in df_covid are in df_population and can be matched\")"
   ]
  },
  {
   "cell_type": "code",
   "execution_count": null,
   "metadata": {},
   "outputs": [],
   "source": [
    "# Print WHO_region unique values and number of countries in each region\n",
    "\n",
    "# Get number of countries in each WHO_region\n",
    "who_regions_countries = {}\n",
    "for region in who_regions:\n",
    "\twho_regions_countries[region] = list(df_covid[df_covid[\"WHO_region\"] == region][\"ISO3\"].unique())\n",
    "\n",
    "print(f\"WHO regions ({len(who_regions)}):\")\n",
    "for region in who_regions:\n",
    "\tprint(f\"- {region} ({len(who_regions_countries[region])} countries)\")"
   ]
  },
  {
   "cell_type": "code",
   "execution_count": null,
   "metadata": {},
   "outputs": [],
   "source": [
    "# NOTE: Population data from World Bank represents mid-year estimates"
   ]
  },
  {
   "cell_type": "code",
   "execution_count": null,
   "metadata": {},
   "outputs": [],
   "source": [
    "index_of_first_year_column = df_population.columns.get_loc(first_year_column_name)\n",
    "year_columns = list(df_population.columns)[index_of_first_year_column:]\n",
    "year_max_covid = df_covid.index.max().year\n",
    "years = list(range(int(first_year_column_name), year_max_covid + 1))\n",
    "years = list(map(str, years))\n",
    "print(f\"Year columns ({len(year_columns)}): {year_columns}\")\n",
    "print(f\"Years ({len(years)}): {years}\")"
   ]
  },
  {
   "cell_type": "code",
   "execution_count": null,
   "metadata": {},
   "outputs": [],
   "source": [
    "# Iterate over all countries in df_covid and df_population and add population to df_covid for every year where they match\n",
    "# Skip if Population column already exists\n",
    "if \"Population\" not in df_covid.columns:\n",
    "\tdf_covid = df_covid.copy()\n",
    "\tfor i, iso3 in enumerate(df_population[\"ISO3\"].unique()):\n",
    "\t\tprint(f\"{i+1}/{len(df_population['ISO3'].unique())} Adding population for {iso3}\", end=\"\\r\")\n",
    "\t\tfor year in years: #year_columns:\n",
    "\t\t\tyear_query = year\n",
    "\t\t\tif year not in year_columns: # fill missing years with last year population data\n",
    "\t\t\t\tyear_query = year_columns[-1]\n",
    "\t\t\tcountry_population = df_population[df_population[\"ISO3\"] == iso3][year_query].values[0]\n",
    "\t\t\t# Set this population for all rows in df_covid where ISO3 matches and str(Date_reported.year) == year\n",
    "\t\t\t# (so each year has the correct population)\n",
    "\t\t\tdf_covid.loc[(df_covid[\"ISO3\"] == iso3) & (df_covid.index.year.astype(str) == year), \"Population\"] = country_population\n",
    "\tprint(\"\")\n",
    "df_covid.tail()"
   ]
  },
  {
   "cell_type": "code",
   "execution_count": null,
   "metadata": {},
   "outputs": [],
   "source": [
    "# Print missing values\n",
    "df_covid.isna().sum()"
   ]
  },
  {
   "cell_type": "code",
   "execution_count": null,
   "metadata": {},
   "outputs": [],
   "source": [
    "# Get population for Slovenia by years\n",
    "print(\"Population for Slovenia by years:\")\n",
    "for year in years:\n",
    "\tdf_slo = df_covid[df_covid[\"ISO3\"] == \"SVN\"]\n",
    "\tdf_slo_year = df_slo[df_slo.index.year.astype(str) == year]\n",
    "\tunique_values = df_slo_year[\"Population\"].unique()\n",
    "\tprint(f\"Year: {year} - unique values: {unique_values}\")"
   ]
  },
  {
   "cell_type": "code",
   "execution_count": null,
   "metadata": {},
   "outputs": [],
   "source": [
    "# Add weighted columns for incidence and mortality per n-people\n",
    "n = 100000 # 100k\n",
    "df_covid[\"New_cases_per_100k\"] = df_covid[\"New_cases\"] / df_covid[\"Population\"] * n\n",
    "df_covid[\"Cumulative_cases_per_100k\"] = df_covid[\"Cumulative_cases\"] / df_covid[\"Population\"] * n\n",
    "df_covid[\"New_deaths_per_100k\"] = df_covid[\"New_deaths\"] / df_covid[\"Population\"] * n\n",
    "df_covid[\"Cumulative_deaths_per_100k\"] = df_covid[\"Cumulative_deaths\"] / df_covid[\"Population\"] * n\n",
    "df_covid.tail()"
   ]
  },
  {
   "cell_type": "code",
   "execution_count": null,
   "metadata": {},
   "outputs": [],
   "source": [
    "# Save CSV with the merged data\n",
    "df_covid.to_csv(path_output_merged_csv)"
   ]
  },
  {
   "cell_type": "code",
   "execution_count": null,
   "metadata": {},
   "outputs": [],
   "source": [
    "# Load merged data\n",
    "df_covid = pd.read_csv(path_output_merged_csv)\n",
    "\n",
    "# Set Date_reported as datetime and index\n",
    "df_covid[\"Date_reported\"] = pd.to_datetime(df_covid[\"Date_reported\"])\n",
    "df_covid.set_index(\"Date_reported\", inplace=True)"
   ]
  },
  {
   "cell_type": "code",
   "execution_count": null,
   "metadata": {},
   "outputs": [],
   "source": [
    "df_covid.head()"
   ]
  },
  {
   "cell_type": "code",
   "execution_count": null,
   "metadata": {},
   "outputs": [],
   "source": [
    "# limit to data between 2020 and 2021\n",
    "df_plot = df_covid[df_covid.index.year >= 2020]\n",
    "\n",
    "# Plot New_cases_per_100k for Slovenia, Croatia, United States, Japan, and China\n",
    "countries = [\"SVN\", \"HRV\", \"USA\", \"JPN\", \"CHN\"]\n",
    "\n",
    "fig = go.Figure()\n",
    "\n",
    "for country in countries:\n",
    "\tfig.add_trace(go.Scatter(\n",
    "\t\tx=df_plot[df_plot[\"ISO3\"] == country].index,\n",
    "\t\ty=df_plot[df_plot[\"ISO3\"] == country][\"New_cases_per_100k\"],\n",
    "\t\tname=country\n",
    "\t))\n",
    "\n",
    "fig.update_layout(\n",
    "\ttitle=\"COVID-19 | New Cases per 100.000 people - Example\",\n",
    "\txaxis_title=\"Date\",\n",
    "\tyaxis_title=\"New cases per 100.000 people\"\n",
    ")\n",
    "\n",
    "fig.show()\n",
    "\n",
    "# Save to PNG 300% zoom, 3:1 aspect ratio\n",
    "fig.write_image(\"data/analysis/covid/plot_covid_new_cases_per_100k_example.png\", scale=3, width=1800, height=600)"
   ]
  }
 ],
 "metadata": {
  "kernelspec": {
   "display_name": "thesis",
   "language": "python",
   "name": "python3"
  },
  "language_info": {
   "codemirror_mode": {
    "name": "ipython",
    "version": 3
   },
   "file_extension": ".py",
   "mimetype": "text/x-python",
   "name": "python",
   "nbconvert_exporter": "python",
   "pygments_lexer": "ipython3",
   "version": "3.11.3"
  }
 },
 "nbformat": 4,
 "nbformat_minor": 2
}
