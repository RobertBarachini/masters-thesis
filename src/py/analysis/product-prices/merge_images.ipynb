{
 "cells": [
  {
   "cell_type": "code",
   "execution_count": null,
   "metadata": {},
   "outputs": [],
   "source": [
    "import os\n",
    "from PIL import Image, ImageDraw\n",
    "from IPython.display import display"
   ]
  },
  {
   "cell_type": "code",
   "execution_count": null,
   "metadata": {},
   "outputs": [],
   "source": [
    "path_visualizations = \"data/keepa/generated/plots/categories-per-domain\"\n",
    "path_output_root = \"data/keepa/generated/plots/categories-per-domain/combined\""
   ]
  },
  {
   "cell_type": "code",
   "execution_count": null,
   "metadata": {},
   "outputs": [],
   "source": [
    "filepaths = [os.path.join(path_visualizations, f) for f in os.listdir(path_visualizations) if os.path.isfile(os.path.join(path_visualizations, f))]\n",
    "print(filepaths[0])\n",
    "print(f\"Number of files: {len(filepaths)}\")\n"
   ]
  },
  {
   "cell_type": "code",
   "execution_count": null,
   "metadata": {},
   "outputs": [],
   "source": [
    "categories = {}\n",
    "# Group by category\n",
    "for filepath in filepaths:\n",
    "\t# get just the filename without the extension\n",
    "\tfilename = os.path.basename(filepath)\n",
    "\tfilename = os.path.splitext(filename)[0]\n",
    "\tfilename_no_domain = filename.split(\"-\")\n",
    "\tfilename_no_domain = \"-\".join(filename_no_domain[:-2])\n",
    "\tif filename_no_domain not in categories:\n",
    "\t\tcategories[filename_no_domain] = []\n",
    "\tcategories[filename_no_domain].append(filepath)\n",
    "# Sort dictionary by key string (category names)\n",
    "categories = dict(sorted(categories.items()))\n",
    "# Sort each category by filename\n",
    "for category, paths in categories.items():\n",
    "\tpaths.sort()\n",
    "\tfilenames = [os.path.basename(filepath) for filepath in paths]\n",
    "\tprint(f\"{category}: {filenames}\")\n"
   ]
  },
  {
   "cell_type": "code",
   "execution_count": null,
   "metadata": {},
   "outputs": [],
   "source": [
    "# 2x2 grid of PNG images\n",
    "def combine_images(paths: list) -> Image: # type: ignore\n",
    "\t# Open the images\n",
    "\timage1 = Image.open(paths[0])\n",
    "\timage2 = Image.open(paths[1])\n",
    "\timage3 = Image.open(paths[2])\n",
    "\timage4 = Image.open(paths[3])\n",
    "\n",
    "\t# Get the size of the images - all images should be the same size\n",
    "\twidth, height = image1.size\n",
    "\n",
    "\t# Decrease 400 pixels in width (crop legend on the right)\n",
    "\twidth -= 580\n",
    "\n",
    "\t# Create a new image with twice the width\n",
    "\tnew_image = Image.new('RGB', (2 * width + 580, 2 * height), (255, 255, 255)) # add back the 580 pixels so we keep the legend on the right\n",
    "\n",
    "\t# Paste the images into the new image\n",
    "\tnew_image.paste(image1, (0, 0))\n",
    "\tnew_image.paste(image2, (width, 0))\n",
    "\tnew_image.paste(image3, (0, height))\n",
    "\tnew_image.paste(image4, (width, height))\n",
    "\n",
    "\t# Paint a white rectangle from bottom right to top-800px, 580 pixels in width\n",
    "\t# This is to cover the bottom legend on the right\n",
    "\tdraw = ImageDraw.Draw(new_image)\n",
    "\ttop_left = (width * 2 + 20, height - 800)\n",
    "\tbottom_right = (2 * width + 580, height * 2)\n",
    "\tdraw.rectangle([top_left, bottom_right], fill=(255, 255, 255)) # type: ignore\n",
    "\n",
    "\treturn new_image # type: ignore\n",
    "\n",
    "def scale_image(image: Image, scale: float) -> Image: # type: ignore\n",
    "\twidth, height = image.size # type: ignore\n",
    "\tnew_width = int(width * scale)\n",
    "\tnew_height = int(height * scale)\n",
    "\treturn image.resize((new_width, new_height), Image.LANCZOS) # type: ignore\n",
    "\n",
    "sample_image = combine_images(categories[list(categories.keys())[-1]])\n",
    "# sample_image.show() # doesn't work in remote SSH Jupyter notebook\n",
    "# display(sample_image) # commented out to avoid displaying the image in the notebook (it's too big)\n",
    "sample_image = scale_image(sample_image, 1.0 / 8.0) # type: ignore\n",
    "display(sample_image)"
   ]
  },
  {
   "cell_type": "code",
   "execution_count": null,
   "metadata": {},
   "outputs": [],
   "source": [
    "# Save combined images\n",
    "if not os.path.exists(path_output_root):\n",
    "\tos.makedirs(path_output_root)\n",
    "for category, paths in categories.items():\n",
    "\tcombined_image = combine_images(paths)\n",
    "\tcombined_image.save(os.path.join(path_output_root, f\"{category}.png\")) # type: ignore\n",
    "\tprint(f\"Saved '{category}.png'\")"
   ]
  },
  {
   "cell_type": "code",
   "execution_count": null,
   "metadata": {},
   "outputs": [],
   "source": [
    "# Combine image for all four domains\n",
    "path_domains_root = \"data/keepa/generated/plots/domains-all-categories\"\n",
    "path_domains_output = os.path.join(path_domains_root, \"combined\")\n",
    "if not os.path.exists(path_domains_output):\n",
    "\tos.makedirs(path_domains_output)\n",
    "filepaths_domains = [os.path.join(path_domains_root, f) for f in os.listdir(path_domains_root) if os.path.isfile(os.path.join(path_domains_root, f))]\n",
    "filepaths_domains.sort()\n",
    "# print(filepaths_domains)\n",
    "combined_image = combine_images(filepaths_domains)\n",
    "combined_image.save(os.path.join(path_domains_output, \"domains-combined.png\")) # type: ignore"
   ]
  }
 ],
 "metadata": {
  "kernelspec": {
   "display_name": "thesis",
   "language": "python",
   "name": "python3"
  },
  "language_info": {
   "codemirror_mode": {
    "name": "ipython",
    "version": 3
   },
   "file_extension": ".py",
   "mimetype": "text/x-python",
   "name": "python",
   "nbconvert_exporter": "python",
   "pygments_lexer": "ipython3",
   "version": "3.11.3"
  }
 },
 "nbformat": 4,
 "nbformat_minor": 2
}
